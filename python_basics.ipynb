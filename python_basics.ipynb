{
  "nbformat": 4,
  "nbformat_minor": 0,
  "metadata": {
    "colab": {
      "name": "python basics.ipynb",
      "provenance": [],
      "authorship_tag": "ABX9TyP61XkBqxWah05ckAHOC92B",
      "include_colab_link": true
    },
    "kernelspec": {
      "name": "python3",
      "display_name": "Python 3"
    },
    "language_info": {
      "name": "python"
    }
  },
  "cells": [
    {
      "cell_type": "markdown",
      "metadata": {
        "id": "view-in-github",
        "colab_type": "text"
      },
      "source": [
        "<a href=\"https://colab.research.google.com/github/SuryARavichan/python-basics/blob/main/python_basics.ipynb\" target=\"_parent\"><img src=\"https://colab.research.google.com/assets/colab-badge.svg\" alt=\"Open In Colab\"/></a>"
      ]
    },
    {
      "cell_type": "code",
      "metadata": {
        "id": "kQAGgrk-3Oty",
        "colab": {
          "base_uri": "https://localhost:8080/"
        },
        "outputId": "d5fa9fa2-8ff3-4cbc-aeb5-b272f586df52"
      },
      "source": [
        "print('welcome to the python basics!')\n",
        "print(\"Hello!, Let's get started!\")\n"
      ],
      "execution_count": null,
      "outputs": [
        {
          "output_type": "stream",
          "name": "stdout",
          "text": [
            "welcome to the python basics!\n",
            "Hello!, Let's get started!\n"
          ]
        }
      ]
    },
    {
      "cell_type": "code",
      "metadata": {
        "colab": {
          "base_uri": "https://localhost:8080/"
        },
        "id": "NcpSDVyK8Tz8",
        "outputId": "97a8a489-aa4d-4df9-86c0-b98f3ce2a5ff"
      },
      "source": [
        "a = 451515\n",
        "b = 789569\n",
        "print(a + b)\n",
        "print(a - b)\n",
        "print(a * b)\n",
        "print(a / b)\n",
        "print(a // b)\n"
      ],
      "execution_count": null,
      "outputs": [
        {
          "output_type": "stream",
          "name": "stdout",
          "text": [
            "1241084\n",
            "-338054\n",
            "356502247035\n",
            "0.5718499586483259\n",
            "0\n"
          ]
        }
      ]
    },
    {
      "cell_type": "code",
      "metadata": {
        "colab": {
          "base_uri": "https://localhost:8080/"
        },
        "id": "Ipimrn83807Y",
        "outputId": "057e4eed-e095-4e11-cdca-6e27d69da051"
      },
      "source": [
        "user = int(input('enter your number: '))\n",
        "square_root = user ** 0.5\n",
        "print('the square root of the number is', square_root)"
      ],
      "execution_count": null,
      "outputs": [
        {
          "output_type": "stream",
          "name": "stdout",
          "text": [
            "enter your number: 157888\n",
            "the square root of the number is 397.3512300220046\n"
          ]
        }
      ]
    },
    {
      "cell_type": "code",
      "metadata": {
        "colab": {
          "base_uri": "https://localhost:8080/"
        },
        "id": "FhxV0KpV9OAH",
        "outputId": "7101a062-9802-47bd-af92-714a385f4526"
      },
      "source": [
        "x = int(input('enter the number: '))\n",
        "y = int(input('enter the number: '))\n",
        "temp = x\n",
        "x = y\n",
        "y = temp\n",
        "print('the values after swapping is: {}'.format(x))\n",
        "print('the values after swapping is: {}'.format(y))\n"
      ],
      "execution_count": 9,
      "outputs": [
        {
          "output_type": "stream",
          "name": "stdout",
          "text": [
            "enter the number: 45\n",
            "enter the number: 58\n",
            "the values after swapping is: 58\n",
            "the values after swapping is: 45\n"
          ]
        }
      ]
    },
    {
      "cell_type": "code",
      "metadata": {
        "colab": {
          "base_uri": "https://localhost:8080/"
        },
        "id": "FittRB92akkc",
        "outputId": "5f52fe05-d33c-4e99-fab3-667c9678dd7c"
      },
      "source": [
        "import random\n",
        "surya = random.randint(0,15)\n",
        "print(surya)"
      ],
      "execution_count": 21,
      "outputs": [
        {
          "output_type": "stream",
          "name": "stdout",
          "text": [
            "8\n"
          ]
        }
      ]
    },
    {
      "cell_type": "code",
      "metadata": {
        "colab": {
          "base_uri": "https://localhost:8080/"
        },
        "id": "OfOkUlbCblOf",
        "outputId": "88bd0e42-2ad8-4929-eade-03cdf4c7373a"
      },
      "source": [
        "kilometers = int(input('enter the respective number: '))\n",
        "conv_factor = 0.621371\n",
        "meters = kilometers * conv_factor\n",
        "print('the converted value of the meters is: ',meters)"
      ],
      "execution_count": 24,
      "outputs": [
        {
          "output_type": "stream",
          "name": "stdout",
          "text": [
            "enter the respective number: 4587853\n",
            "the converted value of the meters is:  2850758.806463\n"
          ]
        }
      ]
    },
    {
      "cell_type": "code",
      "metadata": {
        "colab": {
          "base_uri": "https://localhost:8080/"
        },
        "id": "AiTnOvL4cIWW",
        "outputId": "5a17eeda-d44b-4fc8-dced-c6b39afc2979"
      },
      "source": [
        "cel = int(input('enter the respective number: '))\n",
        "fah = 1.8\n",
        "celsius = cel * fah + 1.32\n",
        "print('the cooverted value of celsisus to fahrenheit is: ',celsius)"
      ],
      "execution_count": 27,
      "outputs": [
        {
          "output_type": "stream",
          "name": "stdout",
          "text": [
            "enter the respective number: 458855\n",
            "the cooverted value of celsisus to fahrenheit is:  825940.32\n"
          ]
        }
      ]
    },
    {
      "cell_type": "code",
      "metadata": {
        "colab": {
          "base_uri": "https://localhost:8080/"
        },
        "id": "IZ-7SIrPcwPy",
        "outputId": "d85cacc5-6c02-4548-e16a-1b322a06a94e"
      },
      "source": [
        "a = int(input('enter the number: '))\n",
        "if a>0:\n",
        "  print('positive number')\n",
        "elif a<0:\n",
        "  print('negative number')\n",
        "else:\n",
        "  print('zero')"
      ],
      "execution_count": 34,
      "outputs": [
        {
          "output_type": "stream",
          "name": "stdout",
          "text": [
            "enter the number: 0\n",
            "zero\n"
          ]
        }
      ]
    },
    {
      "cell_type": "code",
      "metadata": {
        "colab": {
          "base_uri": "https://localhost:8080/"
        },
        "id": "cjX-lbFKda7G",
        "outputId": "7f91fdea-7c39-43e6-a1e9-7e10f093b8c8"
      },
      "source": [
        "nat = int(input('enter the number: '))\n",
        "if nat%2==0:\n",
        "  print('even number')\n",
        "else:\n",
        "  print('odd number')"
      ],
      "execution_count": 37,
      "outputs": [
        {
          "output_type": "stream",
          "name": "stdout",
          "text": [
            "enter the number: 78\n",
            "even number\n"
          ]
        }
      ]
    },
    {
      "cell_type": "code",
      "metadata": {
        "colab": {
          "base_uri": "https://localhost:8080/"
        },
        "id": "KoIdvIwEd4rQ",
        "outputId": "8b6f6874-0575-4151-f776-cc850ca1b4d6"
      },
      "source": [
        "leapyear = int(input('enter the number: '))\n",
        "if leapyear %4==0:\n",
        "  print('the given year is a leap year')\n",
        "else:\n",
        "  print('the given year is not a leap year')\n",
        "  "
      ],
      "execution_count": 40,
      "outputs": [
        {
          "output_type": "stream",
          "name": "stdout",
          "text": [
            "enter the number: 2021\n",
            "the given year is not a leap year\n"
          ]
        }
      ]
    },
    {
      "cell_type": "code",
      "metadata": {
        "colab": {
          "base_uri": "https://localhost:8080/"
        },
        "id": "WEa3ihskgpaH",
        "outputId": "b40c4f82-5aef-4944-cb23-ef71821d0df4"
      },
      "source": [
        "num1 = int(input('enter the number: '))\n",
        "num2 = int(input('enter the number: '))\n",
        "num3 = int(input('enter the number: '))\n",
        "if (num1>=num2) and (num1>=num3):\n",
        "  print('num1 is largest number from the list')\n",
        "elif (num2>=num1) and (num2>=num3):\n",
        "  print('num2 is largest number from the list')\n",
        "else:\n",
        "  print('num3 is largest number from the list')"
      ],
      "execution_count": 44,
      "outputs": [
        {
          "output_type": "stream",
          "name": "stdout",
          "text": [
            "enter the number: 12\n",
            "enter the number: 56\n",
            "enter the number: 0\n",
            "num2 is largest number from the list\n"
          ]
        }
      ]
    },
    {
      "cell_type": "code",
      "metadata": {
        "colab": {
          "base_uri": "https://localhost:8080/"
        },
        "id": "EP2likIKhl05",
        "outputId": "cc4bd6c2-edd8-4685-9c8c-7bcefda8b10b"
      },
      "source": [
        "natali = int(input('enter the number: '))\n",
        "if natali %2!=0:\n",
        "  print('prime number')\n",
        "else:\n",
        "  print('not a prime number')"
      ],
      "execution_count": 47,
      "outputs": [
        {
          "output_type": "stream",
          "name": "stdout",
          "text": [
            "enter the number: 10\n",
            "not a prime number\n"
          ]
        }
      ]
    },
    {
      "cell_type": "code",
      "metadata": {
        "colab": {
          "base_uri": "https://localhost:8080/",
          "height": 35
        },
        "id": "SjVKHqhHiG11",
        "outputId": "70b73699-4fe4-49ef-aacc-e82569aaeddf"
      },
      "source": [
        "'surya from the united states of america'[::-1]"
      ],
      "execution_count": 52,
      "outputs": [
        {
          "output_type": "execute_result",
          "data": {
            "application/vnd.google.colaboratory.intrinsic+json": {
              "type": "string"
            },
            "text/plain": [
              "'acirema fo setats detinu eht morf ayrus'"
            ]
          },
          "metadata": {},
          "execution_count": 52
        }
      ]
    }
  ]
}