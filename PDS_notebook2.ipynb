{
  "nbformat": 4,
  "nbformat_minor": 0,
  "metadata": {
    "colab": {
      "provenance": [],
      "collapsed_sections": [],
      "include_colab_link": true
    },
    "language_info": {
      "codemirror_mode": {
        "name": "ipython",
        "version": 3
      },
      "file_extension": ".py",
      "mimetype": "text/x-python",
      "name": "python",
      "nbconvert_exporter": "python",
      "pygments_lexer": "ipython3",
      "version": "3.6.3"
    },
    "kernelspec": {
      "display_name": "Python 3",
      "language": "python",
      "name": "python3"
    }
  },
  "cells": [
    {
      "cell_type": "markdown",
      "metadata": {
        "id": "view-in-github",
        "colab_type": "text"
      },
      "source": [
        "<a href=\"https://colab.research.google.com/github/SuryARavichan/python-basics/blob/main/PDS_notebook2.ipynb\" target=\"_parent\"><img src=\"https://colab.research.google.com/assets/colab-badge.svg\" alt=\"Open In Colab\"/></a>"
      ]
    },
    {
      "cell_type": "markdown",
      "metadata": {
        "id": "Eycv7FWSpuH4"
      },
      "source": [
        "### Lists"
      ]
    },
    {
      "cell_type": "code",
      "metadata": {
        "id": "7Y2TIHdkSBwh"
      },
      "source": [
        "#LIST is mutable[read & edit] in Python\n",
        "#It can hold all data types (int,float,string,bool)"
      ],
      "execution_count": null,
      "outputs": []
    },
    {
      "cell_type": "code",
      "metadata": {
        "id": "9GTkWd2kJASm"
      },
      "source": [
        "import numpy as np"
      ],
      "execution_count": null,
      "outputs": []
    },
    {
      "cell_type": "code",
      "metadata": {
        "id": "f6GovumQvahE",
        "colab": {
          "base_uri": "https://localhost:8080/"
        },
        "outputId": "fb3c9bbd-b480-4b49-b843-34f828e2c71e"
      },
      "source": [
        "a=[10,'Rajesh',25.6,'Nithya',100,'Python',8]\n",
        "type(a),len(a)"
      ],
      "execution_count": null,
      "outputs": [
        {
          "output_type": "execute_result",
          "data": {
            "text/plain": [
              "(list, 7)"
            ]
          },
          "metadata": {},
          "execution_count": 55
        }
      ]
    },
    {
      "cell_type": "code",
      "source": [
        "np.array([2.5,6,4.8])"
      ],
      "metadata": {
        "colab": {
          "base_uri": "https://localhost:8080/"
        },
        "id": "f_jSqhE9H2dE",
        "outputId": "57adc28c-94d9-4b9c-8e4d-b9b89616a09b"
      },
      "execution_count": null,
      "outputs": [
        {
          "output_type": "execute_result",
          "data": {
            "text/plain": [
              "array([2.5, 6. , 4.8])"
            ]
          },
          "metadata": {},
          "execution_count": 31
        }
      ]
    },
    {
      "cell_type": "code",
      "source": [
        "[2.5,6,4.8]"
      ],
      "metadata": {
        "colab": {
          "base_uri": "https://localhost:8080/"
        },
        "id": "saV-LvJ3HH9p",
        "outputId": "5280d36c-e156-4c4c-9b63-dce8fa7a80d1"
      },
      "execution_count": null,
      "outputs": [
        {
          "output_type": "execute_result",
          "data": {
            "text/plain": [
              "[2.5, 6, 4.8]"
            ]
          },
          "metadata": {},
          "execution_count": 32
        }
      ]
    },
    {
      "cell_type": "code",
      "metadata": {
        "id": "tJkMQdgMJd0R",
        "colab": {
          "base_uri": "https://localhost:8080/"
        },
        "outputId": "e8a9802e-830c-429b-8b1b-65996907cfa0"
      },
      "source": [
        "a[:3]"
      ],
      "execution_count": null,
      "outputs": [
        {
          "output_type": "execute_result",
          "data": {
            "text/plain": [
              "[10, 'Rajesh', 25.6]"
            ]
          },
          "metadata": {},
          "execution_count": 24
        }
      ]
    },
    {
      "cell_type": "code",
      "source": [
        "aa=a[::2]\n",
        "aa"
      ],
      "metadata": {
        "colab": {
          "base_uri": "https://localhost:8080/"
        },
        "id": "jMDdu5Oion7Q",
        "outputId": "cd4f0ef6-72b7-4694-bca2-b7aff2416fe3"
      },
      "execution_count": null,
      "outputs": [
        {
          "output_type": "execute_result",
          "data": {
            "text/plain": [
              "[10, 25.6, 100, 8]"
            ]
          },
          "metadata": {},
          "execution_count": 29
        }
      ]
    },
    {
      "cell_type": "code",
      "metadata": {
        "id": "TuatWhrZJDyr",
        "colab": {
          "base_uri": "https://localhost:8080/"
        },
        "outputId": "14eb0923-915a-4990-c1a1-5c85070d2c02"
      },
      "source": [
        "np.mean(aa)"
      ],
      "execution_count": null,
      "outputs": [
        {
          "output_type": "execute_result",
          "data": {
            "text/plain": [
              "35.9"
            ]
          },
          "metadata": {},
          "execution_count": 30
        }
      ]
    },
    {
      "cell_type": "code",
      "metadata": {
        "id": "npnNybzVIuk7",
        "colab": {
          "base_uri": "https://localhost:8080/",
          "height": 34
        },
        "outputId": "25694027-b9aa-4886-9172-2f012eb3c48d"
      },
      "source": [
        "aa=[7,12,8,16,4]\n",
        "type(aa)"
      ],
      "execution_count": null,
      "outputs": [
        {
          "output_type": "execute_result",
          "data": {
            "text/plain": [
              "list"
            ]
          },
          "metadata": {
            "tags": []
          },
          "execution_count": 6
        }
      ]
    },
    {
      "cell_type": "code",
      "metadata": {
        "id": "6N-Cm4XZJ2Lw",
        "colab": {
          "base_uri": "https://localhost:8080/",
          "height": 34
        },
        "outputId": "3c359b32-95b1-49f8-b22b-b56df59ccde7"
      },
      "source": [
        "a[5]"
      ],
      "execution_count": null,
      "outputs": [
        {
          "output_type": "execute_result",
          "data": {
            "text/plain": [
              "8"
            ]
          },
          "metadata": {
            "tags": []
          },
          "execution_count": 12
        }
      ]
    },
    {
      "cell_type": "code",
      "source": [
        "type(a)"
      ],
      "metadata": {
        "colab": {
          "base_uri": "https://localhost:8080/"
        },
        "id": "R9pCKLc_IEe3",
        "outputId": "3f9f0e64-22df-4898-8752-2de902c71f0f"
      },
      "execution_count": null,
      "outputs": [
        {
          "output_type": "execute_result",
          "data": {
            "text/plain": [
              "list"
            ]
          },
          "metadata": {},
          "execution_count": 36
        }
      ]
    },
    {
      "cell_type": "code",
      "source": [
        "t=(10, 'Rajesh', 25.6, 'Nithya', 100, 'Python', 8)\n",
        "type(t)"
      ],
      "metadata": {
        "colab": {
          "base_uri": "https://localhost:8080/"
        },
        "id": "_ooFRGNbIl4z",
        "outputId": "fbdff670-0ef8-49a9-8f4c-262810b285df"
      },
      "execution_count": null,
      "outputs": [
        {
          "output_type": "execute_result",
          "data": {
            "text/plain": [
              "tuple"
            ]
          },
          "metadata": {},
          "execution_count": 35
        }
      ]
    },
    {
      "cell_type": "code",
      "source": [
        "t[5]\n"
      ],
      "metadata": {
        "colab": {
          "base_uri": "https://localhost:8080/",
          "height": 35
        },
        "id": "tACiPzdNIttg",
        "outputId": "0d330dbc-02ce-496e-ad92-85d54071a3d2"
      },
      "execution_count": null,
      "outputs": [
        {
          "output_type": "execute_result",
          "data": {
            "text/plain": [
              "'Python'"
            ],
            "application/vnd.google.colaboratory.intrinsic+json": {
              "type": "string"
            }
          },
          "metadata": {},
          "execution_count": 38
        }
      ]
    },
    {
      "cell_type": "code",
      "metadata": {
        "id": "CySH4oPpv7o8",
        "colab": {
          "base_uri": "https://localhost:8080/"
        },
        "outputId": "58c92d92-61df-44e9-8fe0-f4336dc813d0"
      },
      "source": [
        "a[5]='java'\n",
        "a"
      ],
      "execution_count": null,
      "outputs": [
        {
          "output_type": "execute_result",
          "data": {
            "text/plain": [
              "[10, 'Rajesh', 25.6, 'Nithya', 100, 'java', 8]"
            ]
          },
          "metadata": {},
          "execution_count": 56
        }
      ]
    },
    {
      "cell_type": "code",
      "metadata": {
        "id": "e1zka27OxhQE",
        "colab": {
          "base_uri": "https://localhost:8080/"
        },
        "outputId": "da2fbe82-79f4-45c0-e9d3-22e7e00e5cc5"
      },
      "source": [
        "a.append('Julia') #append is a method exclusively reserved for List\n",
        "a"
      ],
      "execution_count": null,
      "outputs": [
        {
          "output_type": "execute_result",
          "data": {
            "text/plain": [
              "[10, 'Rajesh', 25.6, 'Nithya', 100, 'java', 8, 'Julia']"
            ]
          },
          "metadata": {},
          "execution_count": 57
        }
      ]
    },
    {
      "cell_type": "code",
      "metadata": {
        "id": "7fc69a4qLrbO",
        "colab": {
          "base_uri": "https://localhost:8080/"
        },
        "outputId": "bd22fb80-6ea8-49fc-ac35-38eabf4059b1"
      },
      "source": [
        "a.pop()\n",
        "a"
      ],
      "execution_count": null,
      "outputs": [
        {
          "output_type": "execute_result",
          "data": {
            "text/plain": [
              "[]"
            ]
          },
          "metadata": {},
          "execution_count": 49
        }
      ]
    },
    {
      "cell_type": "code",
      "metadata": {
        "id": "Vzt0XkZpLgIf",
        "colab": {
          "base_uri": "https://localhost:8080/"
        },
        "outputId": "459a9d55-8c93-4215-f5c6-1a6cae0f8682"
      },
      "source": [
        "a"
      ],
      "execution_count": null,
      "outputs": [
        {
          "output_type": "execute_result",
          "data": {
            "text/plain": [
              "[10, 'Rajesh', 25.6, 'Nithya', 100, 'java', 8, 'Julia']"
            ]
          },
          "metadata": {},
          "execution_count": 58
        }
      ]
    },
    {
      "cell_type": "code",
      "metadata": {
        "id": "EAstlS0Cx4PV",
        "colab": {
          "base_uri": "https://localhost:8080/"
        },
        "outputId": "0939efed-8949-44a5-ca95-5e851b01e17d"
      },
      "source": [
        "a.insert(2,50)\n",
        "a"
      ],
      "execution_count": null,
      "outputs": [
        {
          "output_type": "execute_result",
          "data": {
            "text/plain": [
              "[10, 'Rajesh', 50, 25.6, True, 'Nithya', 100, 'java', 8, 'Julia']"
            ]
          },
          "metadata": {},
          "execution_count": 60
        }
      ]
    },
    {
      "cell_type": "code",
      "metadata": {
        "id": "e6-9VvDVMgg-",
        "colab": {
          "base_uri": "https://localhost:8080/"
        },
        "outputId": "e3a8c902-9aee-48c0-c8c6-9bdfa73b7707"
      },
      "source": [
        "a.pop(3)\n",
        "a"
      ],
      "execution_count": null,
      "outputs": [
        {
          "output_type": "execute_result",
          "data": {
            "text/plain": [
              "[10, 'Rajesh', 50, True, 'Nithya', 100, 'java', 8, 'Julia']"
            ]
          },
          "metadata": {},
          "execution_count": 61
        }
      ]
    },
    {
      "cell_type": "code",
      "metadata": {
        "id": "l7mJMFmuyK6_",
        "colab": {
          "base_uri": "https://localhost:8080/"
        },
        "outputId": "80dccc15-20ed-4948-8fe1-6d48518dc5f7"
      },
      "source": [
        "a.append(True)\n",
        "a"
      ],
      "execution_count": null,
      "outputs": [
        {
          "output_type": "execute_result",
          "data": {
            "text/plain": [
              "[10, 'Rajesh', 25.6, 'Nithya', 100, 'java', 8, True]"
            ]
          },
          "metadata": {},
          "execution_count": 27
        }
      ]
    },
    {
      "cell_type": "code",
      "metadata": {
        "id": "o6jrFTk3yQzg",
        "colab": {
          "base_uri": "https://localhost:8080/",
          "height": 36
        },
        "outputId": "8b5202f2-f8f8-4b0d-b48c-683ac564f408"
      },
      "source": [
        "5<10  #TRUE in R , True in Python"
      ],
      "execution_count": null,
      "outputs": [
        {
          "output_type": "execute_result",
          "data": {
            "text/plain": [
              "True"
            ]
          },
          "metadata": {
            "tags": []
          },
          "execution_count": 18
        }
      ]
    },
    {
      "cell_type": "code",
      "metadata": {
        "id": "q-CM7lNhvxrb",
        "colab": {
          "base_uri": "https://localhost:8080/",
          "height": 36
        },
        "outputId": "52daefe9-7a47-45de-8744-248fd668a71f"
      },
      "source": [
        "a.pop()\n",
        "a"
      ],
      "execution_count": null,
      "outputs": [
        {
          "output_type": "execute_result",
          "data": {
            "text/plain": [
              "[10, 'Rajesh', 25.6, 22.7, 'Nithya', 100, 'java', 'Python', 'Julia']"
            ]
          },
          "metadata": {
            "tags": []
          },
          "execution_count": 19
        }
      ]
    },
    {
      "cell_type": "code",
      "metadata": {
        "id": "zXiAqpEhyzc_",
        "colab": {
          "base_uri": "https://localhost:8080/",
          "height": 36
        },
        "outputId": "e53bc5e7-e586-4ada-ec49-9ca9b1e452ef"
      },
      "source": [
        "a.pop(3)\n",
        "a"
      ],
      "execution_count": null,
      "outputs": [
        {
          "output_type": "execute_result",
          "data": {
            "text/plain": [
              "[10, 'Rajesh', 25.6, 'Nithya', 100, 'java', 'Python', 'Julia']"
            ]
          },
          "metadata": {
            "tags": []
          },
          "execution_count": 20
        }
      ]
    },
    {
      "cell_type": "code",
      "metadata": {
        "id": "lAtyKOmFpuH-",
        "colab": {
          "base_uri": "https://localhost:8080/"
        },
        "outputId": "ed7502b3-b586-4199-e064-8cdf49f345d0"
      },
      "source": [
        "r=5\n",
        "A=[10,20,4,30,16] #Pure Numerical List\n",
        "a=(10,20,30) #Tuple is read only\n",
        "type(A),type(a)"
      ],
      "execution_count": null,
      "outputs": [
        {
          "output_type": "execute_result",
          "data": {
            "text/plain": [
              "(list, tuple)"
            ]
          },
          "metadata": {},
          "execution_count": 62
        }
      ]
    },
    {
      "cell_type": "code",
      "source": [
        "np.min(a),np.argmin(a)"
      ],
      "metadata": {
        "colab": {
          "base_uri": "https://localhost:8080/"
        },
        "id": "n19u2cQXL8z2",
        "outputId": "04169b09-c369-4baa-a910-fa4f4705c845"
      },
      "execution_count": null,
      "outputs": [
        {
          "output_type": "execute_result",
          "data": {
            "text/plain": [
              "(10, 0)"
            ]
          },
          "metadata": {},
          "execution_count": 71
        }
      ]
    },
    {
      "cell_type": "code",
      "source": [
        "np.max(a),np.argmax(a)"
      ],
      "metadata": {
        "colab": {
          "base_uri": "https://localhost:8080/"
        },
        "id": "VThujwoKMDoL",
        "outputId": "9411af18-9a6d-4ac6-b6f5-69f400ee23d1"
      },
      "execution_count": null,
      "outputs": [
        {
          "output_type": "execute_result",
          "data": {
            "text/plain": [
              "(30, 2)"
            ]
          },
          "metadata": {},
          "execution_count": 72
        }
      ]
    },
    {
      "cell_type": "code",
      "metadata": {
        "id": "0Wy4O0O7zSPs",
        "colab": {
          "base_uri": "https://localhost:8080/"
        },
        "outputId": "f15d8c9a-745c-4ead-cf3b-2ff990cb6d07"
      },
      "source": [
        "import numpy as np #alias for Numpy\n",
        "import pandas as pd\n",
        "np.mean(A)"
      ],
      "execution_count": null,
      "outputs": [
        {
          "output_type": "execute_result",
          "data": {
            "text/plain": [
              "16.0"
            ]
          },
          "metadata": {},
          "execution_count": 63
        }
      ]
    },
    {
      "cell_type": "code",
      "source": [
        "np.mean(a)"
      ],
      "metadata": {
        "colab": {
          "base_uri": "https://localhost:8080/"
        },
        "id": "w-J4JtFFLGQ_",
        "outputId": "835e4a87-e264-41e7-b5bf-e59ea9a6d71b"
      },
      "execution_count": null,
      "outputs": [
        {
          "output_type": "execute_result",
          "data": {
            "text/plain": [
              "20.0"
            ]
          },
          "metadata": {},
          "execution_count": 64
        }
      ]
    },
    {
      "cell_type": "code",
      "metadata": {
        "id": "EIhZ7HQx0R4V",
        "colab": {
          "base_uri": "https://localhost:8080/"
        },
        "outputId": "394dfc5b-34f2-4ea5-ba31-1ed288323016"
      },
      "source": [
        "np.median(A)"
      ],
      "execution_count": null,
      "outputs": [
        {
          "output_type": "execute_result",
          "data": {
            "text/plain": [
              "16.0"
            ]
          },
          "metadata": {},
          "execution_count": 65
        }
      ]
    },
    {
      "cell_type": "code",
      "metadata": {
        "id": "Ds9nCE4WNDWR",
        "colab": {
          "base_uri": "https://localhost:8080/",
          "height": 34
        },
        "outputId": "00fbabe4-0405-467a-be7f-5979b8c32b46"
      },
      "source": [
        "np.min(A),np.argmin(A)"
      ],
      "execution_count": null,
      "outputs": [
        {
          "output_type": "execute_result",
          "data": {
            "text/plain": [
              "(4, 2)"
            ]
          },
          "metadata": {
            "tags": []
          },
          "execution_count": 30
        }
      ]
    },
    {
      "cell_type": "code",
      "metadata": {
        "id": "AQ1xEUjcNg9d",
        "colab": {
          "base_uri": "https://localhost:8080/",
          "height": 34
        },
        "outputId": "834ff406-4b5e-4318-cc70-704d36ca06ba"
      },
      "source": [
        "np.max(A),np.argmax(A)"
      ],
      "execution_count": null,
      "outputs": [
        {
          "output_type": "execute_result",
          "data": {
            "text/plain": [
              "(30, 3)"
            ]
          },
          "metadata": {
            "tags": []
          },
          "execution_count": 31
        }
      ]
    },
    {
      "cell_type": "code",
      "metadata": {
        "id": "K-DVbHJ8PAxG",
        "colab": {
          "base_uri": "https://localhost:8080/"
        },
        "outputId": "ac4d0a71-e71b-455e-d4e2-2f91d06201e9"
      },
      "source": [
        "np.std(A)"
      ],
      "execution_count": null,
      "outputs": [
        {
          "output_type": "execute_result",
          "data": {
            "text/plain": [
              "8.854377448471462"
            ]
          },
          "metadata": {},
          "execution_count": 66
        }
      ]
    },
    {
      "cell_type": "code",
      "metadata": {
        "id": "a01bHlgSPDjp",
        "colab": {
          "base_uri": "https://localhost:8080/"
        },
        "outputId": "59ed8864-e88a-42f2-fdad-e3a61c032418"
      },
      "source": [
        "np.var(A)"
      ],
      "execution_count": null,
      "outputs": [
        {
          "output_type": "execute_result",
          "data": {
            "text/plain": [
              "78.4"
            ]
          },
          "metadata": {},
          "execution_count": 67
        }
      ]
    },
    {
      "cell_type": "code",
      "metadata": {
        "id": "KBunj5QX__lD",
        "colab": {
          "base_uri": "https://localhost:8080/",
          "height": 36
        },
        "outputId": "8713f5ae-5ab2-4c4d-fc28-50135db16cd5"
      },
      "source": [
        "import numpy as np\n",
        "np.mean(A)  #method\n",
        "np.min(A)\n",
        "np.max(A)\n",
        "np.std(A)\n",
        "np.var(A)"
      ],
      "execution_count": null,
      "outputs": [
        {
          "output_type": "execute_result",
          "data": {
            "text/plain": [
              "66.66666666666667"
            ]
          },
          "metadata": {
            "tags": []
          },
          "execution_count": 19
        }
      ]
    },
    {
      "cell_type": "code",
      "metadata": {
        "id": "zwBO7NJp-gSf"
      },
      "source": [
        "#In R-software  TRUE in Python True"
      ],
      "execution_count": null,
      "outputs": []
    },
    {
      "cell_type": "code",
      "metadata": {
        "id": "wCVgRGz_L410",
        "colab": {
          "base_uri": "https://localhost:8080/",
          "height": 34
        },
        "outputId": "7867d127-4e20-412f-e6f5-35005160609d"
      },
      "source": [
        "B=[20,'Sathya',45,'Anand',50,'Senthil','kumar',25.8,True,False]\n",
        "type(B)\n",
        "len(B)\n",
        "B[1:3]\n",
        "B[7:]#till the end\n",
        "B[:5]#from the begining"
      ],
      "execution_count": null,
      "outputs": [
        {
          "output_type": "execute_result",
          "data": {
            "text/plain": [
              "[20, 'Sathya', 45, 'Anand', 50]"
            ]
          },
          "metadata": {
            "tags": []
          },
          "execution_count": 34
        }
      ]
    },
    {
      "cell_type": "code",
      "metadata": {
        "id": "DEup_2ZuCTme",
        "colab": {
          "base_uri": "https://localhost:8080/",
          "height": 36
        },
        "outputId": "5d2cfe3a-4b70-450a-e293-a836777b9a93"
      },
      "source": [
        "B[1]='Ramya'\n",
        "B"
      ],
      "execution_count": null,
      "outputs": [
        {
          "output_type": "execute_result",
          "data": {
            "text/plain": [
              "[20, 'Ramya', 45, 'Anand', 50, 'Senthil', 'kumar', 25.8, True, False]"
            ]
          },
          "metadata": {
            "tags": []
          },
          "execution_count": 20
        }
      ]
    },
    {
      "cell_type": "code",
      "metadata": {
        "id": "FfzELeV6Cgyg",
        "colab": {
          "base_uri": "https://localhost:8080/",
          "height": 36
        },
        "outputId": "c6e9a8bd-7ea6-4682-91c1-88d4031c82c1"
      },
      "source": [
        "B[2]='Python'\n",
        "B"
      ],
      "execution_count": null,
      "outputs": [
        {
          "output_type": "execute_result",
          "data": {
            "text/plain": [
              "[20, 'Ramya', 'Python', 'Anand', 50, 'Senthil', 'kumar', 25.8, True, False]"
            ]
          },
          "metadata": {
            "tags": []
          },
          "execution_count": 21
        }
      ]
    },
    {
      "cell_type": "code",
      "metadata": {
        "id": "WT9u6CAGCxCS"
      },
      "source": [
        "B.append(100)\n"
      ],
      "execution_count": null,
      "outputs": []
    },
    {
      "cell_type": "code",
      "metadata": {
        "id": "yEGOM8_0DCqf",
        "colab": {
          "base_uri": "https://localhost:8080/",
          "height": 228
        },
        "outputId": "b9ef2c5b-016c-4d64-fe26-9ae482d8c0b1"
      },
      "source": [
        "B.append('Vignesh')\n",
        "B"
      ],
      "execution_count": null,
      "outputs": [
        {
          "output_type": "execute_result",
          "data": {
            "text/plain": [
              "[20,\n",
              " 'Sathya',\n",
              " 45,\n",
              " 'Anand',\n",
              " 50,\n",
              " 'Senthil',\n",
              " 'kumar',\n",
              " 25.8,\n",
              " True,\n",
              " False,\n",
              " 100,\n",
              " 'Vignesh']"
            ]
          },
          "metadata": {
            "tags": []
          },
          "execution_count": 36
        }
      ]
    },
    {
      "cell_type": "code",
      "metadata": {
        "id": "RBE-evycPbaq",
        "colab": {
          "base_uri": "https://localhost:8080/",
          "height": 34
        },
        "outputId": "b88bef30-f6c5-4aae-85e9-d34f4f3f6ec9"
      },
      "source": [
        "BT=(20, 'Ramya', 'Anand', 50, 'Senthil', 'kumar', 25.8, True, False, 100)\n",
        "type(BT)"
      ],
      "execution_count": null,
      "outputs": [
        {
          "output_type": "execute_result",
          "data": {
            "text/plain": [
              "tuple"
            ]
          },
          "metadata": {
            "tags": []
          },
          "execution_count": 37
        }
      ]
    },
    {
      "cell_type": "code",
      "metadata": {
        "id": "hB3BnAbdPt9Z",
        "colab": {
          "base_uri": "https://localhost:8080/",
          "height": 246
        },
        "outputId": "c49dd73e-4b2f-4c95-f648-c86b31a40a47"
      },
      "source": [
        "B.append('Rajesh')\n",
        "B"
      ],
      "execution_count": null,
      "outputs": [
        {
          "output_type": "execute_result",
          "data": {
            "text/plain": [
              "[20,\n",
              " 'Sathya',\n",
              " 45,\n",
              " 'Anand',\n",
              " 50,\n",
              " 'Senthil',\n",
              " 'kumar',\n",
              " 25.8,\n",
              " True,\n",
              " False,\n",
              " 100,\n",
              " 'Vignesh',\n",
              " 'Rajesh']"
            ]
          },
          "metadata": {
            "tags": []
          },
          "execution_count": 39
        }
      ]
    },
    {
      "cell_type": "code",
      "metadata": {
        "id": "Q_LxFyunP6pX",
        "colab": {
          "base_uri": "https://localhost:8080/",
          "height": 246
        },
        "outputId": "1296d1bb-8638-4fd7-bfba-84c06094847b"
      },
      "source": [
        "B[0]=1500\n",
        "B"
      ],
      "execution_count": null,
      "outputs": [
        {
          "output_type": "execute_result",
          "data": {
            "text/plain": [
              "[1500,\n",
              " 'Sathya',\n",
              " 45,\n",
              " 'Anand',\n",
              " 50,\n",
              " 'Senthil',\n",
              " 'kumar',\n",
              " 25.8,\n",
              " True,\n",
              " False,\n",
              " 100,\n",
              " 'Vignesh',\n",
              " 'Rajesh']"
            ]
          },
          "metadata": {
            "tags": []
          },
          "execution_count": 41
        }
      ]
    },
    {
      "cell_type": "code",
      "metadata": {
        "id": "mqVqELmGQGl-",
        "colab": {
          "base_uri": "https://localhost:8080/",
          "height": 34
        },
        "outputId": "338ef3d4-0879-4cf2-c07c-db20889a47f7"
      },
      "source": [
        "BT"
      ],
      "execution_count": null,
      "outputs": [
        {
          "output_type": "execute_result",
          "data": {
            "text/plain": [
              "(20, 'Ramya', 'Anand', 50, 'Senthil', 'kumar', 25.8, True, False, 100)"
            ]
          },
          "metadata": {
            "tags": []
          },
          "execution_count": 42
        }
      ]
    },
    {
      "cell_type": "code",
      "metadata": {
        "id": "PhBqrCumQIE-",
        "colab": {
          "base_uri": "https://localhost:8080/",
          "height": 34
        },
        "outputId": "cd1d5067-cefc-4d76-a3c3-36737b305488"
      },
      "source": [
        "BT[5:]"
      ],
      "execution_count": null,
      "outputs": [
        {
          "output_type": "execute_result",
          "data": {
            "text/plain": [
              "('kumar', 25.8, True, False, 100)"
            ]
          },
          "metadata": {
            "tags": []
          },
          "execution_count": 43
        }
      ]
    },
    {
      "cell_type": "code",
      "metadata": {
        "id": "rwRuV1FqQLY9",
        "colab": {
          "base_uri": "https://localhost:8080/",
          "height": 34
        },
        "outputId": "d6edec86-43e3-43e1-a8fe-1128f1e7899d"
      },
      "source": [
        "BT[:5]"
      ],
      "execution_count": null,
      "outputs": [
        {
          "output_type": "execute_result",
          "data": {
            "text/plain": [
              "(20, 'Ramya', 'Anand', 50, 'Senthil')"
            ]
          },
          "metadata": {
            "tags": []
          },
          "execution_count": 44
        }
      ]
    },
    {
      "cell_type": "code",
      "metadata": {
        "id": "hk7Hr4PHDPUn",
        "colab": {
          "base_uri": "https://localhost:8080/",
          "height": 36
        },
        "outputId": "4c7a17e7-0a07-42c1-f0d5-244eee437cf3"
      },
      "source": [
        "B.pop(2)\n",
        "B"
      ],
      "execution_count": null,
      "outputs": [
        {
          "output_type": "execute_result",
          "data": {
            "text/plain": [
              "[20, 'Ramya', 'Anand', 50, 'Senthil', 'kumar', 25.8, True, False, 100]"
            ]
          },
          "metadata": {
            "tags": []
          },
          "execution_count": 25
        }
      ]
    },
    {
      "cell_type": "code",
      "metadata": {
        "id": "zY4iK9F4Dlxl",
        "colab": {
          "base_uri": "https://localhost:8080/",
          "height": 36
        },
        "outputId": "e5091709-97c0-4734-9ea2-93944dbc371f"
      },
      "source": [
        "B.insert(5,18)\n",
        "B"
      ],
      "execution_count": null,
      "outputs": [
        {
          "output_type": "execute_result",
          "data": {
            "text/plain": [
              "[20, 'Ramya', 'Anand', 50, 'Senthil', 18, 'kumar', 25.8, True, False, 100]"
            ]
          },
          "metadata": {
            "tags": []
          },
          "execution_count": 26
        }
      ]
    },
    {
      "cell_type": "code",
      "metadata": {
        "id": "LUfMOY3VM89y"
      },
      "source": [
        "import numpy as np   #setting alias"
      ],
      "execution_count": null,
      "outputs": []
    },
    {
      "cell_type": "code",
      "metadata": {
        "id": "7sTKTtXgNJdG",
        "colab": {
          "base_uri": "https://localhost:8080/",
          "height": 36
        },
        "outputId": "3e570731-f1ee-4e41-9958-977a60d6424c"
      },
      "source": [
        "numpy.mean(A),numpy.std(A),numpy.var(A)"
      ],
      "execution_count": null,
      "outputs": [
        {
          "output_type": "execute_result",
          "data": {
            "text/plain": [
              "(20.0, 8.16496580927726, 66.66666666666667)"
            ]
          },
          "metadata": {
            "tags": []
          },
          "execution_count": 16
        }
      ]
    },
    {
      "cell_type": "code",
      "metadata": {
        "id": "9T3afnNDN30k",
        "colab": {
          "base_uri": "https://localhost:8080/",
          "height": 54
        },
        "outputId": "e2dfa8df-b891-44ff-ca85-dac6bacf9835"
      },
      "source": [
        "print(np.min(A))\n",
        "print(np.max(A))"
      ],
      "execution_count": null,
      "outputs": [
        {
          "output_type": "stream",
          "text": [
            "10\n",
            "30\n"
          ],
          "name": "stdout"
        }
      ]
    },
    {
      "cell_type": "code",
      "metadata": {
        "id": "rXMKI-1EEDg-",
        "colab": {
          "base_uri": "https://localhost:8080/"
        },
        "outputId": "aa69bf32-6ca5-47d6-bbc2-ffe3831c0cb1"
      },
      "source": [
        "A=[10,20,30]\n",
        "A"
      ],
      "execution_count": null,
      "outputs": [
        {
          "output_type": "execute_result",
          "data": {
            "text/plain": [
              "[10, 20, 30]"
            ]
          },
          "metadata": {},
          "execution_count": 80
        }
      ]
    },
    {
      "cell_type": "code",
      "metadata": {
        "id": "gkrwHPkXsBMg"
      },
      "source": [
        "B=A  #shallow copy (along with data address also copied)"
      ],
      "execution_count": null,
      "outputs": []
    },
    {
      "cell_type": "code",
      "metadata": {
        "id": "l0JyLidzOgve",
        "colab": {
          "base_uri": "https://localhost:8080/"
        },
        "outputId": "5de6530a-daca-4d65-9f61-43a4fa0e8a19"
      },
      "source": [
        "B[1]=200\n",
        "B"
      ],
      "execution_count": null,
      "outputs": [
        {
          "output_type": "execute_result",
          "data": {
            "text/plain": [
              "[10, 200, 30]"
            ]
          },
          "metadata": {},
          "execution_count": 76
        }
      ]
    },
    {
      "cell_type": "code",
      "source": [
        "A"
      ],
      "metadata": {
        "colab": {
          "base_uri": "https://localhost:8080/"
        },
        "id": "XHpD5OPQM7pv",
        "outputId": "584b8202-1002-4937-eb62-ff9a839e45b8"
      },
      "execution_count": null,
      "outputs": [
        {
          "output_type": "execute_result",
          "data": {
            "text/plain": [
              "[10, 200, 30]"
            ]
          },
          "metadata": {},
          "execution_count": 77
        }
      ]
    },
    {
      "cell_type": "code",
      "metadata": {
        "id": "n-s6eDyDsIDM",
        "colab": {
          "base_uri": "https://localhost:8080/",
          "height": 36
        },
        "outputId": "b7836bc3-aa57-49dc-b090-59df607a0831"
      },
      "source": [
        "B[0]=100\n",
        "B"
      ],
      "execution_count": null,
      "outputs": [
        {
          "output_type": "execute_result",
          "data": {
            "text/plain": [
              "[100, 20, 30]"
            ]
          },
          "metadata": {
            "tags": []
          },
          "execution_count": 33
        }
      ]
    },
    {
      "cell_type": "code",
      "metadata": {
        "id": "LAJExTfSsDQj",
        "colab": {
          "base_uri": "https://localhost:8080/",
          "height": 34
        },
        "outputId": "74594141-95dc-4339-996c-f942cd499572"
      },
      "source": [
        "A=[10, 20, 4, 30, 16]\n",
        "A"
      ],
      "execution_count": null,
      "outputs": [
        {
          "output_type": "execute_result",
          "data": {
            "text/plain": [
              "[10, 20, 4, 30, 16]"
            ]
          },
          "metadata": {
            "tags": []
          },
          "execution_count": 57
        }
      ]
    },
    {
      "cell_type": "code",
      "metadata": {
        "id": "NwY_-JsqRCIF",
        "colab": {
          "base_uri": "https://localhost:8080/",
          "height": 34
        },
        "outputId": "246f690c-018f-4993-f9a2-5adf199dd206"
      },
      "source": [
        "A"
      ],
      "execution_count": null,
      "outputs": [
        {
          "output_type": "execute_result",
          "data": {
            "text/plain": [
              "[10, 20, 4, 30, 16]"
            ]
          },
          "metadata": {
            "tags": []
          },
          "execution_count": 53
        }
      ]
    },
    {
      "cell_type": "code",
      "metadata": {
        "id": "n5V1pfR_REVn",
        "colab": {
          "base_uri": "https://localhost:8080/",
          "height": 34
        },
        "outputId": "b731b1ad-b2a0-4986-c8fa-d8289ea4685d"
      },
      "source": [
        "b=A #address reference also copied (shallow copy)\n",
        "b"
      ],
      "execution_count": null,
      "outputs": [
        {
          "output_type": "execute_result",
          "data": {
            "text/plain": [
              "[10, 20, 4, 30, 16]"
            ]
          },
          "metadata": {
            "tags": []
          },
          "execution_count": 54
        }
      ]
    },
    {
      "cell_type": "code",
      "metadata": {
        "id": "3DP1mB3mRLYL",
        "colab": {
          "base_uri": "https://localhost:8080/",
          "height": 34
        },
        "outputId": "5a57f4e0-5858-4d8e-af18-fe0375735364"
      },
      "source": [
        "b[0]=100\n",
        "b"
      ],
      "execution_count": null,
      "outputs": [
        {
          "output_type": "execute_result",
          "data": {
            "text/plain": [
              "[100, 20, 4, 30, 16]"
            ]
          },
          "metadata": {
            "tags": []
          },
          "execution_count": 55
        }
      ]
    },
    {
      "cell_type": "code",
      "metadata": {
        "id": "KMujeGszRXhP",
        "colab": {
          "base_uri": "https://localhost:8080/",
          "height": 34
        },
        "outputId": "2fdf9b27-2204-4df6-f26b-8a5d4c2d0795"
      },
      "source": [
        "A"
      ],
      "execution_count": null,
      "outputs": [
        {
          "output_type": "execute_result",
          "data": {
            "text/plain": [
              "[100, 20, 4, 30, 16]"
            ]
          },
          "metadata": {
            "tags": []
          },
          "execution_count": 56
        }
      ]
    },
    {
      "cell_type": "code",
      "metadata": {
        "id": "mk73JVb7sVvT"
      },
      "source": [
        "import copy\n",
        "b=copy.deepcopy(A)"
      ],
      "execution_count": null,
      "outputs": []
    },
    {
      "cell_type": "code",
      "metadata": {
        "id": "KzHZZBHy1jtX",
        "colab": {
          "base_uri": "https://localhost:8080/"
        },
        "outputId": "3bd09586-cc3a-446c-85c9-9d392f927fcb"
      },
      "source": [
        "A,b"
      ],
      "execution_count": null,
      "outputs": [
        {
          "output_type": "execute_result",
          "data": {
            "text/plain": [
              "([10, 20, 30], [10, 20, 30])"
            ]
          },
          "metadata": {},
          "execution_count": 82
        }
      ]
    },
    {
      "cell_type": "code",
      "metadata": {
        "id": "XAfpqJ_01p_U",
        "colab": {
          "base_uri": "https://localhost:8080/"
        },
        "outputId": "968f5908-e469-48ef-8d4a-67cfe6f1d63d"
      },
      "source": [
        "b[1]=200\n",
        "b"
      ],
      "execution_count": null,
      "outputs": [
        {
          "output_type": "execute_result",
          "data": {
            "text/plain": [
              "[10, 200, 30]"
            ]
          },
          "metadata": {},
          "execution_count": 83
        }
      ]
    },
    {
      "cell_type": "code",
      "metadata": {
        "id": "EgJTSGep1x0M",
        "colab": {
          "base_uri": "https://localhost:8080/"
        },
        "outputId": "e07ffbcb-831f-49cb-cd00-f52f0def3f73"
      },
      "source": [
        "A"
      ],
      "execution_count": null,
      "outputs": [
        {
          "output_type": "execute_result",
          "data": {
            "text/plain": [
              "[10, 20, 30]"
            ]
          },
          "metadata": {},
          "execution_count": 84
        }
      ]
    },
    {
      "cell_type": "code",
      "metadata": {
        "id": "WzjI1-Evsdmy",
        "colab": {
          "base_uri": "https://localhost:8080/",
          "height": 36
        },
        "outputId": "2680ee15-827b-4088-ac0c-df8f79dfc8f4"
      },
      "source": [
        "B[1]=200\n",
        "B,A"
      ],
      "execution_count": null,
      "outputs": [
        {
          "output_type": "execute_result",
          "data": {
            "text/plain": [
              "([100, 200, 30], [100, 20, 30])"
            ]
          },
          "metadata": {
            "tags": []
          },
          "execution_count": 37
        }
      ]
    },
    {
      "cell_type": "code",
      "metadata": {
        "id": "qhmrE_uhpuIr",
        "colab": {
          "base_uri": "https://localhost:8080/"
        },
        "outputId": "b6f446f9-3c4b-4553-ef26-b547e2d385d3"
      },
      "source": [
        "g=['Sudha',5,['english','tamil','maths','science']] #nested list or 2D list\n",
        "type(g)\n",
        "len(g)"
      ],
      "execution_count": null,
      "outputs": [
        {
          "output_type": "execute_result",
          "data": {
            "text/plain": [
              "3"
            ]
          },
          "metadata": {},
          "execution_count": 1
        }
      ]
    },
    {
      "cell_type": "code",
      "metadata": {
        "id": "PD8K3gbTTwRQ",
        "colab": {
          "base_uri": "https://localhost:8080/",
          "height": 34
        },
        "outputId": "0031e71e-d9ed-4ce2-e8af-1371e2a74065"
      },
      "source": [
        "g[2][-2:]"
      ],
      "execution_count": null,
      "outputs": [
        {
          "output_type": "execute_result",
          "data": {
            "text/plain": [
              "['maths', 'science']"
            ]
          },
          "metadata": {
            "tags": []
          },
          "execution_count": 69
        }
      ]
    },
    {
      "cell_type": "code",
      "metadata": {
        "id": "S3axAR8mUoHw",
        "colab": {
          "base_uri": "https://localhost:8080/",
          "height": 34
        },
        "outputId": "27931e02-c6d5-4e54-e23b-90112ebd099b"
      },
      "source": [
        "g[2][:]   # all the entries in that field"
      ],
      "execution_count": null,
      "outputs": [
        {
          "output_type": "execute_result",
          "data": {
            "text/plain": [
              "['english', 'tamil', 'maths', 'science']"
            ]
          },
          "metadata": {
            "tags": []
          },
          "execution_count": 71
        }
      ]
    },
    {
      "cell_type": "code",
      "metadata": {
        "id": "ZDJQisaKGrdi",
        "colab": {
          "base_uri": "https://localhost:8080/",
          "height": 34
        },
        "outputId": "c2d5b29b-44c7-4574-8222-3b6d462c30f1"
      },
      "source": [
        "h=[[5,6],[3,7,4],10]\n",
        "print(h)"
      ],
      "execution_count": null,
      "outputs": [
        {
          "output_type": "stream",
          "text": [
            "[[5, 6], [3, 7, 4], 10]\n"
          ],
          "name": "stdout"
        }
      ]
    },
    {
      "cell_type": "code",
      "metadata": {
        "id": "lzYXLaJC37p3",
        "colab": {
          "base_uri": "https://localhost:8080/",
          "height": 34
        },
        "outputId": "a0c46f89-cd05-4c2e-9d33-536ffe1526cf"
      },
      "source": [
        "np.sum(h[1]),np.mean(h[1])"
      ],
      "execution_count": null,
      "outputs": [
        {
          "output_type": "execute_result",
          "data": {
            "text/plain": [
              "(14, 4.666666666666667)"
            ]
          },
          "metadata": {
            "tags": []
          },
          "execution_count": 75
        }
      ]
    },
    {
      "cell_type": "code",
      "metadata": {
        "id": "PT9gEg2T4CFr",
        "colab": {
          "base_uri": "https://localhost:8080/",
          "height": 36
        },
        "outputId": "06ca9039-a921-4975-d23f-a17258d721a7"
      },
      "source": [
        "h[1]"
      ],
      "execution_count": null,
      "outputs": [
        {
          "output_type": "execute_result",
          "data": {
            "text/plain": [
              "[3, 7, 4]"
            ]
          },
          "metadata": {
            "tags": []
          },
          "execution_count": 45
        }
      ]
    },
    {
      "cell_type": "code",
      "metadata": {
        "id": "N-Bpj2glG5Wd",
        "colab": {
          "base_uri": "https://localhost:8080/",
          "height": 36
        },
        "outputId": "c5cb49a2-9c99-4887-ce76-14d8af4ca6b8"
      },
      "source": [
        "h[1][:2]"
      ],
      "execution_count": null,
      "outputs": [
        {
          "output_type": "execute_result",
          "data": {
            "text/plain": [
              "[3, 7]"
            ]
          },
          "metadata": {
            "tags": []
          },
          "execution_count": 45
        }
      ]
    },
    {
      "cell_type": "code",
      "metadata": {
        "id": "l_JsAqyePqrO",
        "colab": {
          "base_uri": "https://localhost:8080/"
        },
        "outputId": "7e6e6762-9a78-43d0-ba92-83e2be741313"
      },
      "source": [
        "g[2]"
      ],
      "execution_count": null,
      "outputs": [
        {
          "output_type": "execute_result",
          "data": {
            "text/plain": [
              "['english', 'tamil', 'maths', 'science']"
            ]
          },
          "metadata": {},
          "execution_count": 2
        }
      ]
    },
    {
      "cell_type": "code",
      "metadata": {
        "id": "AkKKsTK3reXF",
        "colab": {
          "base_uri": "https://localhost:8080/",
          "height": 35
        },
        "outputId": "134851e6-5b3d-4ffa-afb0-22a45a062298"
      },
      "source": [
        "g[2][1]"
      ],
      "execution_count": null,
      "outputs": [
        {
          "output_type": "execute_result",
          "data": {
            "text/plain": [
              "'tamil'"
            ],
            "application/vnd.google.colaboratory.intrinsic+json": {
              "type": "string"
            }
          },
          "metadata": {},
          "execution_count": 3
        }
      ]
    },
    {
      "cell_type": "code",
      "metadata": {
        "id": "Ldf_-m3QRAnh",
        "colab": {
          "base_uri": "https://localhost:8080/",
          "height": 36
        },
        "outputId": "fa78aba3-5051-4aec-ebb1-c25c7c1a02c3"
      },
      "source": [
        "B"
      ],
      "execution_count": null,
      "outputs": [
        {
          "output_type": "execute_result",
          "data": {
            "text/plain": [
              "[20, 'Sathya', 45, 'Anand', 50, 'Senthil', 'kumar', 25.8, True]"
            ]
          },
          "metadata": {
            "tags": []
          },
          "execution_count": 46
        }
      ]
    },
    {
      "cell_type": "code",
      "metadata": {
        "id": "Ep1csUgERC4t",
        "colab": {
          "base_uri": "https://localhost:8080/",
          "height": 221
        },
        "outputId": "d1785daa-eaae-49fa-f437-3ebef3001a6a"
      },
      "source": [
        "B.append('Rajesh')\n",
        "B"
      ],
      "execution_count": null,
      "outputs": [
        {
          "output_type": "execute_result",
          "data": {
            "text/plain": [
              "[20,\n",
              " 'Sathya',\n",
              " 45,\n",
              " 'Anand',\n",
              " 50,\n",
              " 'Senthil',\n",
              " 'kumar',\n",
              " 25.8,\n",
              " True,\n",
              " 'Rajesh',\n",
              " 'Rajesh']"
            ]
          },
          "metadata": {
            "tags": []
          },
          "execution_count": 48
        }
      ]
    },
    {
      "cell_type": "code",
      "metadata": {
        "id": "hLkbJ3QNROnm",
        "colab": {
          "base_uri": "https://localhost:8080/",
          "height": 36
        },
        "outputId": "45fe9d94-be5a-43e9-a76a-fead9e03bbd0"
      },
      "source": [
        "B.pop()\n",
        "B"
      ],
      "execution_count": null,
      "outputs": [
        {
          "output_type": "execute_result",
          "data": {
            "text/plain": [
              "[20, 'Sathya', 45, 'Anand', 50, 'Senthil', 'kumar', 25.8, True, 'Rajesh']"
            ]
          },
          "metadata": {
            "tags": []
          },
          "execution_count": 49
        }
      ]
    },
    {
      "cell_type": "code",
      "metadata": {
        "id": "mBLoco-5RdXs",
        "colab": {
          "base_uri": "https://localhost:8080/",
          "height": 36
        },
        "outputId": "0452c187-8bf6-4c56-eed8-1b862add5979"
      },
      "source": [
        "B.pop(-2)\n",
        "B"
      ],
      "execution_count": null,
      "outputs": [
        {
          "output_type": "execute_result",
          "data": {
            "text/plain": [
              "[20, 'Sathya', 45, 'Anand', 50, 'Senthil', 'kumar', 25.8, 'Rajesh']"
            ]
          },
          "metadata": {
            "tags": []
          },
          "execution_count": 50
        }
      ]
    },
    {
      "cell_type": "code",
      "metadata": {
        "id": "emT0KcoXR1E9",
        "colab": {
          "base_uri": "https://localhost:8080/",
          "height": 36
        },
        "outputId": "c1dda05f-7896-4231-c0fb-0ac793eecf2e"
      },
      "source": [
        "B[0]='Nithya'\n",
        "B"
      ],
      "execution_count": null,
      "outputs": [
        {
          "output_type": "execute_result",
          "data": {
            "text/plain": [
              "['Nithya', 'Sathya', 45, 'Anand', 50, 'Senthil', 'kumar', 25.8, 'Rajesh']"
            ]
          },
          "metadata": {
            "tags": []
          },
          "execution_count": 51
        }
      ]
    },
    {
      "cell_type": "code",
      "metadata": {
        "id": "3hXzHCuFpuJT"
      },
      "source": [
        "my_list = ['a','b','c']"
      ],
      "execution_count": null,
      "outputs": []
    },
    {
      "cell_type": "code",
      "metadata": {
        "id": "UrJf1ALgpuJs"
      },
      "source": [
        "my_list.append('d')"
      ],
      "execution_count": null,
      "outputs": []
    },
    {
      "cell_type": "code",
      "metadata": {
        "id": "DHnTbplOpuKF",
        "outputId": "e1e19e6b-32ba-403c-be14-b92f6a011dcc"
      },
      "source": [
        "my_list"
      ],
      "execution_count": null,
      "outputs": [
        {
          "output_type": "execute_result",
          "data": {
            "text/plain": [
              "['a', 'b', 'c', 'd']"
            ]
          },
          "metadata": {
            "tags": []
          },
          "execution_count": 30
        }
      ]
    },
    {
      "cell_type": "code",
      "metadata": {
        "id": "udOAp25_puKg",
        "outputId": "4f6dde80-5c93-4ad1-b303-15aa0bc8d6df"
      },
      "source": [
        "my_list[0]"
      ],
      "execution_count": null,
      "outputs": [
        {
          "output_type": "execute_result",
          "data": {
            "text/plain": [
              "'a'"
            ]
          },
          "metadata": {
            "tags": []
          },
          "execution_count": 31
        }
      ]
    },
    {
      "cell_type": "code",
      "metadata": {
        "id": "_YmkhDgCpuK8",
        "outputId": "52479f2c-17a8-4e6f-caff-2fde582fc2fc"
      },
      "source": [
        "my_list[1]"
      ],
      "execution_count": null,
      "outputs": [
        {
          "output_type": "execute_result",
          "data": {
            "text/plain": [
              "'b'"
            ]
          },
          "metadata": {
            "tags": []
          },
          "execution_count": 32
        }
      ]
    },
    {
      "cell_type": "code",
      "metadata": {
        "id": "AcMsGpXNpuLY",
        "outputId": "5c6da865-5849-44a9-fb0b-ac980911ed78"
      },
      "source": [
        "my_list[1:]"
      ],
      "execution_count": null,
      "outputs": [
        {
          "output_type": "execute_result",
          "data": {
            "text/plain": [
              "['b', 'c', 'd']"
            ]
          },
          "metadata": {
            "tags": []
          },
          "execution_count": 33
        }
      ]
    },
    {
      "cell_type": "code",
      "metadata": {
        "id": "4gbUOSMkpuME",
        "outputId": "6d27ab2f-e9c7-41d5-9406-a19df681f917"
      },
      "source": [
        "my_list[:1]"
      ],
      "execution_count": null,
      "outputs": [
        {
          "output_type": "execute_result",
          "data": {
            "text/plain": [
              "['a']"
            ]
          },
          "metadata": {
            "tags": []
          },
          "execution_count": 34
        }
      ]
    },
    {
      "cell_type": "code",
      "metadata": {
        "id": "TFTrTyH5puMa"
      },
      "source": [
        "my_list[0] = 'NEW'"
      ],
      "execution_count": null,
      "outputs": []
    },
    {
      "cell_type": "code",
      "metadata": {
        "id": "PzzSwBUYpuMy",
        "outputId": "18003a47-f443-4918-83ee-53aae18700e9"
      },
      "source": [
        "my_list"
      ],
      "execution_count": null,
      "outputs": [
        {
          "output_type": "execute_result",
          "data": {
            "text/plain": [
              "['NEW', 'b', 'c', 'd']"
            ]
          },
          "metadata": {
            "tags": []
          },
          "execution_count": 98
        }
      ]
    },
    {
      "cell_type": "code",
      "metadata": {
        "id": "lXzugnvlpuNM"
      },
      "source": [
        "nest = [1,2,3,[4,5,['target','target2']]]"
      ],
      "execution_count": null,
      "outputs": []
    },
    {
      "cell_type": "code",
      "metadata": {
        "id": "lDhaRGzMpuNj",
        "outputId": "cc89db4b-5c29-4fc6-d6ea-8a81c6e42cfa",
        "colab": {
          "base_uri": "https://localhost:8080/"
        }
      },
      "source": [
        "nest[3][2]"
      ],
      "execution_count": null,
      "outputs": [
        {
          "output_type": "execute_result",
          "data": {
            "text/plain": [
              "['target', 'target2']"
            ]
          },
          "metadata": {},
          "execution_count": 15
        }
      ]
    },
    {
      "cell_type": "code",
      "source": [
        "nest[3][1]=nest[3][1]+100"
      ],
      "metadata": {
        "id": "xaaM-14XhY1y"
      },
      "execution_count": null,
      "outputs": []
    },
    {
      "cell_type": "code",
      "source": [
        "nest"
      ],
      "metadata": {
        "colab": {
          "base_uri": "https://localhost:8080/"
        },
        "id": "niOTbW7rhspU",
        "outputId": "5860f8e2-f5f4-4c99-d72d-26b44b56c769"
      },
      "execution_count": null,
      "outputs": [
        {
          "output_type": "execute_result",
          "data": {
            "text/plain": [
              "[1, 2, 3, [4, 105, ['target', 'target2']]]"
            ]
          },
          "metadata": {},
          "execution_count": 21
        }
      ]
    },
    {
      "cell_type": "code",
      "metadata": {
        "id": "M0W82JFepuN5",
        "outputId": "4013d1f3-47e6-452d-977c-575547255880"
      },
      "source": [
        "nest[3][2]"
      ],
      "execution_count": null,
      "outputs": [
        {
          "output_type": "execute_result",
          "data": {
            "text/plain": [
              "['target']"
            ]
          },
          "metadata": {
            "tags": []
          },
          "execution_count": 101
        }
      ]
    },
    {
      "cell_type": "code",
      "metadata": {
        "id": "RrcNM7xupuOu",
        "outputId": "6f778685-8c18-4b5f-e7ed-688092201dd1"
      },
      "source": [
        "nest[3][2][0]"
      ],
      "execution_count": null,
      "outputs": [
        {
          "output_type": "execute_result",
          "data": {
            "text/plain": [
              "'target'"
            ]
          },
          "metadata": {
            "tags": []
          },
          "execution_count": 102
        }
      ]
    },
    {
      "cell_type": "markdown",
      "metadata": {
        "id": "_vUhCGVGVkQy"
      },
      "source": [
        "Usage of for-loop (Mapping by Value)"
      ]
    },
    {
      "cell_type": "code",
      "metadata": {
        "id": "GCCGo5QeVn2h",
        "colab": {
          "base_uri": "https://localhost:8080/"
        },
        "outputId": "cbff707a-15e9-45b8-ab29-17c0f3137e23"
      },
      "source": [
        "p=[8,-3,4,6,7,-9,1]\n",
        "for val in p:\n",
        "  print(val+100)\n",
        "print('done')\n"
      ],
      "execution_count": null,
      "outputs": [
        {
          "output_type": "stream",
          "name": "stdout",
          "text": [
            "108\n",
            "97\n",
            "104\n",
            "106\n",
            "107\n",
            "91\n",
            "101\n",
            "done\n"
          ]
        }
      ]
    },
    {
      "cell_type": "code",
      "source": [
        "result=[]  #empty list\n",
        "p=[8,-3,4,6,7,-9,1]\n",
        "for val in p:\n",
        "  result.append(val+100)\n",
        "print('done')\n",
        "print(result)"
      ],
      "metadata": {
        "colab": {
          "base_uri": "https://localhost:8080/"
        },
        "id": "I_Y3JPMkjISl",
        "outputId": "3f36b46a-25bf-4d29-df3e-4759f516b0a2"
      },
      "execution_count": null,
      "outputs": [
        {
          "output_type": "stream",
          "name": "stdout",
          "text": [
            "done\n",
            "[108, 97, 104, 106, 107, 91, 101]\n"
          ]
        }
      ]
    },
    {
      "cell_type": "code",
      "source": [
        "idx=[0,1,2,3,4,5,6]"
      ],
      "metadata": {
        "id": "G0u2JvL-nwAw"
      },
      "execution_count": null,
      "outputs": []
    },
    {
      "cell_type": "code",
      "source": [
        "len(p)"
      ],
      "metadata": {
        "colab": {
          "base_uri": "https://localhost:8080/"
        },
        "id": "o5R0bCC7oCOv",
        "outputId": "76f62539-23d8-4100-d99a-be0f4d93622b"
      },
      "execution_count": null,
      "outputs": [
        {
          "output_type": "execute_result",
          "data": {
            "text/plain": [
              "7"
            ]
          },
          "metadata": {},
          "execution_count": 38
        }
      ]
    },
    {
      "cell_type": "code",
      "source": [
        "range(7)"
      ],
      "metadata": {
        "colab": {
          "base_uri": "https://localhost:8080/"
        },
        "id": "p_Kkv4Ozn4m5",
        "outputId": "ddb7c3e2-12fe-403d-9405-5709d6084b30"
      },
      "execution_count": null,
      "outputs": [
        {
          "output_type": "execute_result",
          "data": {
            "text/plain": [
              "range(0, 7)"
            ]
          },
          "metadata": {},
          "execution_count": 42
        }
      ]
    },
    {
      "cell_type": "code",
      "source": [
        "p=[8,-3,4,6,7,-9,1]\n",
        "for idx in range(len(p)):\n",
        "  if p[idx]>0:\n",
        "    p[idx]=p[idx]+100\n",
        "  else:\n",
        "    p[idx]=0\n",
        "print(p)"
      ],
      "metadata": {
        "colab": {
          "base_uri": "https://localhost:8080/"
        },
        "id": "LZJn_otqmwf7",
        "outputId": "7237656b-4323-4f08-9982-076c170a3f4d"
      },
      "execution_count": null,
      "outputs": [
        {
          "output_type": "stream",
          "name": "stdout",
          "text": [
            "[108, 0, 104, 106, 107, 0, 101]\n"
          ]
        }
      ]
    },
    {
      "cell_type": "code",
      "source": [
        "import numpy as np"
      ],
      "metadata": {
        "id": "UVb7g0fcjnHL"
      },
      "execution_count": null,
      "outputs": []
    },
    {
      "cell_type": "code",
      "source": [
        "np.mean(result)"
      ],
      "metadata": {
        "colab": {
          "base_uri": "https://localhost:8080/"
        },
        "id": "zNLReYfBjI1Q",
        "outputId": "2e9e1aa3-5d13-4b97-9d94-6062e171d9e0"
      },
      "execution_count": null,
      "outputs": [
        {
          "output_type": "execute_result",
          "data": {
            "text/plain": [
              "102.0"
            ]
          },
          "metadata": {},
          "execution_count": 29
        }
      ]
    },
    {
      "cell_type": "code",
      "source": [
        "res_pos=[]\n",
        "res_neg=[]\n",
        "for val in p:\n",
        "  if (val>0):\n",
        "    res_pos.append(val+100)\n",
        "  else:\n",
        "    res_neg.append(val+100)\n",
        "print(res_pos)\n",
        "print(res_neg)\n"
      ],
      "metadata": {
        "colab": {
          "base_uri": "https://localhost:8080/"
        },
        "id": "MTd85zEAkZGn",
        "outputId": "4e3f0b29-685d-4a2e-99e2-14be218cd0f9"
      },
      "execution_count": null,
      "outputs": [
        {
          "output_type": "stream",
          "name": "stdout",
          "text": [
            "[108, 104, 106, 107, 101]\n",
            "[97, 91]\n"
          ]
        }
      ]
    },
    {
      "cell_type": "code",
      "metadata": {
        "id": "8R5woRM1WLcP",
        "colab": {
          "base_uri": "https://localhost:8080/",
          "height": 34
        },
        "outputId": "47fbef44-0e2e-40a0-8647-1e856c92663d"
      },
      "source": [
        "p=[8,-3,4,6,7,-9,1]\n",
        "q=[] #initializing a empty list\n",
        "for val in p:\n",
        "  q.append(val+100)\n",
        "print(q)\n",
        "  "
      ],
      "execution_count": null,
      "outputs": [
        {
          "output_type": "stream",
          "text": [
            "[108, 97, 104, 106, 107, 91, 101]\n"
          ],
          "name": "stdout"
        }
      ]
    },
    {
      "cell_type": "code",
      "metadata": {
        "id": "nwfr0gq7ViLr",
        "colab": {
          "base_uri": "https://localhost:8080/",
          "height": 34
        },
        "outputId": "9574539b-18b1-4114-89cb-62d9626ed919"
      },
      "source": [
        "p=[8,-3,4,6,7.5,-9,1]\n",
        "q=[] #pick only the positive nos\n",
        "for i in p:\n",
        "  if i>0:\n",
        "    q.append(i)\n",
        "print(q)"
      ],
      "execution_count": null,
      "outputs": [
        {
          "output_type": "stream",
          "text": [
            "[8, 4, 6, 7.5, 1]\n"
          ],
          "name": "stdout"
        }
      ]
    },
    {
      "cell_type": "code",
      "source": [
        "names=['raju','vidthya','kavitha']\n",
        "for i in names:\n",
        "  print(i)\n",
        "print('done')\n",
        "print('All done')"
      ],
      "metadata": {
        "colab": {
          "base_uri": "https://localhost:8080/"
        },
        "id": "QQovlARalcGg",
        "outputId": "f7eb7fe4-3dfb-4ed8-8457-e8167d5f7ca9"
      },
      "execution_count": null,
      "outputs": [
        {
          "output_type": "stream",
          "name": "stdout",
          "text": [
            "raju\n",
            "vidthya\n",
            "kavitha\n",
            "done\n",
            "All done\n"
          ]
        }
      ]
    },
    {
      "cell_type": "code",
      "metadata": {
        "id": "YOfiFxQZWqYb",
        "colab": {
          "base_uri": "https://localhost:8080/",
          "height": 140
        },
        "outputId": "1f5db997-35ee-407a-e71f-51cf573ce986"
      },
      "source": [
        "names=['raju','vidthya','kavitha']\n",
        "for i in names:\n",
        "  print(i)\n",
        "  print('done')\n",
        "print('All done')"
      ],
      "execution_count": null,
      "outputs": [
        {
          "output_type": "stream",
          "text": [
            "raju\n",
            "done\n",
            "vidthya\n",
            "done\n",
            "kavitha\n",
            "done\n",
            "All done\n"
          ],
          "name": "stdout"
        }
      ]
    },
    {
      "cell_type": "code",
      "metadata": {
        "id": "dQ5jdNtIX-8i",
        "colab": {
          "base_uri": "https://localhost:8080/",
          "height": 34
        },
        "outputId": "7c768cc6-68cd-4267-a1c7-87e7516b2cf4"
      },
      "source": [
        "a=5     #a pl be accept only integer\n",
        "i=5.6\n",
        "j='ramya'\n",
        "type(i),type(a),type(j)"
      ],
      "execution_count": null,
      "outputs": [
        {
          "output_type": "execute_result",
          "data": {
            "text/plain": [
              "(float, int, str)"
            ]
          },
          "metadata": {
            "tags": []
          },
          "execution_count": 89
        }
      ]
    },
    {
      "cell_type": "markdown",
      "metadata": {
        "id": "YbY0uDaDYmoe"
      },
      "source": [
        "Usage of for-loop (Mapping by Index)"
      ]
    },
    {
      "cell_type": "code",
      "source": [
        "p=[8,-3,4,6,7.5,-9,6]\n",
        "q=[3,4,8,-2,5,8,1]\n",
        "res=[]\n",
        "for i in np.arange(len(p)):\n",
        "  if (p[i]>0 and q[i]>0):\n",
        "    res.append(p[i]+q[i])\n",
        "  else:\n",
        "    res.append(0)\n",
        "print(res)"
      ],
      "metadata": {
        "colab": {
          "base_uri": "https://localhost:8080/"
        },
        "id": "gcG2evqSpjTD",
        "outputId": "432bdd5e-5fb1-420a-b26f-2660d4b5ebd9"
      },
      "execution_count": null,
      "outputs": [
        {
          "output_type": "stream",
          "name": "stdout",
          "text": [
            "[11, 0, 12, 0, 12.5, 0, 7]\n"
          ]
        }
      ]
    },
    {
      "cell_type": "code",
      "source": [
        "len(p),len(q)"
      ],
      "metadata": {
        "colab": {
          "base_uri": "https://localhost:8080/"
        },
        "id": "sXKNTHixpjVl",
        "outputId": "f5064735-783d-4286-8bbc-cd71a5282dea"
      },
      "execution_count": null,
      "outputs": [
        {
          "output_type": "execute_result",
          "data": {
            "text/plain": [
              "(7, 7)"
            ]
          },
          "metadata": {},
          "execution_count": 45
        }
      ]
    },
    {
      "cell_type": "code",
      "metadata": {
        "id": "bozJt7tRYopL",
        "colab": {
          "base_uri": "https://localhost:8080/",
          "height": 52
        },
        "outputId": "ef06ab3a-c9db-49b8-89b9-228cc3bcae60"
      },
      "source": [
        "p=[8,-3,4,6,7.5,-9,1] # replace -ve nos by zero\n",
        "q=copy.deepcopy(p)\n",
        "for i in range(len(p)): #range will give 0,1,2,3,4,5,6\n",
        "  if q[i]<0:\n",
        "    q[i]=0\n",
        "print(p)\n",
        "print(q)\n",
        "\n",
        "\n"
      ],
      "execution_count": null,
      "outputs": [
        {
          "output_type": "stream",
          "text": [
            "[8, -3, 4, 6, 7.5, -9, 1]\n",
            "[8, 0, 4, 6, 7.5, 0, 1]\n"
          ],
          "name": "stdout"
        }
      ]
    },
    {
      "cell_type": "code",
      "metadata": {
        "id": "k8ml4cIDWqUZ",
        "colab": {
          "base_uri": "https://localhost:8080/",
          "height": 34
        },
        "outputId": "ab9f5eb0-aea6-4b22-9fa9-0ff99ab236bc"
      },
      "source": [
        "range(len(p))"
      ],
      "execution_count": null,
      "outputs": [
        {
          "output_type": "execute_result",
          "data": {
            "text/plain": [
              "range(0, 7)"
            ]
          },
          "metadata": {
            "tags": []
          },
          "execution_count": 90
        }
      ]
    },
    {
      "cell_type": "markdown",
      "metadata": {
        "id": "m7P2Aa4dpuPF"
      },
      "source": [
        "### Dictionaries"
      ]
    },
    {
      "cell_type": "code",
      "metadata": {
        "id": "eu14B1nFpuPJ",
        "colab": {
          "base_uri": "https://localhost:8080/"
        },
        "outputId": "74a80976-00a1-4c7d-f1f4-2490327ca11c"
      },
      "source": [
        "#Key value pair is similar to structure in C\n",
        "d = {'price':[22.6,40,100,58],'Item':['soap','Milk','Coffee','paste']}\n",
        "type(d)"
      ],
      "execution_count": null,
      "outputs": [
        {
          "output_type": "execute_result",
          "data": {
            "text/plain": [
              "dict"
            ]
          },
          "metadata": {},
          "execution_count": 84
        }
      ]
    },
    {
      "cell_type": "code",
      "source": [
        "d['price'][0]=25"
      ],
      "metadata": {
        "id": "3x0x6yqjxGcZ"
      },
      "execution_count": null,
      "outputs": []
    },
    {
      "cell_type": "code",
      "source": [
        "d"
      ],
      "metadata": {
        "colab": {
          "base_uri": "https://localhost:8080/"
        },
        "id": "FBm1LJB3uG3L",
        "outputId": "20c77d6a-d367-48fd-8716-32bcfa41c6c6"
      },
      "execution_count": null,
      "outputs": [
        {
          "output_type": "execute_result",
          "data": {
            "text/plain": [
              "{'price': [25, 40, 100, 58], 'Item': ['soap', 'Milk', 'Coffee', 'paste']}"
            ]
          },
          "metadata": {},
          "execution_count": 86
        }
      ]
    },
    {
      "cell_type": "code",
      "source": [
        "np.sum(d['price']),np.mean(d['price'])"
      ],
      "metadata": {
        "colab": {
          "base_uri": "https://localhost:8080/"
        },
        "id": "mEYw_OTNuoKL",
        "outputId": "67157b29-85b6-4bdd-f613-fb5cda3dd8b6"
      },
      "execution_count": null,
      "outputs": [
        {
          "output_type": "execute_result",
          "data": {
            "text/plain": [
              "(220.6, 55.15)"
            ]
          },
          "metadata": {},
          "execution_count": 56
        }
      ]
    },
    {
      "cell_type": "code",
      "source": [
        "d['Item'][:2]"
      ],
      "metadata": {
        "colab": {
          "base_uri": "https://localhost:8080/"
        },
        "id": "cxMz4SeRvmm6",
        "outputId": "5bcb15ff-0b8d-4d44-86e2-daf8b994b128"
      },
      "execution_count": null,
      "outputs": [
        {
          "output_type": "execute_result",
          "data": {
            "text/plain": [
              "['soap', 'Milk']"
            ]
          },
          "metadata": {},
          "execution_count": 61
        }
      ]
    },
    {
      "cell_type": "code",
      "source": [
        "d['Item'][-2:]"
      ],
      "metadata": {
        "colab": {
          "base_uri": "https://localhost:8080/"
        },
        "id": "PPeboK-uvq4v",
        "outputId": "f2a42b09-e29b-4e32-e7ef-2a323b262f26"
      },
      "execution_count": null,
      "outputs": [
        {
          "output_type": "execute_result",
          "data": {
            "text/plain": [
              "['Coffee', 'paste']"
            ]
          },
          "metadata": {},
          "execution_count": 62
        }
      ]
    },
    {
      "cell_type": "code",
      "source": [
        "np.sum(d['price'][:2])"
      ],
      "metadata": {
        "colab": {
          "base_uri": "https://localhost:8080/"
        },
        "id": "MMTGVbSOvVhu",
        "outputId": "4865242d-1bef-4d02-fca1-42ef5b5750d5"
      },
      "execution_count": null,
      "outputs": [
        {
          "output_type": "execute_result",
          "data": {
            "text/plain": [
              "62.6"
            ]
          },
          "metadata": {},
          "execution_count": 58
        }
      ]
    },
    {
      "cell_type": "code",
      "source": [
        "np.sum(d['price'][-2:])"
      ],
      "metadata": {
        "colab": {
          "base_uri": "https://localhost:8080/"
        },
        "id": "AwDujuj3vefb",
        "outputId": "cb93dfc2-5fff-485f-d56a-beb52d571d13"
      },
      "execution_count": null,
      "outputs": [
        {
          "output_type": "execute_result",
          "data": {
            "text/plain": [
              "158"
            ]
          },
          "metadata": {},
          "execution_count": 59
        }
      ]
    },
    {
      "cell_type": "code",
      "metadata": {
        "id": "YVspsFJOO_5m",
        "colab": {
          "base_uri": "https://localhost:8080/"
        },
        "outputId": "a282cc53-be77-4c66-c607-071b2f4815d3"
      },
      "source": [
        "d.keys()"
      ],
      "execution_count": null,
      "outputs": [
        {
          "output_type": "execute_result",
          "data": {
            "text/plain": [
              "dict_keys(['price', 'Item'])"
            ]
          },
          "metadata": {},
          "execution_count": 50
        }
      ]
    },
    {
      "cell_type": "code",
      "metadata": {
        "id": "wWym7Lo-PDZY",
        "colab": {
          "base_uri": "https://localhost:8080/"
        },
        "outputId": "9fe3f806-6078-444e-ea0a-3514ab6fd8e3"
      },
      "source": [
        "d.values()"
      ],
      "execution_count": null,
      "outputs": [
        {
          "output_type": "execute_result",
          "data": {
            "text/plain": [
              "dict_values([[22.6, 40, 100], ['soap', 'Milk', 'Coffee', 'paste']])"
            ]
          },
          "metadata": {},
          "execution_count": 51
        }
      ]
    },
    {
      "cell_type": "code",
      "source": [
        "d['Item'].pop()"
      ],
      "metadata": {
        "colab": {
          "base_uri": "https://localhost:8080/",
          "height": 35
        },
        "id": "BgIF77AjwNfE",
        "outputId": "67f33e7f-9790-49cc-e3bc-46cb814a895b"
      },
      "execution_count": null,
      "outputs": [
        {
          "output_type": "execute_result",
          "data": {
            "text/plain": [
              "'paste'"
            ],
            "application/vnd.google.colaboratory.intrinsic+json": {
              "type": "string"
            }
          },
          "metadata": {},
          "execution_count": 63
        }
      ]
    },
    {
      "cell_type": "code",
      "source": [
        "d['Item'].append('brush')"
      ],
      "metadata": {
        "id": "Kp2GJ51kwTye"
      },
      "execution_count": null,
      "outputs": []
    },
    {
      "cell_type": "code",
      "source": [
        "d"
      ],
      "metadata": {
        "colab": {
          "base_uri": "https://localhost:8080/"
        },
        "id": "T7wDa97kwewd",
        "outputId": "380341e4-ad32-4881-b85d-b533013fd38e"
      },
      "execution_count": null,
      "outputs": [
        {
          "output_type": "execute_result",
          "data": {
            "text/plain": [
              "{'price': [22.6, 40, 100, 58], 'Item': ['soap', 'Milk', 'Coffee', 'brush']}"
            ]
          },
          "metadata": {},
          "execution_count": 66
        }
      ]
    },
    {
      "cell_type": "code",
      "metadata": {
        "id": "n8JIg88G9-jH",
        "colab": {
          "base_uri": "https://localhost:8080/"
        },
        "outputId": "1d6f6ce4-2ed5-44b5-bc1e-4eff3b4db21a"
      },
      "source": [
        "np.std(d['price'])"
      ],
      "execution_count": null,
      "outputs": [
        {
          "output_type": "execute_result",
          "data": {
            "text/plain": [
              "33.15539171839175"
            ]
          },
          "metadata": {},
          "execution_count": 33
        }
      ]
    },
    {
      "cell_type": "code",
      "metadata": {
        "id": "7OT4oHrC7B2T",
        "colab": {
          "base_uri": "https://localhost:8080/",
          "height": 36
        },
        "outputId": "3447f4f7-bf9a-4688-f2a4-853dfc6142b2"
      },
      "source": [
        "d"
      ],
      "execution_count": null,
      "outputs": [
        {
          "output_type": "execute_result",
          "data": {
            "text/plain": [
              "{'Item': ['soap', 'Milk', 'Coffee', 'paste'], 'price': [22.6, 40, 100]}"
            ]
          },
          "metadata": {
            "tags": []
          },
          "execution_count": 53
        }
      ]
    },
    {
      "cell_type": "code",
      "metadata": {
        "id": "ZsM8SbgxJqGh",
        "colab": {
          "base_uri": "https://localhost:8080/",
          "height": 36
        },
        "outputId": "2cf24772-7446-4d61-f96f-5ca371014af4"
      },
      "source": [
        "np.mean(d['price'])"
      ],
      "execution_count": null,
      "outputs": [
        {
          "output_type": "execute_result",
          "data": {
            "text/plain": [
              "47.65"
            ]
          },
          "metadata": {
            "tags": []
          },
          "execution_count": 61
        }
      ]
    },
    {
      "cell_type": "code",
      "metadata": {
        "id": "RPvAoQ6KpuPa",
        "colab": {
          "base_uri": "https://localhost:8080/",
          "height": 36
        },
        "outputId": "a34876ae-a0c2-41a6-925c-98908b1899c4"
      },
      "source": [
        "np.mean(d['price'])"
      ],
      "execution_count": null,
      "outputs": [
        {
          "output_type": "execute_result",
          "data": {
            "text/plain": [
              "47.65"
            ]
          },
          "metadata": {
            "tags": []
          },
          "execution_count": 71
        }
      ]
    },
    {
      "cell_type": "code",
      "metadata": {
        "id": "E8J9AiMhU3r6",
        "colab": {
          "base_uri": "https://localhost:8080/",
          "height": 36
        },
        "outputId": "f853885a-06af-4b01-cd3c-9247dc765771"
      },
      "source": [
        "d['Item'][:2]"
      ],
      "execution_count": null,
      "outputs": [
        {
          "output_type": "execute_result",
          "data": {
            "text/plain": [
              "['soap', 'Milk']"
            ]
          },
          "metadata": {
            "tags": []
          },
          "execution_count": 55
        }
      ]
    },
    {
      "cell_type": "code",
      "metadata": {
        "id": "6R7zmry8puP1",
        "outputId": "ae60dac9-1789-4f7b-ca44-1e7e21f8f18c"
      },
      "source": [
        "d['key1']"
      ],
      "execution_count": null,
      "outputs": [
        {
          "output_type": "execute_result",
          "data": {
            "text/plain": [
              "'item1'"
            ]
          },
          "metadata": {
            "tags": []
          },
          "execution_count": 39
        }
      ]
    },
    {
      "cell_type": "code",
      "metadata": {
        "id": "rJ6gZq_UVKq5",
        "colab": {
          "base_uri": "https://localhost:8080/",
          "height": 36
        },
        "outputId": "60c5f9f2-b15f-4dc9-c26f-217fb69ba426"
      },
      "source": [
        "type(d)"
      ],
      "execution_count": null,
      "outputs": [
        {
          "output_type": "execute_result",
          "data": {
            "text/plain": [
              "dict"
            ]
          },
          "metadata": {
            "tags": []
          },
          "execution_count": 75
        }
      ]
    },
    {
      "cell_type": "code",
      "metadata": {
        "id": "jdig-ScwP59D",
        "colab": {
          "base_uri": "https://localhost:8080/"
        },
        "outputId": "1ae053ca-d8fb-4c19-eaf1-3b65e277c1eb"
      },
      "source": [
        "x=float(input('Enter a number:'))\n",
        "print(x)\n",
        "type(x)"
      ],
      "execution_count": null,
      "outputs": [
        {
          "output_type": "stream",
          "name": "stdout",
          "text": [
            "Enter a number:12\n",
            "12.0\n"
          ]
        },
        {
          "output_type": "execute_result",
          "data": {
            "text/plain": [
              "float"
            ]
          },
          "metadata": {},
          "execution_count": 73
        }
      ]
    },
    {
      "cell_type": "code",
      "source": [
        "x+100"
      ],
      "metadata": {
        "colab": {
          "base_uri": "https://localhost:8080/"
        },
        "id": "xhROuyq9xv6M",
        "outputId": "fcda7ca7-a685-4ae1-a826-1ce44c7baeea"
      },
      "execution_count": null,
      "outputs": [
        {
          "output_type": "execute_result",
          "data": {
            "text/plain": [
              "112.0"
            ]
          },
          "metadata": {},
          "execution_count": 74
        }
      ]
    },
    {
      "cell_type": "markdown",
      "metadata": {
        "id": "nvymabX0puQR"
      },
      "source": [
        "### Booleans"
      ]
    },
    {
      "cell_type": "code",
      "metadata": {
        "id": "uZSux6RApuQW",
        "outputId": "43d6f6e4-ae66-4d57-c835-ec60f6c94b94"
      },
      "source": [
        "True"
      ],
      "execution_count": null,
      "outputs": [
        {
          "output_type": "execute_result",
          "data": {
            "text/plain": [
              "True"
            ]
          },
          "metadata": {
            "tags": []
          },
          "execution_count": 40
        }
      ]
    },
    {
      "cell_type": "code",
      "metadata": {
        "id": "3NV5ZDjxpuQt",
        "outputId": "2ef5b5fc-ded3-4079-9e64-aca9bba23cc9"
      },
      "source": [
        "False"
      ],
      "execution_count": null,
      "outputs": [
        {
          "output_type": "execute_result",
          "data": {
            "text/plain": [
              "False"
            ]
          },
          "metadata": {
            "tags": []
          },
          "execution_count": 41
        }
      ]
    },
    {
      "cell_type": "markdown",
      "metadata": {
        "id": "RYD1bb0IpuRD"
      },
      "source": [
        "### Tuples "
      ]
    },
    {
      "cell_type": "code",
      "metadata": {
        "id": "8ixGU9zNpuRH",
        "colab": {
          "base_uri": "https://localhost:8080/"
        },
        "outputId": "6c8bf77e-7a5a-45f5-bdc8-de386c618634"
      },
      "source": [
        "t = (1,2,3,'python','java',100)\n",
        "type(t)"
      ],
      "execution_count": null,
      "outputs": [
        {
          "output_type": "execute_result",
          "data": {
            "text/plain": [
              "tuple"
            ]
          },
          "metadata": {},
          "execution_count": 76
        }
      ]
    },
    {
      "cell_type": "code",
      "metadata": {
        "id": "LT1eSWtr4N2D",
        "colab": {
          "base_uri": "https://localhost:8080/",
          "height": 184
        },
        "outputId": "1714e83a-6334-45eb-cfbb-b0941db4197b"
      },
      "source": [
        "t[3]=100\n",
        "t"
      ],
      "execution_count": null,
      "outputs": [
        {
          "output_type": "error",
          "ename": "TypeError",
          "evalue": "ignored",
          "traceback": [
            "\u001b[0;31m---------------------------------------------------------------------------\u001b[0m",
            "\u001b[0;31mTypeError\u001b[0m                                 Traceback (most recent call last)",
            "\u001b[0;32m<ipython-input-77-962b8f032682>\u001b[0m in \u001b[0;36m<module>\u001b[0;34m\u001b[0m\n\u001b[0;32m----> 1\u001b[0;31m \u001b[0mt\u001b[0m\u001b[0;34m[\u001b[0m\u001b[0;36m3\u001b[0m\u001b[0;34m]\u001b[0m\u001b[0;34m=\u001b[0m\u001b[0;36m100\u001b[0m\u001b[0;34m\u001b[0m\u001b[0;34m\u001b[0m\u001b[0m\n\u001b[0m\u001b[1;32m      2\u001b[0m \u001b[0mt\u001b[0m\u001b[0;34m\u001b[0m\u001b[0;34m\u001b[0m\u001b[0m\n",
            "\u001b[0;31mTypeError\u001b[0m: 'tuple' object does not support item assignment"
          ]
        }
      ]
    },
    {
      "cell_type": "code",
      "metadata": {
        "id": "jMn4Mtg2H3GW",
        "colab": {
          "base_uri": "https://localhost:8080/",
          "height": 36
        },
        "outputId": "52014ca8-f706-4d64-b5e7-ad019cd40df9"
      },
      "source": [
        "f=10 #is a scaler 1x1\n",
        "f"
      ],
      "execution_count": null,
      "outputs": [
        {
          "output_type": "execute_result",
          "data": {
            "text/plain": [
              "10"
            ]
          },
          "metadata": {
            "tags": []
          },
          "execution_count": 52
        }
      ]
    },
    {
      "cell_type": "code",
      "metadata": {
        "id": "4XxKMb2zpuRZ",
        "colab": {
          "base_uri": "https://localhost:8080/",
          "height": 184
        },
        "outputId": "39b0382c-6609-4ae9-938b-28a6d417ec39"
      },
      "source": [
        "t[4]='R' #this operation is not allowed,'coz tuple is immutable\n",
        "t"
      ],
      "execution_count": null,
      "outputs": [
        {
          "output_type": "error",
          "ename": "TypeError",
          "evalue": "ignored",
          "traceback": [
            "\u001b[0;31m---------------------------------------------------------------------------\u001b[0m",
            "\u001b[0;31mTypeError\u001b[0m                                 Traceback (most recent call last)",
            "\u001b[0;32m<ipython-input-78-370de9bcf2c7>\u001b[0m in \u001b[0;36m<module>\u001b[0;34m\u001b[0m\n\u001b[0;32m----> 1\u001b[0;31m \u001b[0mt\u001b[0m\u001b[0;34m[\u001b[0m\u001b[0;36m4\u001b[0m\u001b[0;34m]\u001b[0m\u001b[0;34m=\u001b[0m\u001b[0;34m'R'\u001b[0m \u001b[0;31m#this operation is not allowed,'coz tuple is immutable\u001b[0m\u001b[0;34m\u001b[0m\u001b[0;34m\u001b[0m\u001b[0m\n\u001b[0m\u001b[1;32m      2\u001b[0m \u001b[0mt\u001b[0m\u001b[0;34m\u001b[0m\u001b[0;34m\u001b[0m\u001b[0m\n",
            "\u001b[0;31mTypeError\u001b[0m: 'tuple' object does not support item assignment"
          ]
        }
      ]
    },
    {
      "cell_type": "code",
      "metadata": {
        "id": "bdaBI94WSW-v",
        "colab": {
          "base_uri": "https://localhost:8080/"
        },
        "outputId": "47dcf9db-604d-4fd9-edea-f8211c04f5e3"
      },
      "source": [
        "t[3:]\n",
        "t[:3]"
      ],
      "execution_count": null,
      "outputs": [
        {
          "output_type": "execute_result",
          "data": {
            "text/plain": [
              "(1, 2, 3)"
            ]
          },
          "metadata": {},
          "execution_count": 79
        }
      ]
    },
    {
      "cell_type": "markdown",
      "metadata": {
        "id": "k_G0QbbhpuR-"
      },
      "source": [
        "### Sets"
      ]
    },
    {
      "cell_type": "code",
      "metadata": {
        "id": "sdoaBBTipuSD",
        "colab": {
          "base_uri": "https://localhost:8080/"
        },
        "outputId": "ce77ea65-4261-43e5-8c8a-e737ca2fe413"
      },
      "source": [
        "s={1,2,3}\n",
        "type(s)"
      ],
      "execution_count": null,
      "outputs": [
        {
          "output_type": "execute_result",
          "data": {
            "text/plain": [
              "set"
            ]
          },
          "metadata": {},
          "execution_count": 35
        }
      ]
    },
    {
      "cell_type": "code",
      "metadata": {
        "id": "Z3-gaRU7puSZ",
        "colab": {
          "base_uri": "https://localhost:8080/"
        },
        "outputId": "05568515-86ef-46aa-e708-f9bd33d4b250"
      },
      "source": [
        "p={1,2,3,1,2,1,2,3,3,3,3,2,2,2,1,1,2}\n",
        "#Set data type will return unique values\n",
        "type(p)\n",
        "print(p)"
      ],
      "execution_count": null,
      "outputs": [
        {
          "output_type": "stream",
          "name": "stdout",
          "text": [
            "{1, 2, 3}\n"
          ]
        }
      ]
    },
    {
      "cell_type": "code",
      "metadata": {
        "id": "J5N0kDmuTYm4",
        "colab": {
          "base_uri": "https://localhost:8080/",
          "height": 36
        },
        "outputId": "63519ce7-e5a5-4387-b95d-d2d821c3df94"
      },
      "source": [
        "country={'India',50,'germany',100,'Italy',100,'India',10,'China','Italy'}\n",
        "set(country)"
      ],
      "execution_count": null,
      "outputs": [
        {
          "output_type": "execute_result",
          "data": {
            "text/plain": [
              "{10, 100, 50, 'China', 'India', 'Italy', 'germany'}"
            ]
          },
          "metadata": {
            "tags": []
          },
          "execution_count": 56
        }
      ]
    },
    {
      "cell_type": "code",
      "metadata": {
        "id": "CRYbwWPvTSLx",
        "colab": {
          "base_uri": "https://localhost:8080/",
          "height": 36
        },
        "outputId": "76283029-91fe-4d8a-fed8-508988c35bc6"
      },
      "source": [
        "set(p)"
      ],
      "execution_count": null,
      "outputs": [
        {
          "output_type": "execute_result",
          "data": {
            "text/plain": [
              "{1, 2, 3}"
            ]
          },
          "metadata": {
            "tags": []
          },
          "execution_count": 62
        }
      ]
    }
  ]
}