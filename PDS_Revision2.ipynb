{
  "nbformat": 4,
  "nbformat_minor": 0,
  "metadata": {
    "colab": {
      "provenance": [],
      "collapsed_sections": [],
      "include_colab_link": true
    },
    "kernelspec": {
      "name": "python3",
      "display_name": "Python 3"
    },
    "language_info": {
      "name": "python"
    }
  },
  "cells": [
    {
      "cell_type": "markdown",
      "metadata": {
        "id": "view-in-github",
        "colab_type": "text"
      },
      "source": [
        "<a href=\"https://colab.research.google.com/github/SuryARavichan/python-basics/blob/main/PDS_Revision2.ipynb\" target=\"_parent\"><img src=\"https://colab.research.google.com/assets/colab-badge.svg\" alt=\"Open In Colab\"/></a>"
      ]
    },
    {
      "cell_type": "code",
      "execution_count": null,
      "metadata": {
        "id": "-eENd_xIAbuf"
      },
      "outputs": [],
      "source": [
        "import numpy as np\n",
        "import pandas as pd\n",
        "import matplotlib.pyplot as plt\n",
        "%matplotlib inline\n",
        "import seaborn as sns"
      ]
    },
    {
      "cell_type": "markdown",
      "source": [
        "Usage of any() and all()"
      ],
      "metadata": {
        "id": "6LpYhoG4AxNP"
      }
    },
    {
      "cell_type": "code",
      "source": [
        "a=np.array([1,2,3,-4])\n",
        "b=np.array([0,2,3,1])\n",
        "c=a>b"
      ],
      "metadata": {
        "id": "qUYfvHkvA0kW"
      },
      "execution_count": null,
      "outputs": []
    },
    {
      "cell_type": "code",
      "source": [
        "any(a),all(a)"
      ],
      "metadata": {
        "colab": {
          "base_uri": "https://localhost:8080/"
        },
        "id": "xtsGFotTYJtX",
        "outputId": "3fbb9dd0-0300-401f-81e0-9c1d213e9abe"
      },
      "execution_count": null,
      "outputs": [
        {
          "output_type": "execute_result",
          "data": {
            "text/plain": [
              "(True, True)"
            ]
          },
          "metadata": {},
          "execution_count": 16
        }
      ]
    },
    {
      "cell_type": "code",
      "source": [
        "print(c)"
      ],
      "metadata": {
        "colab": {
          "base_uri": "https://localhost:8080/"
        },
        "id": "GZMzWEzzBCKN",
        "outputId": "7de85255-9f8e-4bb8-a9fc-e4539aa7f494"
      },
      "execution_count": null,
      "outputs": [
        {
          "output_type": "stream",
          "name": "stdout",
          "text": [
            "[ True False False False]\n"
          ]
        }
      ]
    },
    {
      "cell_type": "code",
      "source": [
        "print(any(c))"
      ],
      "metadata": {
        "colab": {
          "base_uri": "https://localhost:8080/"
        },
        "id": "2OKRdeu5BKFp",
        "outputId": "f666e0ff-5634-48a3-ed78-a5b2393493a4"
      },
      "execution_count": null,
      "outputs": [
        {
          "output_type": "stream",
          "name": "stdout",
          "text": [
            "True\n"
          ]
        }
      ]
    },
    {
      "cell_type": "code",
      "source": [
        "print(all(c))"
      ],
      "metadata": {
        "colab": {
          "base_uri": "https://localhost:8080/"
        },
        "id": "6EToofFSBQeC",
        "outputId": "010ec4d0-0a2a-4da3-cf49-143ead1690ac"
      },
      "execution_count": null,
      "outputs": [
        {
          "output_type": "stream",
          "name": "stdout",
          "text": [
            "False\n"
          ]
        }
      ]
    },
    {
      "cell_type": "markdown",
      "source": [
        "usage of where()"
      ],
      "metadata": {
        "id": "d-QsFNCcCddS"
      }
    },
    {
      "cell_type": "code",
      "source": [
        "x=np.array([10,21,30,41,50])"
      ],
      "metadata": {
        "id": "rjq4aOrsCEH5"
      },
      "execution_count": null,
      "outputs": []
    },
    {
      "cell_type": "code",
      "source": [
        "c=np.where(x%2==0,x,0)\n",
        "print(c)"
      ],
      "metadata": {
        "colab": {
          "base_uri": "https://localhost:8080/"
        },
        "id": "x1Hyb0bOMb8T",
        "outputId": "d78142ff-54c5-4c5d-d640-d26aef8d3072"
      },
      "execution_count": null,
      "outputs": [
        {
          "output_type": "stream",
          "name": "stdout",
          "text": [
            "[10  0 30  0 50]\n"
          ]
        }
      ]
    },
    {
      "cell_type": "code",
      "source": [
        "p=np.array([10,20,30,40,50])\n",
        "q=np.array([1,21,3,38,51])\n",
        "r=np.where(p>q,p,q)\n",
        "print(r)"
      ],
      "metadata": {
        "colab": {
          "base_uri": "https://localhost:8080/"
        },
        "id": "xGeYfhaVCf53",
        "outputId": "c4f05807-f8cc-42a3-83e7-f798e26042ca"
      },
      "execution_count": null,
      "outputs": [
        {
          "output_type": "stream",
          "name": "stdout",
          "text": [
            "[10 21 30 40 51]\n"
          ]
        }
      ]
    },
    {
      "cell_type": "markdown",
      "source": [
        "usage of nonzero()"
      ],
      "metadata": {
        "id": "Tg8bLfpRDW2x"
      }
    },
    {
      "cell_type": "code",
      "source": [
        "m=np.array([1,2,0,-1,0,6])\n",
        "np.nonzero(m)"
      ],
      "metadata": {
        "colab": {
          "base_uri": "https://localhost:8080/"
        },
        "id": "FXNwPa9tDbqS",
        "outputId": "a5b491e3-0c3d-42d7-f585-a876272ef83d"
      },
      "execution_count": null,
      "outputs": [
        {
          "output_type": "execute_result",
          "data": {
            "text/plain": [
              "(array([0, 1, 3, 5]),)"
            ]
          },
          "metadata": {},
          "execution_count": 6
        }
      ]
    },
    {
      "cell_type": "code",
      "source": [
        "np.min(m),np.argmin(m)"
      ],
      "metadata": {
        "colab": {
          "base_uri": "https://localhost:8080/"
        },
        "id": "J0-2oNA1XLle",
        "outputId": "b8a6907e-8305-4a31-98d6-0030788b2a3c"
      },
      "execution_count": null,
      "outputs": [
        {
          "output_type": "execute_result",
          "data": {
            "text/plain": [
              "(-1, 3)"
            ]
          },
          "metadata": {},
          "execution_count": 7
        }
      ]
    },
    {
      "cell_type": "code",
      "source": [
        "np.max(m),np.argmax(m)"
      ],
      "metadata": {
        "colab": {
          "base_uri": "https://localhost:8080/"
        },
        "id": "ZnFeZjm8XXjl",
        "outputId": "6b0ce63a-44b4-4047-8cf4-c60c8de14c54"
      },
      "execution_count": null,
      "outputs": [
        {
          "output_type": "execute_result",
          "data": {
            "text/plain": [
              "(6, 5)"
            ]
          },
          "metadata": {},
          "execution_count": 8
        }
      ]
    },
    {
      "cell_type": "code",
      "source": [
        "y=x"
      ],
      "metadata": {
        "id": "j14pH9wFEiou"
      },
      "execution_count": null,
      "outputs": []
    },
    {
      "cell_type": "code",
      "source": [
        "y[0]=100\n",
        "y"
      ],
      "metadata": {
        "colab": {
          "base_uri": "https://localhost:8080/"
        },
        "id": "-Asrie8REvMc",
        "outputId": "8ffc5e8d-ea64-4d9c-c375-73849d555e13"
      },
      "execution_count": null,
      "outputs": [
        {
          "output_type": "execute_result",
          "data": {
            "text/plain": [
              "array([100,  21,  30,  41,  50])"
            ]
          },
          "metadata": {},
          "execution_count": 15
        }
      ]
    },
    {
      "cell_type": "code",
      "source": [
        "x"
      ],
      "metadata": {
        "colab": {
          "base_uri": "https://localhost:8080/"
        },
        "id": "WcloSPE8E0Kb",
        "outputId": "da31b08b-637d-4210-8312-18b2f2d00d64"
      },
      "execution_count": null,
      "outputs": [
        {
          "output_type": "execute_result",
          "data": {
            "text/plain": [
              "array([100,  21,  30,  41,  50])"
            ]
          },
          "metadata": {},
          "execution_count": 16
        }
      ]
    },
    {
      "cell_type": "code",
      "source": [
        "z=x.copy()"
      ],
      "metadata": {
        "id": "HU6tznP2E1C3"
      },
      "execution_count": null,
      "outputs": []
    },
    {
      "cell_type": "code",
      "source": [
        "z[0]=200\n",
        "z"
      ],
      "metadata": {
        "colab": {
          "base_uri": "https://localhost:8080/"
        },
        "id": "shCdmjtrFDyq",
        "outputId": "9927dc02-0290-4143-8c72-927c815ad11e"
      },
      "execution_count": null,
      "outputs": [
        {
          "output_type": "execute_result",
          "data": {
            "text/plain": [
              "array([200,  21,  30,  41,  50])"
            ]
          },
          "metadata": {},
          "execution_count": 18
        }
      ]
    },
    {
      "cell_type": "code",
      "source": [
        "x"
      ],
      "metadata": {
        "colab": {
          "base_uri": "https://localhost:8080/"
        },
        "id": "hlM5C1SlFFzi",
        "outputId": "f8e333ca-b865-4a4f-953a-d34880252af5"
      },
      "execution_count": null,
      "outputs": [
        {
          "output_type": "execute_result",
          "data": {
            "text/plain": [
              "array([100,  21,  30,  41,  50])"
            ]
          },
          "metadata": {},
          "execution_count": 19
        }
      ]
    },
    {
      "cell_type": "markdown",
      "source": [
        "Usage of flatten()"
      ],
      "metadata": {
        "id": "Ei6p_gMhFrqY"
      }
    },
    {
      "cell_type": "code",
      "source": [
        "mat=np.array([[1,2,3],[4,5,6]])\n",
        "mat"
      ],
      "metadata": {
        "colab": {
          "base_uri": "https://localhost:8080/"
        },
        "id": "UZOv3ZgAFuhW",
        "outputId": "6fbfb4c6-3400-4898-9783-0c8e04f447c1"
      },
      "execution_count": null,
      "outputs": [
        {
          "output_type": "execute_result",
          "data": {
            "text/plain": [
              "array([[1, 2, 3],\n",
              "       [4, 5, 6]])"
            ]
          },
          "metadata": {},
          "execution_count": 20
        }
      ]
    },
    {
      "cell_type": "code",
      "source": [
        "mat.flatten()"
      ],
      "metadata": {
        "colab": {
          "base_uri": "https://localhost:8080/"
        },
        "id": "JKVAenN9F29n",
        "outputId": "e645e5d9-ade8-4c57-df08-d656220a3832"
      },
      "execution_count": null,
      "outputs": [
        {
          "output_type": "execute_result",
          "data": {
            "text/plain": [
              "array([1, 2, 3, 4, 5, 6])"
            ]
          },
          "metadata": {},
          "execution_count": 21
        }
      ]
    },
    {
      "cell_type": "code",
      "source": [
        "mat.reshape(-1)"
      ],
      "metadata": {
        "colab": {
          "base_uri": "https://localhost:8080/"
        },
        "id": "B8r_agG3FGG3",
        "outputId": "4b21babd-2e40-4b7d-a58e-ff7401caf97d"
      },
      "execution_count": null,
      "outputs": [
        {
          "output_type": "execute_result",
          "data": {
            "text/plain": [
              "array([1, 2, 3, 4, 5, 6])"
            ]
          },
          "metadata": {},
          "execution_count": 22
        }
      ]
    },
    {
      "cell_type": "markdown",
      "source": [
        "Sorting the Matrix"
      ],
      "metadata": {
        "id": "pFl8eJ4RGpuD"
      }
    },
    {
      "cell_type": "code",
      "source": [
        "g=np.array([[5,4,1],[2,7,0]])\n",
        "g"
      ],
      "metadata": {
        "colab": {
          "base_uri": "https://localhost:8080/"
        },
        "id": "WM68Lhv8GrlU",
        "outputId": "ab44a85b-ccb6-409e-cbe3-8338d1aa2cce"
      },
      "execution_count": null,
      "outputs": [
        {
          "output_type": "execute_result",
          "data": {
            "text/plain": [
              "array([[5, 4, 1],\n",
              "       [2, 7, 0]])"
            ]
          },
          "metadata": {},
          "execution_count": 23
        }
      ]
    },
    {
      "cell_type": "code",
      "source": [
        "np.sort(g)"
      ],
      "metadata": {
        "colab": {
          "base_uri": "https://localhost:8080/"
        },
        "id": "nwGuf6XqHNWb",
        "outputId": "b689b675-0c00-400a-b3b5-2de77c84ee97"
      },
      "execution_count": null,
      "outputs": [
        {
          "output_type": "execute_result",
          "data": {
            "text/plain": [
              "array([[1, 4, 5],\n",
              "       [0, 2, 7]])"
            ]
          },
          "metadata": {},
          "execution_count": 24
        }
      ]
    },
    {
      "cell_type": "code",
      "source": [
        "np.sort(g,axis=0)"
      ],
      "metadata": {
        "colab": {
          "base_uri": "https://localhost:8080/"
        },
        "id": "zW4_t_rEHRbW",
        "outputId": "2653d7e0-d04c-41d6-9a7c-aecafa5fab38"
      },
      "execution_count": null,
      "outputs": [
        {
          "output_type": "execute_result",
          "data": {
            "text/plain": [
              "array([[2, 4, 0],\n",
              "       [5, 7, 1]])"
            ]
          },
          "metadata": {},
          "execution_count": 25
        }
      ]
    },
    {
      "cell_type": "code",
      "source": [
        "g.prod(0)"
      ],
      "metadata": {
        "colab": {
          "base_uri": "https://localhost:8080/"
        },
        "id": "nVpR9HGGHdcv",
        "outputId": "3f23a0e8-1d18-4499-fe0d-c7e5ed9fb4bd"
      },
      "execution_count": null,
      "outputs": [
        {
          "output_type": "execute_result",
          "data": {
            "text/plain": [
              "array([10, 28,  0])"
            ]
          },
          "metadata": {},
          "execution_count": 27
        }
      ]
    },
    {
      "cell_type": "code",
      "source": [
        "g"
      ],
      "metadata": {
        "colab": {
          "base_uri": "https://localhost:8080/"
        },
        "id": "e7z4ubz6H2IH",
        "outputId": "3e181140-c202-4a6c-f7a6-5203414852da"
      },
      "execution_count": null,
      "outputs": [
        {
          "output_type": "execute_result",
          "data": {
            "text/plain": [
              "array([[5, 4, 1],\n",
              "       [2, 7, 0]])"
            ]
          },
          "metadata": {},
          "execution_count": 29
        }
      ]
    },
    {
      "cell_type": "code",
      "source": [
        "g.prod(1)"
      ],
      "metadata": {
        "colab": {
          "base_uri": "https://localhost:8080/"
        },
        "id": "1atZjoVAHsi6",
        "outputId": "79af6910-a8ec-464e-c450-707184af59bf"
      },
      "execution_count": null,
      "outputs": [
        {
          "output_type": "execute_result",
          "data": {
            "text/plain": [
              "array([20,  0])"
            ]
          },
          "metadata": {},
          "execution_count": 28
        }
      ]
    }
  ]
}