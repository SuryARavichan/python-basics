{
  "nbformat": 4,
  "nbformat_minor": 0,
  "metadata": {
    "colab": {
      "provenance": [],
      "collapsed_sections": [],
      "include_colab_link": true
    },
    "kernelspec": {
      "name": "python3",
      "display_name": "Python 3"
    },
    "language_info": {
      "name": "python"
    }
  },
  "cells": [
    {
      "cell_type": "markdown",
      "metadata": {
        "id": "view-in-github",
        "colab_type": "text"
      },
      "source": [
        "<a href=\"https://colab.research.google.com/github/SuryARavichan/python-basics/blob/main/PDS_Revision1.ipynb\" target=\"_parent\"><img src=\"https://colab.research.google.com/assets/colab-badge.svg\" alt=\"Open In Colab\"/></a>"
      ]
    },
    {
      "cell_type": "code",
      "execution_count": null,
      "metadata": {
        "id": "x0_1K45m2xoR"
      },
      "outputs": [],
      "source": [
        "import numpy as np\n",
        "import pandas as pd\n",
        "import seaborn as sns\n",
        "import matplotlib.pyplot as plt\n",
        "%matplotlib inline"
      ]
    },
    {
      "cell_type": "code",
      "source": [
        "#For the given dictionary, perform the following\n",
        "D={'Name':'Rajesh','Id':'2021052','Salary':42856.00}\n",
        "D"
      ],
      "metadata": {
        "colab": {
          "base_uri": "https://localhost:8080/"
        },
        "id": "VQH93hGO2_cH",
        "outputId": "cbbb0ef3-98e0-4993-8f19-31b3e1c4b492"
      },
      "execution_count": null,
      "outputs": [
        {
          "output_type": "execute_result",
          "data": {
            "text/plain": [
              "{'Name': 'Rajesh', 'Id': '2021052', 'Salary': 42856.0}"
            ]
          },
          "metadata": {},
          "execution_count": 23
        }
      ]
    },
    {
      "cell_type": "code",
      "source": [
        "type(D['Salary'])"
      ],
      "metadata": {
        "colab": {
          "base_uri": "https://localhost:8080/"
        },
        "id": "_Kgxxv-K3-Eh",
        "outputId": "3e197b85-c12f-4d89-dce2-78d8477e5a92"
      },
      "execution_count": null,
      "outputs": [
        {
          "output_type": "execute_result",
          "data": {
            "text/plain": [
              "float"
            ]
          },
          "metadata": {},
          "execution_count": 18
        }
      ]
    },
    {
      "cell_type": "code",
      "source": [
        "#1. Insert the Department key with the value Finance"
      ],
      "metadata": {
        "id": "EwTlSnYH3sI8"
      },
      "execution_count": null,
      "outputs": []
    },
    {
      "cell_type": "code",
      "source": [
        "D['Dept']='Finance'"
      ],
      "metadata": {
        "id": "TgSENQvJiKv2"
      },
      "execution_count": null,
      "outputs": []
    },
    {
      "cell_type": "code",
      "source": [
        "D"
      ],
      "metadata": {
        "colab": {
          "base_uri": "https://localhost:8080/"
        },
        "id": "Nzd_EjJ_iKyr",
        "outputId": "8d28a546-946c-4240-84b1-4cae08d38b12"
      },
      "execution_count": null,
      "outputs": [
        {
          "output_type": "execute_result",
          "data": {
            "text/plain": [
              "{'Name': 'Rajesh', 'Id': '2021052', 'Salary': 42856.0, 'Dept': 'Finance'}"
            ]
          },
          "metadata": {},
          "execution_count": 25
        }
      ]
    },
    {
      "cell_type": "code",
      "source": [
        "#2. Delete the Id field\n",
        "del D['Id']"
      ],
      "metadata": {
        "id": "FQQ6c_jz3yuP"
      },
      "execution_count": null,
      "outputs": []
    },
    {
      "cell_type": "code",
      "source": [
        "D"
      ],
      "metadata": {
        "colab": {
          "base_uri": "https://localhost:8080/"
        },
        "id": "kDVnPlDXk7h1",
        "outputId": "02a7599d-c2dc-42eb-d7d3-14e86d80ae73"
      },
      "execution_count": null,
      "outputs": [
        {
          "output_type": "execute_result",
          "data": {
            "text/plain": [
              "{'Name': 'Rajesh', 'Salary': 42856.0, 'Dept': 'Finance'}"
            ]
          },
          "metadata": {},
          "execution_count": 27
        }
      ]
    },
    {
      "cell_type": "code",
      "source": [
        "D"
      ],
      "metadata": {
        "colab": {
          "base_uri": "https://localhost:8080/"
        },
        "id": "IXm_2Usjk7kj",
        "outputId": "30b8d749-286f-438d-99a2-123d724f1cad"
      },
      "execution_count": null,
      "outputs": [
        {
          "output_type": "execute_result",
          "data": {
            "text/plain": [
              "{'Name': 'Rajesh', 'Salary': 42856.0, 'Dept': 'Finance'}"
            ]
          },
          "metadata": {},
          "execution_count": 31
        }
      ]
    },
    {
      "cell_type": "code",
      "source": [
        "'Id' not in D"
      ],
      "metadata": {
        "colab": {
          "base_uri": "https://localhost:8080/"
        },
        "id": "g8JI-xka4WEE",
        "outputId": "ea8cd4c2-5e26-449e-a437-24b60d2c3653"
      },
      "execution_count": null,
      "outputs": [
        {
          "output_type": "execute_result",
          "data": {
            "text/plain": [
              "False"
            ]
          },
          "metadata": {},
          "execution_count": 28
        }
      ]
    },
    {
      "cell_type": "code",
      "source": [
        "'Name'in D"
      ],
      "metadata": {
        "colab": {
          "base_uri": "https://localhost:8080/"
        },
        "id": "fCsxDxqSl3db",
        "outputId": "995681d1-5eab-473e-fa8b-3fa84762b3cf"
      },
      "execution_count": null,
      "outputs": [
        {
          "output_type": "execute_result",
          "data": {
            "text/plain": [
              "True"
            ]
          },
          "metadata": {},
          "execution_count": 29
        }
      ]
    },
    {
      "cell_type": "code",
      "source": [
        "'Gender' not in dict"
      ],
      "metadata": {
        "colab": {
          "base_uri": "https://localhost:8080/"
        },
        "id": "D62s7mE8UgPe",
        "outputId": "ae2257f8-92e0-44e1-d8ba-cc0323719bc7"
      },
      "execution_count": null,
      "outputs": [
        {
          "output_type": "execute_result",
          "data": {
            "text/plain": [
              "True"
            ]
          },
          "metadata": {},
          "execution_count": 30
        }
      ]
    },
    {
      "cell_type": "code",
      "source": [],
      "metadata": {
        "id": "H2XAhc1KmNbd"
      },
      "execution_count": null,
      "outputs": []
    },
    {
      "cell_type": "markdown",
      "source": [
        "'in' keyword is used to check if a value is present in a sequence"
      ],
      "metadata": {
        "id": "nO0VvxrrUlbo"
      }
    },
    {
      "cell_type": "code",
      "source": [
        "#3.Enter the values to dict using input function\n",
        "dict2=eval(input(\"Enter elements in {}: \"))"
      ],
      "metadata": {
        "colab": {
          "base_uri": "https://localhost:8080/"
        },
        "id": "dlukhojtUxYK",
        "outputId": "b2ceb1b3-cf63-4cce-a5f5-f3b2c2c9032d"
      },
      "execution_count": null,
      "outputs": [
        {
          "name": "stdout",
          "output_type": "stream",
          "text": [
            "Enter elements in {}: {'A':10,'B':20,'C':30}\n"
          ]
        }
      ]
    },
    {
      "cell_type": "code",
      "source": [
        "dict2['A']"
      ],
      "metadata": {
        "colab": {
          "base_uri": "https://localhost:8080/"
        },
        "id": "28R23z4zndKy",
        "outputId": "9d4aa462-2552-4898-b527-fa66f2eab86e"
      },
      "execution_count": null,
      "outputs": [
        {
          "output_type": "execute_result",
          "data": {
            "text/plain": [
              "10"
            ]
          },
          "metadata": {},
          "execution_count": 49
        }
      ]
    },
    {
      "cell_type": "code",
      "source": [
        "type(dict2)"
      ],
      "metadata": {
        "colab": {
          "base_uri": "https://localhost:8080/"
        },
        "id": "x6OILbDsVzXR",
        "outputId": "ef38363e-98d7-4ff8-a82f-c01668eddebc"
      },
      "execution_count": null,
      "outputs": [
        {
          "output_type": "execute_result",
          "data": {
            "text/plain": [
              "dict"
            ]
          },
          "metadata": {},
          "execution_count": 48
        }
      ]
    },
    {
      "cell_type": "code",
      "source": [
        "sum(dict2.values())"
      ],
      "metadata": {
        "colab": {
          "base_uri": "https://localhost:8080/"
        },
        "id": "AfOM4G-kV1NU",
        "outputId": "e6b722a9-fe52-4e84-8dda-07bb2e1bb289"
      },
      "execution_count": null,
      "outputs": [
        {
          "output_type": "execute_result",
          "data": {
            "text/plain": [
              "30"
            ]
          },
          "metadata": {},
          "execution_count": 19
        }
      ]
    },
    {
      "cell_type": "code",
      "source": [
        "#using for-loop with dictionary\n",
        "colors={'r':'Red','g':'Green','b':'Blue','w':'White'}\n",
        "colors"
      ],
      "metadata": {
        "colab": {
          "base_uri": "https://localhost:8080/"
        },
        "id": "oa59lwYzWoXa",
        "outputId": "2098d9ff-ee7b-4166-c21d-e341998c1cc5"
      },
      "execution_count": null,
      "outputs": [
        {
          "output_type": "execute_result",
          "data": {
            "text/plain": [
              "{'r': 'Red', 'g': 'Green', 'b': 'Blue', 'w': 'White'}"
            ]
          },
          "metadata": {},
          "execution_count": 51
        }
      ]
    },
    {
      "cell_type": "code",
      "source": [
        "for dat in colors:\n",
        "  print(dat)"
      ],
      "metadata": {
        "colab": {
          "base_uri": "https://localhost:8080/"
        },
        "id": "msuEEltBvMP0",
        "outputId": "1df5e7ab-137e-4205-e5cf-192be759b42b"
      },
      "execution_count": null,
      "outputs": [
        {
          "output_type": "stream",
          "name": "stdout",
          "text": [
            "r\n",
            "g\n",
            "b\n",
            "w\n"
          ]
        }
      ]
    },
    {
      "cell_type": "code",
      "source": [
        "#4.using a for-loop retrieve elements of dictionary\n",
        "for k in colors:\n",
        "  print(colors[k])"
      ],
      "metadata": {
        "colab": {
          "base_uri": "https://localhost:8080/"
        },
        "id": "VBhDtKJGW5xa",
        "outputId": "cb3c1201-2bc6-4728-fa98-b4c88fd0f2ee"
      },
      "execution_count": null,
      "outputs": [
        {
          "output_type": "stream",
          "name": "stdout",
          "text": [
            "Red\n",
            "Green\n",
            "Blue\n",
            "White\n"
          ]
        }
      ]
    },
    {
      "cell_type": "code",
      "source": [
        "#5.Consider the two lists given below\n",
        "n1=[1,2,3,4,5]\n",
        "n2=[10,11,1,2]\n",
        "#5.Create a new list n3 with numbers present in n1 but not in n2"
      ],
      "metadata": {
        "id": "8bX9MDZUXPj2"
      },
      "execution_count": null,
      "outputs": []
    },
    {
      "cell_type": "code",
      "source": [
        "n3=[]\n",
        "for i in n1:\n",
        "  if i not in n2:\n",
        "    n3.append(i)\n",
        "print(n3)"
      ],
      "metadata": {
        "colab": {
          "base_uri": "https://localhost:8080/"
        },
        "id": "Hj2S9t3aYDNd",
        "outputId": "3e4c8ba2-16fc-4841-cbf0-14155f045ca2"
      },
      "execution_count": null,
      "outputs": [
        {
          "output_type": "stream",
          "name": "stdout",
          "text": [
            "[3, 4, 5]\n"
          ]
        }
      ]
    },
    {
      "cell_type": "code",
      "source": [
        "a=[3,4,5]\n",
        "b=[]\n",
        "for val in a:\n",
        "  b.append(val**2)\n",
        "print(b)"
      ],
      "metadata": {
        "colab": {
          "base_uri": "https://localhost:8080/"
        },
        "id": "uSXVRli903mo",
        "outputId": "77e2fb3b-06ab-41d9-a03a-bd9da5c60515"
      },
      "execution_count": null,
      "outputs": [
        {
          "output_type": "stream",
          "name": "stdout",
          "text": [
            "[9, 16, 25]\n"
          ]
        }
      ]
    },
    {
      "cell_type": "code",
      "source": [
        "c=[val**2 for val in a if val%2==0]\n",
        "print(c)"
      ],
      "metadata": {
        "colab": {
          "base_uri": "https://localhost:8080/"
        },
        "id": "LdiYT-r_1Ku_",
        "outputId": "434a5250-a9c2-48ab-cda9-3ee43ce9302c"
      },
      "execution_count": null,
      "outputs": [
        {
          "output_type": "stream",
          "name": "stdout",
          "text": [
            "[16]\n"
          ]
        }
      ]
    },
    {
      "cell_type": "code",
      "source": [
        "#6. Perform the above task using list comprehension\n",
        "n4=[i for i in n1 if i not in n2]\n",
        "print(n4)"
      ],
      "metadata": {
        "colab": {
          "base_uri": "https://localhost:8080/"
        },
        "id": "jtz2NJpoYO8a",
        "outputId": "75aa607f-a6af-4756-f1cd-6e7b502a8764"
      },
      "execution_count": null,
      "outputs": [
        {
          "output_type": "stream",
          "name": "stdout",
          "text": [
            "[3, 4, 5]\n"
          ]
        }
      ]
    },
    {
      "cell_type": "code",
      "source": [
        "#7. A nested list is given below\n",
        "mat=[[1,2,3],[4,5,6],[7,8,9]]\n",
        "mat"
      ],
      "metadata": {
        "colab": {
          "base_uri": "https://localhost:8080/"
        },
        "id": "kRWz8PCJZDj4",
        "outputId": "dbd5a864-9584-47e9-b711-54d11c03fddc"
      },
      "execution_count": null,
      "outputs": [
        {
          "output_type": "execute_result",
          "data": {
            "text/plain": [
              "[[1, 2, 3], [4, 5, 6], [7, 8, 9]]"
            ]
          },
          "metadata": {},
          "execution_count": 62
        }
      ]
    },
    {
      "cell_type": "code",
      "source": [
        "mat[2][1:]"
      ],
      "metadata": {
        "colab": {
          "base_uri": "https://localhost:8080/"
        },
        "id": "gayt42C_3qIu",
        "outputId": "c1bcca7f-a7df-48df-96be-80ee9aeea73b"
      },
      "execution_count": null,
      "outputs": [
        {
          "output_type": "execute_result",
          "data": {
            "text/plain": [
              "[8, 9]"
            ]
          },
          "metadata": {},
          "execution_count": 70
        }
      ]
    },
    {
      "cell_type": "code",
      "source": [
        "for row in mat:\n",
        "  for val in row:\n",
        "    print(val)\n",
        "    print('done')"
      ],
      "metadata": {
        "colab": {
          "base_uri": "https://localhost:8080/"
        },
        "id": "lWHEtBpi6AHk",
        "outputId": "5074f91b-0e5e-4b49-c8fd-d3aebb800eea"
      },
      "execution_count": null,
      "outputs": [
        {
          "output_type": "stream",
          "name": "stdout",
          "text": [
            "1\n",
            "done\n",
            "2\n",
            "done\n",
            "3\n",
            "done\n",
            "4\n",
            "done\n",
            "5\n",
            "done\n",
            "6\n",
            "done\n",
            "7\n",
            "done\n",
            "8\n",
            "done\n",
            "9\n",
            "done\n"
          ]
        }
      ]
    },
    {
      "cell_type": "code",
      "source": [
        "#7. Print the above nested list like a 3x3 matrix\n",
        "for r in mat:\n",
        "  print(r)"
      ],
      "metadata": {
        "colab": {
          "base_uri": "https://localhost:8080/"
        },
        "id": "of97XbKcZMyk",
        "outputId": "3d61c5fd-0052-4f03-808a-b1546bbff039"
      },
      "execution_count": null,
      "outputs": [
        {
          "output_type": "stream",
          "name": "stdout",
          "text": [
            "[1, 2, 3]\n",
            "[4, 5, 6]\n",
            "[7, 8, 9]\n"
          ]
        }
      ]
    },
    {
      "cell_type": "code",
      "source": [
        "4*[0]"
      ],
      "metadata": {
        "colab": {
          "base_uri": "https://localhost:8080/"
        },
        "id": "Cb3Dx6LeaHne",
        "outputId": "83cb8508-d38b-42cf-e153-d1dadcc86c19"
      },
      "execution_count": null,
      "outputs": [
        {
          "output_type": "execute_result",
          "data": {
            "text/plain": [
              "[0, 0, 0, 0]"
            ]
          },
          "metadata": {},
          "execution_count": 73
        }
      ]
    },
    {
      "cell_type": "code",
      "source": [
        "#8.What is the output of below list comprehension\n",
        "m=[4*[0] for i in range(3)]\n",
        "print(m)"
      ],
      "metadata": {
        "colab": {
          "base_uri": "https://localhost:8080/"
        },
        "id": "ph5pIK5mZ3J0",
        "outputId": "8a06b6eb-6567-491c-e4b0-4f1433095e45"
      },
      "execution_count": null,
      "outputs": [
        {
          "output_type": "stream",
          "name": "stdout",
          "text": [
            "[[0, 0, 0, 0], [0, 0, 0, 0], [0, 0, 0, 0]]\n"
          ]
        }
      ]
    },
    {
      "cell_type": "code",
      "source": [
        "#.Consider the two nested list given below\n",
        "L1=[[1,2,3,4],[5,6,7,8],[9,0,-1,2]]\n",
        "L2=[[0,1,2,3],[-2,4,3,2],[5,4,3,9]]\n",
        "print(L1)\n",
        "print(L2)"
      ],
      "metadata": {
        "colab": {
          "base_uri": "https://localhost:8080/"
        },
        "id": "yrxM_pzTaXes",
        "outputId": "b0b2c05d-cc20-4fab-f679-80cdddd438db"
      },
      "execution_count": null,
      "outputs": [
        {
          "output_type": "stream",
          "name": "stdout",
          "text": [
            "[[1, 2, 3, 4], [5, 6, 7, 8], [9, 0, -1, 2]]\n",
            "[[0, 1, 2, 3], [-2, 4, 3, 2], [5, 4, 3, 9]]\n"
          ]
        }
      ]
    },
    {
      "cell_type": "code",
      "source": [
        "L1+L2"
      ],
      "metadata": {
        "colab": {
          "base_uri": "https://localhost:8080/"
        },
        "id": "APxEzsUk9L9L",
        "outputId": "fd4ba816-94ce-46a1-bda6-2ac9e4f35c1b"
      },
      "execution_count": null,
      "outputs": [
        {
          "output_type": "execute_result",
          "data": {
            "text/plain": [
              "[[1, 2, 3, 4],\n",
              " [5, 6, 7, 8],\n",
              " [9, 0, -1, 2],\n",
              " [0, 1, 2, 3],\n",
              " [-2, 4, 3, 2],\n",
              " [5, 4, 3, 9]]"
            ]
          },
          "metadata": {},
          "execution_count": 77
        }
      ]
    },
    {
      "cell_type": "code",
      "source": [
        "#9.Add the corresponding elements of L1 and L2 and and store in L3"
      ],
      "metadata": {
        "id": "4iWwKI7Eaz0c"
      },
      "execution_count": null,
      "outputs": []
    },
    {
      "cell_type": "code",
      "source": [
        "L3=[4*[0] for i in range(3)]\n",
        "for i in range(3):\n",
        "  for j in range(4):\n",
        "    L3[i][j]=L1[i][j]+L2[i][j]\n",
        "print(L3)"
      ],
      "metadata": {
        "colab": {
          "base_uri": "https://localhost:8080/"
        },
        "id": "TtF-oIbna_8m",
        "outputId": "405e9cd1-5a98-4f70-9946-b2a74588d5b7"
      },
      "execution_count": null,
      "outputs": [
        {
          "output_type": "stream",
          "name": "stdout",
          "text": [
            "[[1, 3, 5, 7], [3, 10, 10, 10], [14, 4, 2, 11]]\n"
          ]
        }
      ]
    },
    {
      "cell_type": "code",
      "source": [
        "[[L1[i][j]+L2[i][j] for j in range(4)] for i in range(3)]"
      ],
      "metadata": {
        "colab": {
          "base_uri": "https://localhost:8080/"
        },
        "id": "-65LVxW0LiLH",
        "outputId": "0e25c096-df82-4d18-82df-f7a9c8d36917"
      },
      "execution_count": null,
      "outputs": [
        {
          "output_type": "execute_result",
          "data": {
            "text/plain": [
              "[[1, 3, 5, 7], [3, 10, 10, 10], [14, 4, 2, 11]]"
            ]
          },
          "metadata": {},
          "execution_count": 84
        }
      ]
    },
    {
      "cell_type": "code",
      "source": [
        "#10 Using List comprehension get squares of even integers from 1 to 10"
      ],
      "metadata": {
        "id": "Nlo4Si5lbe00"
      },
      "execution_count": null,
      "outputs": []
    },
    {
      "cell_type": "code",
      "source": [
        "[x**2 for x in range(1,11)]"
      ],
      "metadata": {
        "colab": {
          "base_uri": "https://localhost:8080/"
        },
        "id": "zIXJO2s_bqaf",
        "outputId": "d934096b-6754-4f8d-fdf3-405fde27fbd9"
      },
      "execution_count": null,
      "outputs": [
        {
          "output_type": "execute_result",
          "data": {
            "text/plain": [
              "[1, 4, 9, 16, 25, 36, 49, 64, 81, 100]"
            ]
          },
          "metadata": {},
          "execution_count": 85
        }
      ]
    },
    {
      "cell_type": "code",
      "source": [
        "[x**2 for x in range(1,11) if x%2==0]"
      ],
      "metadata": {
        "colab": {
          "base_uri": "https://localhost:8080/"
        },
        "id": "x-ScF5J-bwT7",
        "outputId": "9e87b104-63a4-49c6-e1d1-612321dbc9c2"
      },
      "execution_count": null,
      "outputs": [
        {
          "output_type": "execute_result",
          "data": {
            "text/plain": [
              "[4, 16, 36, 64, 100]"
            ]
          },
          "metadata": {},
          "execution_count": 86
        }
      ]
    },
    {
      "cell_type": "code",
      "source": [
        "#For the given list below\n",
        "fruits=['Apple','Orange','Banana','Grapes']\n",
        "#11.Extract all first characters of each fruit and collect in the form of list comprehension"
      ],
      "metadata": {
        "id": "Rgn_i-iRcD3C"
      },
      "execution_count": null,
      "outputs": []
    },
    {
      "cell_type": "code",
      "source": [
        "[w[0] for w in fruits]"
      ],
      "metadata": {
        "colab": {
          "base_uri": "https://localhost:8080/"
        },
        "id": "3AJH-6PTcdIs",
        "outputId": "3abcff35-95b0-4d6c-9d3e-c831e6b0aa4f"
      },
      "execution_count": null,
      "outputs": [
        {
          "output_type": "execute_result",
          "data": {
            "text/plain": [
              "['A', 'O', 'B', 'G']"
            ]
          },
          "metadata": {},
          "execution_count": 88
        }
      ]
    },
    {
      "cell_type": "code",
      "source": [
        "#12.Create a Lambda function that returns squares of elements in a list\n",
        "lst=[1,2,3,4,5]"
      ],
      "metadata": {
        "id": "H7Del5LlcwGi"
      },
      "execution_count": null,
      "outputs": []
    },
    {
      "cell_type": "code",
      "source": [
        "list(map(lambda x:x**2,lst))"
      ],
      "metadata": {
        "id": "GvaGEc5zdMit",
        "colab": {
          "base_uri": "https://localhost:8080/"
        },
        "outputId": "e5c39a43-e4bf-4650-9b5c-7c18dded5b5f"
      },
      "execution_count": null,
      "outputs": [
        {
          "output_type": "execute_result",
          "data": {
            "text/plain": [
              "[1, 4, 9, 16, 25]"
            ]
          },
          "metadata": {},
          "execution_count": 90
        }
      ]
    },
    {
      "cell_type": "code",
      "source": [
        "#Consider the below two list\n",
        "lst1=[1,2,3,4,5]\n",
        "lst2=[6,7,8,9,10]\n",
        "#13.Write a lambda function to return product of each element of two lists"
      ],
      "metadata": {
        "id": "iDIG-oOpdR2G"
      },
      "execution_count": null,
      "outputs": []
    },
    {
      "cell_type": "code",
      "source": [
        "[lst1[idx]*lst2[idx] for idx in range(5)]"
      ],
      "metadata": {
        "colab": {
          "base_uri": "https://localhost:8080/"
        },
        "id": "RmbjjWrOVg2D",
        "outputId": "bfb6fea9-d0dc-435f-edbe-c3ef7b7e555e"
      },
      "execution_count": null,
      "outputs": [
        {
          "output_type": "execute_result",
          "data": {
            "text/plain": [
              "[6, 14, 24, 36, 50]"
            ]
          },
          "metadata": {},
          "execution_count": 92
        }
      ]
    },
    {
      "cell_type": "code",
      "source": [
        "list(map(lambda x,y:x*y,lst1,lst2))"
      ],
      "metadata": {
        "colab": {
          "base_uri": "https://localhost:8080/"
        },
        "id": "yOnZYX7kdwkT",
        "outputId": "a4a49224-e3a0-481b-ce07-938e443993d1"
      },
      "execution_count": null,
      "outputs": [
        {
          "output_type": "execute_result",
          "data": {
            "text/plain": [
              "[6, 14, 24, 36, 50]"
            ]
          },
          "metadata": {},
          "execution_count": 93
        }
      ]
    },
    {
      "cell_type": "code",
      "source": [
        "#For the given list \n",
        "a=[[1,2,3],[4,5,6],[7,8,9]]\n",
        "#14.Using list comprehension square each element and save the result in a 2D list"
      ],
      "metadata": {
        "id": "RhfZTbtCy9bX"
      },
      "execution_count": null,
      "outputs": []
    },
    {
      "cell_type": "code",
      "source": [
        "#conventional way\n",
        "for row in a:\n",
        "  for x in row:\n",
        "    print(x**2)\n",
        "    print('done')"
      ],
      "metadata": {
        "colab": {
          "base_uri": "https://localhost:8080/"
        },
        "id": "Sctfah40zEXT",
        "outputId": "6840f45b-09cd-49cc-86b0-a3d0c3a28a71"
      },
      "execution_count": null,
      "outputs": [
        {
          "output_type": "stream",
          "name": "stdout",
          "text": [
            "1\n",
            "done\n",
            "4\n",
            "done\n",
            "9\n",
            "done\n",
            "16\n",
            "done\n",
            "25\n",
            "done\n",
            "36\n",
            "done\n",
            "49\n",
            "done\n",
            "64\n",
            "done\n",
            "81\n",
            "done\n"
          ]
        }
      ]
    },
    {
      "cell_type": "code",
      "source": [
        "sq=[[x**2 for x in row] for row in a]\n",
        "print(sq)"
      ],
      "metadata": {
        "colab": {
          "base_uri": "https://localhost:8080/"
        },
        "id": "rFbsb-hbzZdU",
        "outputId": "2700b028-d5cc-465c-8a59-ac979bc5d46d"
      },
      "execution_count": null,
      "outputs": [
        {
          "output_type": "stream",
          "name": "stdout",
          "text": [
            "[[1, 4, 9], [16, 25, 36], [49, 64, 81]]\n"
          ]
        }
      ]
    },
    {
      "cell_type": "code",
      "source": [
        "#15.Perform the same operation using List comprehension\n",
        "flat=[]\n",
        "for sublist1 in a:\n",
        "  for sublist2 in sublist1:\n",
        "    flat.append(sublist2)\n",
        "print(flat)"
      ],
      "metadata": {
        "colab": {
          "base_uri": "https://localhost:8080/"
        },
        "id": "Koo8QyYTzk1D",
        "outputId": "021e55fd-0da4-4a0a-8785-2c453e563474"
      },
      "execution_count": null,
      "outputs": [
        {
          "output_type": "stream",
          "name": "stdout",
          "text": [
            "[1, 2, 3, 4, 5, 6, 7, 8, 9]\n"
          ]
        }
      ]
    },
    {
      "cell_type": "code",
      "source": [
        "flat=[j for sub in a for j in sub]\n",
        "flat"
      ],
      "metadata": {
        "colab": {
          "base_uri": "https://localhost:8080/"
        },
        "id": "3f53ovEb0LIl",
        "outputId": "84f1df9d-b9f3-4af0-eb25-3c5147bd6777"
      },
      "execution_count": null,
      "outputs": [
        {
          "output_type": "execute_result",
          "data": {
            "text/plain": [
              "[1, 2, 3, 4, 5, 6, 7, 8, 9]"
            ]
          },
          "metadata": {},
          "execution_count": 6
        }
      ]
    },
    {
      "cell_type": "markdown",
      "source": [
        "* Prefer Enumerate over Range"
      ],
      "metadata": {
        "id": "LXVhyrXW0T8-"
      }
    },
    {
      "cell_type": "code",
      "source": [
        "flavor_list=['vanilla','chocolate','mango','strawberry']\n",
        "for i in range(len(flavor_list)):\n",
        "  flavor=flavor_list[i]\n",
        "  print('%d: %s' %(i+1,flavor))"
      ],
      "metadata": {
        "colab": {
          "base_uri": "https://localhost:8080/"
        },
        "id": "17tYMLeY0Uhw",
        "outputId": "12dc48e2-d727-478b-be0b-6401da9c20f9"
      },
      "execution_count": null,
      "outputs": [
        {
          "output_type": "stream",
          "name": "stdout",
          "text": [
            "1: vanilla\n",
            "2: chocolate\n",
            "3: mango\n",
            "4: strawberry\n"
          ]
        }
      ]
    },
    {
      "cell_type": "code",
      "source": [
        "for flavor,i in enumerate(flavor_list):\n",
        "  print(i)\n",
        "  print(flavor)\n",
        "  print('done')"
      ],
      "metadata": {
        "colab": {
          "base_uri": "https://localhost:8080/"
        },
        "id": "eLtKvyd2Y6Pj",
        "outputId": "fd1bc874-2e6f-4b84-bf0f-4343f3c462dd"
      },
      "execution_count": null,
      "outputs": [
        {
          "output_type": "stream",
          "name": "stdout",
          "text": [
            "vanilla\n",
            "0\n",
            "done\n",
            "chocolate\n",
            "1\n",
            "done\n",
            "mango\n",
            "2\n",
            "done\n",
            "strawberry\n",
            "3\n",
            "done\n"
          ]
        }
      ]
    },
    {
      "cell_type": "code",
      "source": [
        "for i,flavor in enumerate(flavor_list):\n",
        "  print('%d: %s' %(i+1,flavor))"
      ],
      "metadata": {
        "colab": {
          "base_uri": "https://localhost:8080/"
        },
        "id": "saqiE8Y50cKJ",
        "outputId": "3b58ca9b-a575-47f6-e565-c8dc65d2077a"
      },
      "execution_count": null,
      "outputs": [
        {
          "output_type": "stream",
          "name": "stdout",
          "text": [
            "1: vanilla\n",
            "2: chocolate\n",
            "3: mango\n",
            "4: strawberry\n"
          ]
        }
      ]
    },
    {
      "cell_type": "markdown",
      "source": [
        "* use zip to process multiple iterators in parallel"
      ],
      "metadata": {
        "id": "SekTTKLp0lgT"
      }
    },
    {
      "cell_type": "code",
      "source": [
        "names=['Rajesh','Dinesh','Harshan','Suhas','Mahasri','Nethrasri','Yuva']\n",
        "letters=[len(n) for n in names]\n",
        "print(letters)"
      ],
      "metadata": {
        "colab": {
          "base_uri": "https://localhost:8080/"
        },
        "id": "p2xPwzz30maf",
        "outputId": "d91f6736-7dad-472c-c35c-920aa2b3b4a4"
      },
      "execution_count": null,
      "outputs": [
        {
          "output_type": "stream",
          "name": "stdout",
          "text": [
            "[6, 6, 7, 5, 7, 9, 4]\n"
          ]
        }
      ]
    },
    {
      "cell_type": "code",
      "source": [
        "#method-1\n",
        "longest_name=None\n",
        "max_letters=0\n",
        "for i in range(len(names)):\n",
        "  count=letters[i]\n",
        "  if count>max_letters:\n",
        "    longest_name=names[i]\n",
        "    max_letters=count\n",
        "print(longest_name)"
      ],
      "metadata": {
        "colab": {
          "base_uri": "https://localhost:8080/"
        },
        "id": "vzizqf3F0e3j",
        "outputId": "16265d43-24ba-461d-c6a6-dabf513d8bbf"
      },
      "execution_count": null,
      "outputs": [
        {
          "output_type": "stream",
          "name": "stdout",
          "text": [
            "Nethrasri\n"
          ]
        }
      ]
    },
    {
      "cell_type": "code",
      "source": [
        "#method-2\n",
        "for i,name in enumerate(names):\n",
        "  count=letters[i]\n",
        "  if count>max_letters:\n",
        "    longest_name=name\n",
        "    max_letters=count\n",
        "print(longest_name)"
      ],
      "metadata": {
        "colab": {
          "base_uri": "https://localhost:8080/"
        },
        "id": "SSuNkLtf1OXM",
        "outputId": "e343380e-0bdd-4666-ae5d-2e748ba1e752"
      },
      "execution_count": null,
      "outputs": [
        {
          "output_type": "stream",
          "name": "stdout",
          "text": [
            "Nethrasri\n"
          ]
        }
      ]
    },
    {
      "cell_type": "code",
      "source": [
        "#method-3\n",
        "for name,count in zip(names,letters):\n",
        "  if count>max_letters:\n",
        "    longest_name=name\n",
        "    max_letters=count\n",
        "print(longest_name)"
      ],
      "metadata": {
        "id": "pilJioZn1ZFf",
        "colab": {
          "base_uri": "https://localhost:8080/"
        },
        "outputId": "45669ab7-88b2-4a5e-e125-73ad712ecce7"
      },
      "execution_count": null,
      "outputs": [
        {
          "output_type": "stream",
          "name": "stdout",
          "text": [
            "Nethrasri\n"
          ]
        }
      ]
    }
  ]
}