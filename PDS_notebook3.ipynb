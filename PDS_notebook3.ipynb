{
  "nbformat": 4,
  "nbformat_minor": 0,
  "metadata": {
    "colab": {
      "provenance": [],
      "collapsed_sections": [],
      "include_colab_link": true
    },
    "language_info": {
      "codemirror_mode": {
        "name": "ipython",
        "version": 3
      },
      "file_extension": ".py",
      "mimetype": "text/x-python",
      "name": "python",
      "nbconvert_exporter": "python",
      "pygments_lexer": "ipython3",
      "version": "3.6.3"
    },
    "kernelspec": {
      "display_name": "Python 3",
      "language": "python",
      "name": "python3"
    }
  },
  "cells": [
    {
      "cell_type": "markdown",
      "metadata": {
        "id": "view-in-github",
        "colab_type": "text"
      },
      "source": [
        "<a href=\"https://colab.research.google.com/github/SuryARavichan/python-basics/blob/main/PDS_notebook3.ipynb\" target=\"_parent\"><img src=\"https://colab.research.google.com/assets/colab-badge.svg\" alt=\"Open In Colab\"/></a>"
      ]
    },
    {
      "cell_type": "code",
      "metadata": {
        "id": "DTGlj6qsSBSh"
      },
      "source": [
        "import copy\n",
        "import random\n",
        "import numpy as np\n",
        "import pandas as pd\n",
        "import matplotlib.pyplot as plt\n",
        "%matplotlib inline"
      ],
      "execution_count": null,
      "outputs": []
    },
    {
      "cell_type": "code",
      "metadata": {
        "id": "5pCAKspiSFDn",
        "colab": {
          "base_uri": "https://localhost:8080/"
        },
        "outputId": "220f7375-7543-456d-f933-e5b346bd7e27"
      },
      "source": [
        "#1-D Numpy array\n",
        "a=np.array([12.8,16,24,65,25.7]) #discrete array\n",
        "print(a)\n",
        "type(a)"
      ],
      "execution_count": null,
      "outputs": [
        {
          "output_type": "stream",
          "name": "stdout",
          "text": [
            "[12.8 16.  24.  65.  25.7]\n"
          ]
        },
        {
          "output_type": "execute_result",
          "data": {
            "text/plain": [
              "numpy.ndarray"
            ]
          },
          "metadata": {},
          "execution_count": 2
        }
      ]
    },
    {
      "cell_type": "code",
      "source": [
        "val=np.arange(15,50,.2)\n",
        "len(val),val.shape"
      ],
      "metadata": {
        "colab": {
          "base_uri": "https://localhost:8080/"
        },
        "id": "YoewxzlD60Q-",
        "outputId": "1259c7a4-18c3-48fd-92e3-cf3f06520a8a"
      },
      "execution_count": null,
      "outputs": [
        {
          "output_type": "execute_result",
          "data": {
            "text/plain": [
              "(175, (175,))"
            ]
          },
          "metadata": {},
          "execution_count": 47
        }
      ]
    },
    {
      "cell_type": "code",
      "source": [
        "val2=np.arange(100,48,-2.5)\n",
        "val2"
      ],
      "metadata": {
        "colab": {
          "base_uri": "https://localhost:8080/"
        },
        "id": "LQ0y7L_v7zc_",
        "outputId": "ccc89aac-9fa7-441d-f8ec-fd49df1be934"
      },
      "execution_count": null,
      "outputs": [
        {
          "output_type": "execute_result",
          "data": {
            "text/plain": [
              "array([100. ,  97.5,  95. ,  92.5,  90. ,  87.5,  85. ,  82.5,  80. ,\n",
              "        77.5,  75. ,  72.5,  70. ,  67.5,  65. ,  62.5,  60. ,  57.5,\n",
              "        55. ,  52.5,  50. ])"
            ]
          },
          "metadata": {},
          "execution_count": 52
        }
      ]
    },
    {
      "cell_type": "code",
      "source": [
        "val2[-10::-2]"
      ],
      "metadata": {
        "colab": {
          "base_uri": "https://localhost:8080/"
        },
        "id": "whkRdAd_92Uh",
        "outputId": "aaba7eb7-e238-425c-e375-571c68e7047d"
      },
      "execution_count": null,
      "outputs": [
        {
          "output_type": "execute_result",
          "data": {
            "text/plain": [
              "array([72.5, 77.5, 82.5, 87.5, 92.5, 97.5])"
            ]
          },
          "metadata": {},
          "execution_count": 60
        }
      ]
    },
    {
      "cell_type": "code",
      "source": [
        "val2[2::-1]"
      ],
      "metadata": {
        "colab": {
          "base_uri": "https://localhost:8080/"
        },
        "id": "QwPjt9xy-Vaz",
        "outputId": "92e31c5c-8a49-4ac2-e02b-63239f4cff4e"
      },
      "execution_count": null,
      "outputs": [
        {
          "output_type": "execute_result",
          "data": {
            "text/plain": [
              "array([ 95. ,  97.5, 100. ])"
            ]
          },
          "metadata": {},
          "execution_count": 61
        }
      ]
    },
    {
      "cell_type": "code",
      "source": [
        "val2[2::4]"
      ],
      "metadata": {
        "colab": {
          "base_uri": "https://localhost:8080/"
        },
        "id": "wJbftVWp8vfs",
        "outputId": "33d0e69b-0c38-458c-c2bb-48d60cfc61ca"
      },
      "execution_count": null,
      "outputs": [
        {
          "output_type": "execute_result",
          "data": {
            "text/plain": [
              "array([95., 85., 75., 65., 55.])"
            ]
          },
          "metadata": {},
          "execution_count": 58
        }
      ]
    },
    {
      "cell_type": "code",
      "source": [
        "val2[-10::2]"
      ],
      "metadata": {
        "colab": {
          "base_uri": "https://localhost:8080/"
        },
        "id": "2fqVKEwT9eMy",
        "outputId": "b49d9abe-a4a4-4055-fcef-e55df17ef101"
      },
      "execution_count": null,
      "outputs": [
        {
          "output_type": "execute_result",
          "data": {
            "text/plain": [
              "array([72.5, 67.5, 62.5, 57.5, 52.5])"
            ]
          },
          "metadata": {},
          "execution_count": 59
        }
      ]
    },
    {
      "cell_type": "code",
      "source": [
        "np.sum(val[-5:]),np.mean(val[-5:])"
      ],
      "metadata": {
        "colab": {
          "base_uri": "https://localhost:8080/"
        },
        "id": "cUdbLPY68Zhu",
        "outputId": "7bac9fdd-52f3-401c-dc6e-5b7774d7fecb"
      },
      "execution_count": null,
      "outputs": [
        {
          "output_type": "execute_result",
          "data": {
            "text/plain": [
              "(246.99999999999937, 49.39999999999988)"
            ]
          },
          "metadata": {},
          "execution_count": 56
        }
      ]
    },
    {
      "cell_type": "code",
      "source": [
        "val[10:15]"
      ],
      "metadata": {
        "colab": {
          "base_uri": "https://localhost:8080/"
        },
        "id": "iQHHYUcM8pq0",
        "outputId": "64bee6b7-9317-44e1-931c-e13533d4fdaf"
      },
      "execution_count": null,
      "outputs": [
        {
          "output_type": "execute_result",
          "data": {
            "text/plain": [
              "array([17. , 17.2, 17.4, 17.6, 17.8])"
            ]
          },
          "metadata": {},
          "execution_count": 57
        }
      ]
    },
    {
      "cell_type": "code",
      "source": [
        "val.shape"
      ],
      "metadata": {
        "colab": {
          "base_uri": "https://localhost:8080/"
        },
        "id": "t-f5FfwP7HCG",
        "outputId": "60cc379f-50e7-49a1-e21c-b10005314075"
      },
      "execution_count": null,
      "outputs": [
        {
          "output_type": "execute_result",
          "data": {
            "text/plain": [
              "(175,)"
            ]
          },
          "metadata": {},
          "execution_count": 46
        }
      ]
    },
    {
      "cell_type": "code",
      "source": [
        "b=a.reshape(-1,1)\n",
        "print(b)"
      ],
      "metadata": {
        "colab": {
          "base_uri": "https://localhost:8080/"
        },
        "id": "_Fususn1zyFV",
        "outputId": "820ddee7-eacf-4d1d-9b64-dc1ad8404c8c"
      },
      "execution_count": null,
      "outputs": [
        {
          "output_type": "stream",
          "name": "stdout",
          "text": [
            "[[12.8]\n",
            " [16. ]\n",
            " [24. ]\n",
            " [65. ]\n",
            " [25.7]]\n"
          ]
        }
      ]
    },
    {
      "cell_type": "code",
      "source": [
        "a.shape,b.shape"
      ],
      "metadata": {
        "colab": {
          "base_uri": "https://localhost:8080/"
        },
        "id": "gVLLauaizp7m",
        "outputId": "34946d09-219a-40c5-c75b-28e225c966f7"
      },
      "execution_count": null,
      "outputs": [
        {
          "output_type": "execute_result",
          "data": {
            "text/plain": [
              "((5,), (5, 1))"
            ]
          },
          "metadata": {},
          "execution_count": 8
        }
      ]
    },
    {
      "cell_type": "code",
      "metadata": {
        "id": "U_7i2abTQAJv",
        "colab": {
          "base_uri": "https://localhost:8080/",
          "height": 34
        },
        "outputId": "1eb3ce03-9b83-4abc-88e8-b09270603416"
      },
      "source": [
        "L=[4,5,8]\n",
        "np.mean(L)"
      ],
      "execution_count": null,
      "outputs": [
        {
          "output_type": "execute_result",
          "data": {
            "text/plain": [
              "5.666666666666667"
            ]
          },
          "metadata": {
            "tags": []
          },
          "execution_count": 22
        }
      ]
    },
    {
      "cell_type": "code",
      "metadata": {
        "id": "N8yRmgsXUrn_",
        "colab": {
          "base_uri": "https://localhost:8080/",
          "height": 34
        },
        "outputId": "55217c1d-b7cf-436a-c739-5cbb70597c1c"
      },
      "source": [
        "np.min(L),np.argmin(L)"
      ],
      "execution_count": null,
      "outputs": [
        {
          "output_type": "execute_result",
          "data": {
            "text/plain": [
              "(4, 0)"
            ]
          },
          "metadata": {
            "tags": []
          },
          "execution_count": 44
        }
      ]
    },
    {
      "cell_type": "code",
      "metadata": {
        "id": "ahMVpAAZU5VC",
        "colab": {
          "base_uri": "https://localhost:8080/",
          "height": 34
        },
        "outputId": "93b6ea9b-88ca-412c-ac38-152bef7d4883"
      },
      "source": [
        "np.max(L),np.argmax(L)"
      ],
      "execution_count": null,
      "outputs": [
        {
          "output_type": "execute_result",
          "data": {
            "text/plain": [
              "(8, 2)"
            ]
          },
          "metadata": {
            "tags": []
          },
          "execution_count": 45
        }
      ]
    },
    {
      "cell_type": "code",
      "metadata": {
        "id": "4m2arL4DPb7l",
        "colab": {
          "base_uri": "https://localhost:8080/",
          "height": 34
        },
        "outputId": "e7b1e44e-18e8-46d2-94c9-a7ec1fda8f30"
      },
      "source": [
        "a.mean() #mean as a method "
      ],
      "execution_count": null,
      "outputs": [
        {
          "output_type": "execute_result",
          "data": {
            "text/plain": [
              "28.7"
            ]
          },
          "metadata": {
            "tags": []
          },
          "execution_count": 18
        }
      ]
    },
    {
      "cell_type": "code",
      "metadata": {
        "id": "3i0PkRmoPt2d",
        "colab": {
          "base_uri": "https://localhost:8080/",
          "height": 34
        },
        "outputId": "1977f3b0-0eef-4805-e0cd-2c86133939a4"
      },
      "source": [
        "np.mean(a) #mean as a function"
      ],
      "execution_count": null,
      "outputs": [
        {
          "output_type": "execute_result",
          "data": {
            "text/plain": [
              "28.7"
            ]
          },
          "metadata": {
            "tags": []
          },
          "execution_count": 19
        }
      ]
    },
    {
      "cell_type": "code",
      "source": [
        "a"
      ],
      "metadata": {
        "colab": {
          "base_uri": "https://localhost:8080/"
        },
        "id": "jnKo_XAd-3S4",
        "outputId": "1d194c5f-afc6-42d5-fc7b-41b59a36eca4"
      },
      "execution_count": null,
      "outputs": [
        {
          "output_type": "execute_result",
          "data": {
            "text/plain": [
              "array([12.8, 16. , 24. , 65. , 25.7])"
            ]
          },
          "metadata": {},
          "execution_count": 69
        }
      ]
    },
    {
      "cell_type": "code",
      "source": [
        "age=np.array([22,23,24.5,26.3,28.3,30.2,35,38])\n",
        "np.mean(age),np.std(age,ddof=1)"
      ],
      "metadata": {
        "colab": {
          "base_uri": "https://localhost:8080/"
        },
        "id": "o1pBzJ_WBYrp",
        "outputId": "cdd2d1b5-0682-4c4b-933e-90b1b7a29508"
      },
      "execution_count": null,
      "outputs": [
        {
          "output_type": "execute_result",
          "data": {
            "text/plain": [
              "(28.4125, 5.7160019744073365)"
            ]
          },
          "metadata": {},
          "execution_count": 81
        }
      ]
    },
    {
      "cell_type": "code",
      "source": [
        "a_var=np.sum((a-np.mean(a))**2)/4"
      ],
      "metadata": {
        "id": "7VZB_yYwANLt"
      },
      "execution_count": null,
      "outputs": []
    },
    {
      "cell_type": "code",
      "source": [
        "a_sd=np.sqrt(a_var)\n",
        "a_sd"
      ],
      "metadata": {
        "colab": {
          "base_uri": "https://localhost:8080/"
        },
        "id": "RTHnO5O7A6nv",
        "outputId": "94799359-b05f-4f68-fb60-9be5a840edf9"
      },
      "execution_count": null,
      "outputs": [
        {
          "output_type": "execute_result",
          "data": {
            "text/plain": [
              "20.993332274796202"
            ]
          },
          "metadata": {},
          "execution_count": 78
        }
      ]
    },
    {
      "cell_type": "code",
      "metadata": {
        "id": "dCQvhkWOUDfz",
        "colab": {
          "base_uri": "https://localhost:8080/"
        },
        "outputId": "e2b6a025-9d2a-44b9-d40f-28c414e010d6"
      },
      "source": [
        "a_summary=[np.min(a),np.argmin(a),np.max(a),np.argmax(a),np.mean(a),np.median(a)]\n",
        "print(a_summary)"
      ],
      "execution_count": null,
      "outputs": [
        {
          "output_type": "stream",
          "name": "stdout",
          "text": [
            "[12.8, 0, 65.0, 3, 28.7, 24.0]\n"
          ]
        }
      ]
    },
    {
      "cell_type": "code",
      "metadata": {
        "id": "veY0Ol94UdDQ",
        "colab": {
          "base_uri": "https://localhost:8080/",
          "height": 34
        },
        "outputId": "02456489-dbc9-439f-bf99-319557dc0263"
      },
      "source": [
        "a.min() # all the above operations can be invoked as a method"
      ],
      "execution_count": null,
      "outputs": [
        {
          "output_type": "execute_result",
          "data": {
            "text/plain": [
              "12.8"
            ]
          },
          "metadata": {
            "tags": []
          },
          "execution_count": 41
        }
      ]
    },
    {
      "cell_type": "code",
      "source": [
        "a"
      ],
      "metadata": {
        "colab": {
          "base_uri": "https://localhost:8080/"
        },
        "id": "LT6fdsvZFzhs",
        "outputId": "c9e33e34-4959-452a-be25-a893ef7a767f"
      },
      "execution_count": null,
      "outputs": [
        {
          "output_type": "execute_result",
          "data": {
            "text/plain": [
              "array([12.8, 16. , 24. , 65. , 25.7])"
            ]
          },
          "metadata": {},
          "execution_count": 82
        }
      ]
    },
    {
      "cell_type": "code",
      "source": [
        "2.5*a"
      ],
      "metadata": {
        "colab": {
          "base_uri": "https://localhost:8080/"
        },
        "id": "Fhxe7zW-F0V6",
        "outputId": "c3707f31-1571-4221-cb0b-2c62f8ea0045"
      },
      "execution_count": null,
      "outputs": [
        {
          "output_type": "execute_result",
          "data": {
            "text/plain": [
              "array([ 32.  ,  40.  ,  60.  , 162.5 ,  64.25])"
            ]
          },
          "metadata": {},
          "execution_count": 83
        }
      ]
    },
    {
      "cell_type": "code",
      "metadata": {
        "id": "LmiqGmJvQU3B",
        "colab": {
          "base_uri": "https://localhost:8080/",
          "height": 34
        },
        "outputId": "8f1f3eb5-9ca0-4912-9436-89ffe0a8b22c"
      },
      "source": [
        "v=np.sum((a-a.mean())**2)/(len(a)-1)\n",
        "print(v)"
      ],
      "execution_count": null,
      "outputs": [
        {
          "output_type": "stream",
          "text": [
            "440.7199999999999\n"
          ],
          "name": "stdout"
        }
      ]
    },
    {
      "cell_type": "code",
      "metadata": {
        "id": "dohuQ7_QS-CT",
        "colab": {
          "base_uri": "https://localhost:8080/",
          "height": 34
        },
        "outputId": "f901bcef-7d43-4232-fdca-2a21d031f2ae"
      },
      "source": [
        "np.sqrt(v)"
      ],
      "execution_count": null,
      "outputs": [
        {
          "output_type": "execute_result",
          "data": {
            "text/plain": [
              "20.993332274796202"
            ]
          },
          "metadata": {
            "tags": []
          },
          "execution_count": 34
        }
      ]
    },
    {
      "cell_type": "code",
      "metadata": {
        "id": "fqBL-nRtTEJv",
        "colab": {
          "base_uri": "https://localhost:8080/",
          "height": 34
        },
        "outputId": "5be04a34-254f-41be-ac17-6b0db9166ab1"
      },
      "source": [
        "np.std(a)    #this formula is defined for population data "
      ],
      "execution_count": null,
      "outputs": [
        {
          "output_type": "execute_result",
          "data": {
            "text/plain": [
              "18.77700721627384"
            ]
          },
          "metadata": {
            "tags": []
          },
          "execution_count": 29
        }
      ]
    },
    {
      "cell_type": "code",
      "metadata": {
        "id": "jgZBhZmqTUhg",
        "colab": {
          "base_uri": "https://localhost:8080/",
          "height": 34
        },
        "outputId": "77bc20a0-6dfb-4502-901c-83a1aa1c8980"
      },
      "source": [
        "np.std(a,ddof=1) #sample standard deviation"
      ],
      "execution_count": null,
      "outputs": [
        {
          "output_type": "execute_result",
          "data": {
            "text/plain": [
              "20.993332274796202"
            ]
          },
          "metadata": {
            "tags": []
          },
          "execution_count": 35
        }
      ]
    },
    {
      "cell_type": "code",
      "metadata": {
        "id": "KAzIesyHOVSS",
        "colab": {
          "base_uri": "https://localhost:8080/",
          "height": 34
        },
        "outputId": "c04c6338-86a1-4c4c-e60e-93d33b4c7b7b"
      },
      "source": [
        "len(a)"
      ],
      "execution_count": null,
      "outputs": [
        {
          "output_type": "execute_result",
          "data": {
            "text/plain": [
              "5"
            ]
          },
          "metadata": {
            "tags": []
          },
          "execution_count": 14
        }
      ]
    },
    {
      "cell_type": "code",
      "metadata": {
        "id": "AOG6vrOAOiBf",
        "colab": {
          "base_uri": "https://localhost:8080/"
        },
        "outputId": "41014339-5528-4fe6-eb18-076e72d30bd6"
      },
      "source": [
        "np.log2(a) #vectorized operation"
      ],
      "execution_count": null,
      "outputs": [
        {
          "output_type": "execute_result",
          "data": {
            "text/plain": [
              "array([3.67807191, 4.        , 4.5849625 , 6.02236781, 4.68369645])"
            ]
          },
          "metadata": {},
          "execution_count": 84
        }
      ]
    },
    {
      "cell_type": "code",
      "metadata": {
        "id": "bVW64NtKhhGW",
        "colab": {
          "base_uri": "https://localhost:8080/",
          "height": 34
        },
        "outputId": "040bc6a5-0c04-4e1a-e41b-80c836f58ff8"
      },
      "source": [
        "np.sum(a)"
      ],
      "execution_count": null,
      "outputs": [
        {
          "output_type": "execute_result",
          "data": {
            "text/plain": [
              "143.5"
            ]
          },
          "metadata": {
            "tags": []
          },
          "execution_count": 15
        }
      ]
    },
    {
      "cell_type": "code",
      "metadata": {
        "id": "Llwr-8pahsVP"
      },
      "source": [
        "a_bar=np.sum(a)/len(a)"
      ],
      "execution_count": null,
      "outputs": []
    },
    {
      "cell_type": "code",
      "metadata": {
        "id": "1SvQUg6KkKn-",
        "colab": {
          "base_uri": "https://localhost:8080/",
          "height": 36
        },
        "outputId": "be1d48b5-ec50-4ff7-8958-acf0868f8098"
      },
      "source": [
        "np.std(a)"
      ],
      "execution_count": null,
      "outputs": [
        {
          "output_type": "execute_result",
          "data": {
            "text/plain": [
              "18.77700721627384"
            ]
          },
          "metadata": {
            "tags": []
          },
          "execution_count": 17
        }
      ]
    },
    {
      "cell_type": "code",
      "metadata": {
        "id": "4AS5U1AmlffO",
        "colab": {
          "base_uri": "https://localhost:8080/",
          "height": 36
        },
        "outputId": "fb1d9d35-e693-4e1d-a043-8d6b5630a239"
      },
      "source": [
        "np.sqrt(np.sum((a-a_bar)**2)/len(a))"
      ],
      "execution_count": null,
      "outputs": [
        {
          "output_type": "execute_result",
          "data": {
            "text/plain": [
              "18.77700721627384"
            ]
          },
          "metadata": {
            "tags": []
          },
          "execution_count": 23
        }
      ]
    },
    {
      "cell_type": "code",
      "metadata": {
        "id": "mRPmqQTsiB6F",
        "colab": {
          "base_uri": "https://localhost:8080/",
          "height": 34
        },
        "outputId": "52cd83bf-4832-464f-cfaf-881d371e0980"
      },
      "source": [
        "b=np.arange(25,102,0.5)\n",
        "len(b)"
      ],
      "execution_count": null,
      "outputs": [
        {
          "output_type": "execute_result",
          "data": {
            "text/plain": [
              "154"
            ]
          },
          "metadata": {
            "tags": []
          },
          "execution_count": 50
        }
      ]
    },
    {
      "cell_type": "code",
      "metadata": {
        "id": "z14zSFw8VlRP",
        "colab": {
          "base_uri": "https://localhost:8080/",
          "height": 34
        },
        "outputId": "5ede67cf-229c-42e0-fc5d-ab9d3f134f50"
      },
      "source": [
        "b[-10:].mean()"
      ],
      "execution_count": null,
      "outputs": [
        {
          "output_type": "execute_result",
          "data": {
            "text/plain": [
              "99.25"
            ]
          },
          "metadata": {
            "tags": []
          },
          "execution_count": 53
        }
      ]
    },
    {
      "cell_type": "code",
      "metadata": {
        "id": "h7B8KvYrir54",
        "colab": {
          "base_uri": "https://localhost:8080/",
          "height": 105
        },
        "outputId": "352ea4bc-d0c5-4724-ccbc-5f3de4e4661f"
      },
      "source": [
        "c=np.arange(75,2,-1)\n",
        "c"
      ],
      "execution_count": null,
      "outputs": [
        {
          "output_type": "execute_result",
          "data": {
            "text/plain": [
              "array([75, 74, 73, 72, 71, 70, 69, 68, 67, 66, 65, 64, 63, 62, 61, 60, 59,\n",
              "       58, 57, 56, 55, 54, 53, 52, 51, 50, 49, 48, 47, 46, 45, 44, 43, 42,\n",
              "       41, 40, 39, 38, 37, 36, 35, 34, 33, 32, 31, 30, 29, 28, 27, 26, 25,\n",
              "       24, 23, 22, 21, 20, 19, 18, 17, 16, 15, 14, 13, 12, 11, 10,  9,  8,\n",
              "        7,  6,  5,  4,  3])"
            ]
          },
          "metadata": {
            "tags": []
          },
          "execution_count": 56
        }
      ]
    },
    {
      "cell_type": "code",
      "source": [],
      "metadata": {
        "id": "9bC23GzpGByx"
      },
      "execution_count": null,
      "outputs": []
    },
    {
      "cell_type": "code",
      "metadata": {
        "id": "j69OoYgfjBo4",
        "colab": {
          "base_uri": "https://localhost:8080/"
        },
        "outputId": "0f394aab-cd03-42a3-f9a1-51d2c3baed45"
      },
      "source": [
        "#generate 20 samples starting from 0 ends with 1.5\n",
        "d=np.linspace(0,1.5,20)\n",
        "d"
      ],
      "execution_count": null,
      "outputs": [
        {
          "output_type": "execute_result",
          "data": {
            "text/plain": [
              "array([0.        , 0.07894737, 0.15789474, 0.23684211, 0.31578947,\n",
              "       0.39473684, 0.47368421, 0.55263158, 0.63157895, 0.71052632,\n",
              "       0.78947368, 0.86842105, 0.94736842, 1.02631579, 1.10526316,\n",
              "       1.18421053, 1.26315789, 1.34210526, 1.42105263, 1.5       ])"
            ]
          },
          "metadata": {},
          "execution_count": 86
        }
      ]
    },
    {
      "cell_type": "code",
      "source": [
        "len(d)"
      ],
      "metadata": {
        "colab": {
          "base_uri": "https://localhost:8080/"
        },
        "id": "Og8w0hU2Gb5Q",
        "outputId": "c814ac44-afe2-43dc-8e89-2e7a4f575b39"
      },
      "execution_count": null,
      "outputs": [
        {
          "output_type": "execute_result",
          "data": {
            "text/plain": [
              "20"
            ]
          },
          "metadata": {},
          "execution_count": 87
        }
      ]
    },
    {
      "cell_type": "code",
      "metadata": {
        "id": "KGo6ZuuwIAO6",
        "colab": {
          "base_uri": "https://localhost:8080/"
        },
        "outputId": "5196674f-7889-4c1d-c19e-66e18162bb39"
      },
      "source": [
        "#Sequential data declaration with step size\n",
        "b=np.arange(0,1.55,0.07894737)\n",
        "len(b)"
      ],
      "execution_count": null,
      "outputs": [
        {
          "output_type": "execute_result",
          "data": {
            "text/plain": [
              "20"
            ]
          },
          "metadata": {},
          "execution_count": 88
        }
      ]
    },
    {
      "cell_type": "code",
      "source": [
        "b"
      ],
      "metadata": {
        "colab": {
          "base_uri": "https://localhost:8080/"
        },
        "id": "3V3rmhuVHJ94",
        "outputId": "e6657280-3cbf-4c0b-9c94-18d66e73fe3c"
      },
      "execution_count": null,
      "outputs": [
        {
          "output_type": "execute_result",
          "data": {
            "text/plain": [
              "array([0.        , 0.07894737, 0.15789474, 0.23684211, 0.31578948,\n",
              "       0.39473685, 0.47368422, 0.55263159, 0.63157896, 0.71052633,\n",
              "       0.7894737 , 0.86842107, 0.94736844, 1.02631581, 1.10526318,\n",
              "       1.18421055, 1.26315792, 1.34210529, 1.42105266, 1.50000003])"
            ]
          },
          "metadata": {},
          "execution_count": 89
        }
      ]
    },
    {
      "cell_type": "code",
      "metadata": {
        "id": "K3WogKq2IrwD",
        "colab": {
          "base_uri": "https://localhost:8080/",
          "height": 91
        },
        "outputId": "9e1f25db-9713-4f86-8915-d63c36adec43"
      },
      "source": [
        "c=np.arange(76,15,-1.5)\n",
        "c"
      ],
      "execution_count": null,
      "outputs": [
        {
          "output_type": "execute_result",
          "data": {
            "text/plain": [
              "array([76. , 74.5, 73. , 71.5, 70. , 68.5, 67. , 65.5, 64. , 62.5, 61. ,\n",
              "       59.5, 58. , 56.5, 55. , 53.5, 52. , 50.5, 49. , 47.5, 46. , 44.5,\n",
              "       43. , 41.5, 40. , 38.5, 37. , 35.5, 34. , 32.5, 31. , 29.5, 28. ,\n",
              "       26.5, 25. , 23.5, 22. , 20.5, 19. , 17.5, 16. ])"
            ]
          },
          "metadata": {
            "tags": []
          },
          "execution_count": 13
        }
      ]
    },
    {
      "cell_type": "code",
      "metadata": {
        "id": "2oIu5Rc1PVqV",
        "colab": {
          "base_uri": "https://localhost:8080/",
          "height": 36
        },
        "outputId": "3c962fe8-323a-46d2-ad07-047192933ea6"
      },
      "source": [
        "c_bar=np.mean(c)\n",
        "c_bar,len(c)"
      ],
      "execution_count": null,
      "outputs": [
        {
          "output_type": "execute_result",
          "data": {
            "text/plain": [
              "(46.0, 41)"
            ]
          },
          "metadata": {
            "tags": []
          },
          "execution_count": 29
        }
      ]
    },
    {
      "cell_type": "code",
      "metadata": {
        "id": "2R4IsfFnPfDp",
        "colab": {
          "base_uri": "https://localhost:8080/",
          "height": 36
        },
        "outputId": "0bc01b39-f8e8-4b0b-f494-d7c1a2f75525"
      },
      "source": [
        "np.sqrt(np.sum((c-c_bar)**2)/len(c))"
      ],
      "execution_count": null,
      "outputs": [
        {
          "output_type": "execute_result",
          "data": {
            "text/plain": [
              "17.74823934929885"
            ]
          },
          "metadata": {
            "tags": []
          },
          "execution_count": 34
        }
      ]
    },
    {
      "cell_type": "code",
      "metadata": {
        "id": "cI2UY7erQCqm",
        "colab": {
          "base_uri": "https://localhost:8080/",
          "height": 36
        },
        "outputId": "58c8464c-84f7-4a66-e9ee-1ebb9c69f631"
      },
      "source": [
        "np.std(c)"
      ],
      "execution_count": null,
      "outputs": [
        {
          "output_type": "execute_result",
          "data": {
            "text/plain": [
              "17.74823934929885"
            ]
          },
          "metadata": {
            "tags": []
          },
          "execution_count": 35
        }
      ]
    },
    {
      "cell_type": "code",
      "metadata": {
        "id": "vSvXy_pGI71q",
        "colab": {
          "base_uri": "https://localhost:8080/",
          "height": 73
        },
        "outputId": "4c1037c3-b9d5-461b-8fa3-c574c47d6f4a"
      },
      "source": [
        "#Generate 20 samples starts with 0.5, ends with 1.5\n",
        "d=np.arange(0.5,1.5,0.0525) #last arg is step_size\n",
        "d"
      ],
      "execution_count": null,
      "outputs": [
        {
          "output_type": "execute_result",
          "data": {
            "text/plain": [
              "array([0.5   , 0.5525, 0.605 , 0.6575, 0.71  , 0.7625, 0.815 , 0.8675,\n",
              "       0.92  , 0.9725, 1.025 , 1.0775, 1.13  , 1.1825, 1.235 , 1.2875,\n",
              "       1.34  , 1.3925, 1.445 , 1.4975])"
            ]
          },
          "metadata": {
            "tags": []
          },
          "execution_count": 20
        }
      ]
    },
    {
      "cell_type": "code",
      "metadata": {
        "id": "JLRfMi35Ki3i",
        "colab": {
          "base_uri": "https://localhost:8080/",
          "height": 36
        },
        "outputId": "21c05be6-e526-465b-a662-e6ce33b0bdf1"
      },
      "source": [
        "e=np.linspace(0.5,1.5,20) #here the last argument is no of samples\n",
        "np.sum(e)"
      ],
      "execution_count": null,
      "outputs": [
        {
          "output_type": "execute_result",
          "data": {
            "text/plain": [
              "20.0"
            ]
          },
          "metadata": {
            "tags": []
          },
          "execution_count": 22
        }
      ]
    },
    {
      "cell_type": "code",
      "metadata": {
        "id": "vOltXdXhLRpa",
        "colab": {
          "base_uri": "https://localhost:8080/",
          "height": 73
        },
        "outputId": "99aa0f93-b9c4-4e96-cf9a-bd2ba2f6ca6e"
      },
      "source": [
        "b"
      ],
      "execution_count": null,
      "outputs": [
        {
          "output_type": "execute_result",
          "data": {
            "text/plain": [
              "array([25, 27, 29, 31, 33, 35, 37, 39, 41, 43, 45, 47, 49, 51, 53, 55, 57,\n",
              "       59, 61, 63, 65, 67, 69, 71, 73, 75, 77, 79, 81, 83, 85, 87, 89, 91,\n",
              "       93, 95, 97, 99])"
            ]
          },
          "metadata": {
            "tags": []
          },
          "execution_count": 25
        }
      ]
    },
    {
      "cell_type": "code",
      "metadata": {
        "id": "2SZKfzLuQRRr",
        "colab": {
          "base_uri": "https://localhost:8080/",
          "height": 36
        },
        "outputId": "b6694ad6-7088-43bb-c98a-6aecb48d23b2"
      },
      "source": [
        "len(b)"
      ],
      "execution_count": null,
      "outputs": [
        {
          "output_type": "execute_result",
          "data": {
            "text/plain": [
              "38"
            ]
          },
          "metadata": {
            "tags": []
          },
          "execution_count": 36
        }
      ]
    },
    {
      "cell_type": "code",
      "metadata": {
        "id": "xbns8xZUQbcV",
        "colab": {
          "base_uri": "https://localhost:8080/"
        },
        "outputId": "fd5447f2-cbd8-4ad2-e207-39ed09a5d73f"
      },
      "source": [
        "g=np.arange(14,74,1)\n",
        "g"
      ],
      "execution_count": null,
      "outputs": [
        {
          "output_type": "execute_result",
          "data": {
            "text/plain": [
              "array([14, 15, 16, 17, 18, 19, 20, 21, 22, 23, 24, 25, 26, 27, 28, 29, 30,\n",
              "       31, 32, 33, 34, 35, 36, 37, 38, 39, 40, 41, 42, 43, 44, 45, 46, 47,\n",
              "       48, 49, 50, 51, 52, 53, 54, 55, 56, 57, 58, 59, 60, 61, 62, 63, 64,\n",
              "       65, 66, 67, 68, 69, 70, 71, 72, 73])"
            ]
          },
          "metadata": {},
          "execution_count": 142
        }
      ]
    },
    {
      "cell_type": "code",
      "source": [
        "len(g)"
      ],
      "metadata": {
        "colab": {
          "base_uri": "https://localhost:8080/"
        },
        "id": "-sRKKS0VLNtm",
        "outputId": "89aeb1ad-eb1b-4c42-b704-3efef1d90c20"
      },
      "execution_count": null,
      "outputs": [
        {
          "output_type": "execute_result",
          "data": {
            "text/plain": [
              "60"
            ]
          },
          "metadata": {},
          "execution_count": 147
        }
      ]
    },
    {
      "cell_type": "code",
      "source": [
        "G=g.reshape(5,3,4)\n",
        "G.shape"
      ],
      "metadata": {
        "colab": {
          "base_uri": "https://localhost:8080/"
        },
        "id": "AFQviJfJStJ6",
        "outputId": "0ea9f642-d3c8-4253-b296-e711c54f4b8e"
      },
      "execution_count": null,
      "outputs": [
        {
          "output_type": "execute_result",
          "data": {
            "text/plain": [
              "(5, 3, 4)"
            ]
          },
          "metadata": {},
          "execution_count": 148
        }
      ]
    },
    {
      "cell_type": "code",
      "source": [
        "G"
      ],
      "metadata": {
        "colab": {
          "base_uri": "https://localhost:8080/"
        },
        "id": "oOxE1pvhTHxd",
        "outputId": "79c83755-b9d7-4563-989f-02a2d5fa0ecf"
      },
      "execution_count": null,
      "outputs": [
        {
          "output_type": "execute_result",
          "data": {
            "text/plain": [
              "array([[[14, 15, 16, 17],\n",
              "        [18, 19, 20, 21],\n",
              "        [22, 23, 24, 25]],\n",
              "\n",
              "       [[26, 27, 28, 29],\n",
              "        [30, 31, 32, 33],\n",
              "        [34, 35, 36, 37]],\n",
              "\n",
              "       [[38, 39, 40, 41],\n",
              "        [42, 43, 44, 45],\n",
              "        [46, 47, 48, 49]],\n",
              "\n",
              "       [[50, 51, 52, 53],\n",
              "        [54, 55, 56, 57],\n",
              "        [58, 59, 60, 61]],\n",
              "\n",
              "       [[62, 63, 64, 65],\n",
              "        [66, 67, 68, 69],\n",
              "        [70, 71, 72, 73]]])"
            ]
          },
          "metadata": {},
          "execution_count": 149
        }
      ]
    },
    {
      "cell_type": "code",
      "source": [
        "G[:,:,1].mean(axis=1)"
      ],
      "metadata": {
        "colab": {
          "base_uri": "https://localhost:8080/"
        },
        "id": "trLX8LvQk3Fp",
        "outputId": "99982434-6ab0-418d-db67-157e42eb0450"
      },
      "execution_count": null,
      "outputs": [
        {
          "output_type": "execute_result",
          "data": {
            "text/plain": [
              "array([19., 31., 43., 55., 67.])"
            ]
          },
          "metadata": {},
          "execution_count": 169
        }
      ]
    },
    {
      "cell_type": "code",
      "source": [
        "129/3"
      ],
      "metadata": {
        "colab": {
          "base_uri": "https://localhost:8080/"
        },
        "id": "unyxif9RlJHN",
        "outputId": "e44ccb8f-6264-4170-b7bc-48dec34d3f33"
      },
      "execution_count": null,
      "outputs": [
        {
          "output_type": "execute_result",
          "data": {
            "text/plain": [
              "43.0"
            ]
          },
          "metadata": {},
          "execution_count": 170
        }
      ]
    },
    {
      "cell_type": "code",
      "source": [
        "Gs1=G[:,:,0]\n",
        "print(Gs1)"
      ],
      "metadata": {
        "colab": {
          "base_uri": "https://localhost:8080/"
        },
        "id": "HxyAiCn3jgMb",
        "outputId": "2b5b4fce-11e7-40db-9965-0af6638fbd4c"
      },
      "execution_count": null,
      "outputs": [
        {
          "output_type": "stream",
          "name": "stdout",
          "text": [
            "[[14 18 22]\n",
            " [26 30 34]\n",
            " [38 42 46]\n",
            " [50 54 58]\n",
            " [62 66 70]]\n"
          ]
        }
      ]
    },
    {
      "cell_type": "code",
      "source": [
        "Gs1.reshape(-1)"
      ],
      "metadata": {
        "colab": {
          "base_uri": "https://localhost:8080/"
        },
        "id": "udmx7yTQjqO6",
        "outputId": "3d894b5c-0578-4034-9450-c1f3899de65d"
      },
      "execution_count": null,
      "outputs": [
        {
          "output_type": "execute_result",
          "data": {
            "text/plain": [
              "array([14, 18, 22, 26, 30, 34, 38, 42, 46, 50, 54, 58, 62, 66, 70])"
            ]
          },
          "metadata": {},
          "execution_count": 157
        }
      ]
    },
    {
      "cell_type": "code",
      "source": [
        "G[1,:,:]+G[3,:,:]"
      ],
      "metadata": {
        "colab": {
          "base_uri": "https://localhost:8080/"
        },
        "id": "a2T-_EScipm5",
        "outputId": "47316be6-c3f8-4024-8ef6-897979ba3982"
      },
      "execution_count": null,
      "outputs": [
        {
          "output_type": "execute_result",
          "data": {
            "text/plain": [
              "array([[76, 78, 80, 82],\n",
              "       [84, 86, 88, 90],\n",
              "       [92, 94, 96, 98]])"
            ]
          },
          "metadata": {},
          "execution_count": 150
        }
      ]
    },
    {
      "cell_type": "code",
      "source": [
        "G[2,:,:]+G[4,:,:]"
      ],
      "metadata": {
        "colab": {
          "base_uri": "https://localhost:8080/"
        },
        "id": "M8kF_XOHi2F3",
        "outputId": "8c3b514c-9963-4072-d1e6-65c796d90d17"
      },
      "execution_count": null,
      "outputs": [
        {
          "output_type": "execute_result",
          "data": {
            "text/plain": [
              "array([[100, 102, 104, 106],\n",
              "       [108, 110, 112, 114],\n",
              "       [116, 118, 120, 122]])"
            ]
          },
          "metadata": {},
          "execution_count": 151
        }
      ]
    },
    {
      "cell_type": "code",
      "source": [
        "G[0,:,:]"
      ],
      "metadata": {
        "colab": {
          "base_uri": "https://localhost:8080/"
        },
        "id": "y0ofUSZXTPyL",
        "outputId": "75c3c884-1704-4a1e-8b5a-3223fd161c08"
      },
      "execution_count": null,
      "outputs": [
        {
          "output_type": "execute_result",
          "data": {
            "text/plain": [
              "array([[14, 15, 16, 17, 18],\n",
              "       [19, 20, 21, 22, 23],\n",
              "       [24, 25, 26, 27, 28],\n",
              "       [29, 30, 31, 32, 33]])"
            ]
          },
          "metadata": {},
          "execution_count": 146
        }
      ]
    },
    {
      "cell_type": "code",
      "metadata": {
        "id": "DjPOk0QQYY7W"
      },
      "source": [
        "# 5x6 , 6x5, 3x10,10x3,15x2,2x15"
      ],
      "execution_count": null,
      "outputs": []
    },
    {
      "cell_type": "code",
      "metadata": {
        "id": "HmLwXUIlQk6b",
        "colab": {
          "base_uri": "https://localhost:8080/"
        },
        "outputId": "8d5a74da-a3c2-4861-c3e8-5ffb17ec1590"
      },
      "source": [
        "g2=g.reshape(5,6) #row-wise filling\n",
        "g2"
      ],
      "execution_count": null,
      "outputs": [
        {
          "output_type": "execute_result",
          "data": {
            "text/plain": [
              "array([[14, 16, 18, 20, 22, 24],\n",
              "       [26, 28, 30, 32, 34, 36],\n",
              "       [38, 40, 42, 44, 46, 48],\n",
              "       [50, 52, 54, 56, 58, 60],\n",
              "       [62, 64, 66, 68, 70, 72]])"
            ]
          },
          "metadata": {},
          "execution_count": 117
        }
      ]
    },
    {
      "cell_type": "code",
      "source": [
        "g3=g.reshape(6,5)\n",
        "g3"
      ],
      "metadata": {
        "colab": {
          "base_uri": "https://localhost:8080/"
        },
        "id": "Udsxy6qwOOXx",
        "outputId": "c48a8280-df27-445c-f29c-596bfd9d25ec"
      },
      "execution_count": null,
      "outputs": [
        {
          "output_type": "execute_result",
          "data": {
            "text/plain": [
              "array([[14, 16, 18, 20, 22],\n",
              "       [24, 26, 28, 30, 32],\n",
              "       [34, 36, 38, 40, 42],\n",
              "       [44, 46, 48, 50, 52],\n",
              "       [54, 56, 58, 60, 62],\n",
              "       [64, 66, 68, 70, 72]])"
            ]
          },
          "metadata": {},
          "execution_count": 118
        }
      ]
    },
    {
      "cell_type": "code",
      "source": [
        "g2.shape,g3.shape"
      ],
      "metadata": {
        "colab": {
          "base_uri": "https://localhost:8080/"
        },
        "id": "lhn4FojPOcch",
        "outputId": "aae99d20-1111-43c9-92f4-a1402461f79e"
      },
      "execution_count": null,
      "outputs": [
        {
          "output_type": "execute_result",
          "data": {
            "text/plain": [
              "((5, 6), (6, 5))"
            ]
          },
          "metadata": {},
          "execution_count": 119
        }
      ]
    },
    {
      "cell_type": "code",
      "source": [
        "(g2.transpose())*g3"
      ],
      "metadata": {
        "colab": {
          "base_uri": "https://localhost:8080/"
        },
        "id": "g_A5BwaaQMP7",
        "outputId": "d3c8fd05-5cd9-4681-fce1-a8426c90408e"
      },
      "execution_count": null,
      "outputs": [
        {
          "output_type": "execute_result",
          "data": {
            "text/plain": [
              "array([[ 196,  416,  684, 1000, 1364],\n",
              "       [ 384,  728, 1120, 1560, 2048],\n",
              "       [ 612, 1080, 1596, 2160, 2772],\n",
              "       [ 880, 1472, 2112, 2800, 3536],\n",
              "       [1188, 1904, 2668, 3480, 4340],\n",
              "       [1536, 2376, 3264, 4200, 5184]])"
            ]
          },
          "metadata": {},
          "execution_count": 131
        }
      ]
    },
    {
      "cell_type": "code",
      "source": [
        "g2.dot(g3)"
      ],
      "metadata": {
        "colab": {
          "base_uri": "https://localhost:8080/"
        },
        "id": "jZemCqj2P3hW",
        "outputId": "59008e9b-6742-490a-8daf-64297b98fa68"
      },
      "execution_count": null,
      "outputs": [
        {
          "output_type": "execute_result",
          "data": {
            "text/plain": [
              "array([[ 4796,  5024,  5252,  5480,  5708],\n",
              "       [ 7604,  7976,  8348,  8720,  9092],\n",
              "       [10412, 10928, 11444, 11960, 12476],\n",
              "       [13220, 13880, 14540, 15200, 15860],\n",
              "       [16028, 16832, 17636, 18440, 19244]])"
            ]
          },
          "metadata": {},
          "execution_count": 128
        }
      ]
    },
    {
      "cell_type": "code",
      "source": [
        "p=np.array([[1,2],[3,4]])\n",
        "q=np.array([[2,1],[0,3]])"
      ],
      "metadata": {
        "id": "sZGSJhlQOxrU"
      },
      "execution_count": null,
      "outputs": []
    },
    {
      "cell_type": "code",
      "source": [
        "print(p)\n",
        "print(q)"
      ],
      "metadata": {
        "colab": {
          "base_uri": "https://localhost:8080/"
        },
        "id": "7w18K802O8pl",
        "outputId": "9f74816d-9465-4ae7-850d-7a70154c5cab"
      },
      "execution_count": null,
      "outputs": [
        {
          "output_type": "stream",
          "name": "stdout",
          "text": [
            "[[1 2]\n",
            " [3 4]]\n",
            "[[2 1]\n",
            " [0 3]]\n"
          ]
        }
      ]
    },
    {
      "cell_type": "code",
      "source": [
        "p*q"
      ],
      "metadata": {
        "colab": {
          "base_uri": "https://localhost:8080/"
        },
        "id": "lg2TfWMDO6p6",
        "outputId": "35c34d36-ae2a-4691-cd86-e8b15b8b4604"
      },
      "execution_count": null,
      "outputs": [
        {
          "output_type": "execute_result",
          "data": {
            "text/plain": [
              "array([[ 2,  2],\n",
              "       [ 0, 12]])"
            ]
          },
          "metadata": {},
          "execution_count": 126
        }
      ]
    },
    {
      "cell_type": "code",
      "source": [
        "p.dot(q)"
      ],
      "metadata": {
        "colab": {
          "base_uri": "https://localhost:8080/"
        },
        "id": "92Fpq3r-PjTD",
        "outputId": "2243a3cc-0370-40e4-8c81-e062753deced"
      },
      "execution_count": null,
      "outputs": [
        {
          "output_type": "execute_result",
          "data": {
            "text/plain": [
              "array([[ 2,  7],\n",
              "       [ 6, 15]])"
            ]
          },
          "metadata": {},
          "execution_count": 127
        }
      ]
    },
    {
      "cell_type": "code",
      "metadata": {
        "id": "7QCf748yQ-ir",
        "colab": {
          "base_uri": "https://localhost:8080/"
        },
        "outputId": "94d1474f-fcf6-4e57-b272-843779a75b49"
      },
      "source": [
        "r=np.array([[7,29,8,-4],[2,3,-1,7],[-6,10,8,15]])\n",
        "r"
      ],
      "execution_count": null,
      "outputs": [
        {
          "output_type": "execute_result",
          "data": {
            "text/plain": [
              "array([[ 7, 29,  8, -4],\n",
              "       [ 2,  3, -1,  7],\n",
              "       [-6, 10,  8, 15]])"
            ]
          },
          "metadata": {},
          "execution_count": 100
        }
      ]
    },
    {
      "cell_type": "code",
      "source": [
        "R=r.transpose()\n",
        "print(R)"
      ],
      "metadata": {
        "colab": {
          "base_uri": "https://localhost:8080/"
        },
        "id": "q1H23mQ_NmZ3",
        "outputId": "1b180a93-7357-49ab-a8af-fc454b40d98a"
      },
      "execution_count": null,
      "outputs": [
        {
          "output_type": "stream",
          "name": "stdout",
          "text": [
            "[[ 7  2 -6]\n",
            " [29  3 10]\n",
            " [ 8 -1  8]\n",
            " [-4  7 15]]\n"
          ]
        }
      ]
    },
    {
      "cell_type": "code",
      "source": [
        "R.reshape(-1)"
      ],
      "metadata": {
        "colab": {
          "base_uri": "https://localhost:8080/"
        },
        "id": "R6ITWBGONu5C",
        "outputId": "aad193a8-5887-4b65-e266-f70f9049a98d"
      },
      "execution_count": null,
      "outputs": [
        {
          "output_type": "execute_result",
          "data": {
            "text/plain": [
              "array([ 7,  2, -6, 29,  3, 10,  8, -1,  8, -4,  7, 15])"
            ]
          },
          "metadata": {},
          "execution_count": 115
        }
      ]
    },
    {
      "cell_type": "code",
      "source": [
        "r[-1,:]"
      ],
      "metadata": {
        "colab": {
          "base_uri": "https://localhost:8080/"
        },
        "id": "TVxOKd2aKLdb",
        "outputId": "926f6abf-86c3-403f-a617-34930984ca61"
      },
      "execution_count": null,
      "outputs": [
        {
          "output_type": "execute_result",
          "data": {
            "text/plain": [
              "array([-6, 10,  8, 15])"
            ]
          },
          "metadata": {},
          "execution_count": 97
        }
      ]
    },
    {
      "cell_type": "code",
      "source": [
        "r[:,-2:]"
      ],
      "metadata": {
        "colab": {
          "base_uri": "https://localhost:8080/"
        },
        "id": "GJ5FRXvMKZBl",
        "outputId": "e746aecd-b8ec-4b4b-8638-d239030c8b1a"
      },
      "execution_count": null,
      "outputs": [
        {
          "output_type": "execute_result",
          "data": {
            "text/plain": [
              "array([[ 8, -4],\n",
              "       [-1,  7],\n",
              "       [ 8, 15]])"
            ]
          },
          "metadata": {},
          "execution_count": 99
        }
      ]
    },
    {
      "cell_type": "code",
      "source": [
        "r.shape"
      ],
      "metadata": {
        "colab": {
          "base_uri": "https://localhost:8080/"
        },
        "id": "WqvcRZ9XIHSy",
        "outputId": "ff38a1a2-b8f6-43af-8774-89e396c3b0eb"
      },
      "execution_count": null,
      "outputs": [
        {
          "output_type": "execute_result",
          "data": {
            "text/plain": [
              "(3, 4)"
            ]
          },
          "metadata": {},
          "execution_count": 91
        }
      ]
    },
    {
      "cell_type": "code",
      "source": [
        "#fetch the 1st row\n",
        "r[0,:]"
      ],
      "metadata": {
        "colab": {
          "base_uri": "https://localhost:8080/"
        },
        "id": "9KyPKPCxIHlC",
        "outputId": "a0ad3890-0253-4043-f9d5-9b931f17d2c3"
      },
      "execution_count": null,
      "outputs": [
        {
          "output_type": "execute_result",
          "data": {
            "text/plain": [
              "array([ 7, 29,  8, -4])"
            ]
          },
          "metadata": {},
          "execution_count": 93
        }
      ]
    },
    {
      "cell_type": "code",
      "source": [
        "#fetch the 1st col\n",
        "r[:,0]"
      ],
      "metadata": {
        "colab": {
          "base_uri": "https://localhost:8080/"
        },
        "id": "E2OVferEJJ6H",
        "outputId": "87c156d8-934c-417d-baaa-c5cc891fc75e"
      },
      "execution_count": null,
      "outputs": [
        {
          "output_type": "execute_result",
          "data": {
            "text/plain": [
              "array([ 7,  2, -6])"
            ]
          },
          "metadata": {},
          "execution_count": 94
        }
      ]
    },
    {
      "cell_type": "code",
      "source": [
        "#fetching first two rows\n",
        "r[:2,:]"
      ],
      "metadata": {
        "colab": {
          "base_uri": "https://localhost:8080/"
        },
        "id": "QYg60hncJykG",
        "outputId": "b91ccc66-467b-4b2d-af93-d3e0253de0ad"
      },
      "execution_count": null,
      "outputs": [
        {
          "output_type": "execute_result",
          "data": {
            "text/plain": [
              "array([[ 7, 29,  8, -4],\n",
              "       [ 2,  3, -1,  7]])"
            ]
          },
          "metadata": {},
          "execution_count": 95
        }
      ]
    },
    {
      "cell_type": "code",
      "source": [
        "r[:,:2]"
      ],
      "metadata": {
        "colab": {
          "base_uri": "https://localhost:8080/"
        },
        "id": "Z1M0uSB0J6bP",
        "outputId": "1098203c-5043-4dd8-817c-651d50e6600f"
      },
      "execution_count": null,
      "outputs": [
        {
          "output_type": "execute_result",
          "data": {
            "text/plain": [
              "array([[ 7, 29],\n",
              "       [ 2,  3],\n",
              "       [-6, 10]])"
            ]
          },
          "metadata": {},
          "execution_count": 96
        }
      ]
    },
    {
      "cell_type": "code",
      "source": [
        "row_vec_r=r.reshape(-1)\n",
        "print(row_vec_r)"
      ],
      "metadata": {
        "colab": {
          "base_uri": "https://localhost:8080/"
        },
        "id": "2HlH9n3P1VmP",
        "outputId": "64bb4d78-52a8-496f-99c8-74641604a7f4"
      },
      "execution_count": null,
      "outputs": [
        {
          "output_type": "stream",
          "name": "stdout",
          "text": [
            "[ 7 29  8 -4  2  3 -1  7 -6 10  8 15]\n"
          ]
        }
      ]
    },
    {
      "cell_type": "code",
      "source": [
        "row_vec_r.shape"
      ],
      "metadata": {
        "colab": {
          "base_uri": "https://localhost:8080/"
        },
        "id": "NrMzLdQJL93z",
        "outputId": "67b88075-98d0-4180-b863-6c2ff14f45ae"
      },
      "execution_count": null,
      "outputs": [
        {
          "output_type": "execute_result",
          "data": {
            "text/plain": [
              "(12,)"
            ]
          },
          "metadata": {},
          "execution_count": 107
        }
      ]
    },
    {
      "cell_type": "code",
      "source": [
        "col_vec_r=r.reshape(-1,1)\n",
        "print(col_vec_r)"
      ],
      "metadata": {
        "colab": {
          "base_uri": "https://localhost:8080/"
        },
        "id": "FXaLTjuc1X9U",
        "outputId": "828a5869-89ef-4919-9028-02a23cb95b5f"
      },
      "execution_count": null,
      "outputs": [
        {
          "output_type": "stream",
          "name": "stdout",
          "text": [
            "[[ 7]\n",
            " [29]\n",
            " [ 8]\n",
            " [-4]\n",
            " [ 2]\n",
            " [ 3]\n",
            " [-1]\n",
            " [ 7]\n",
            " [-6]\n",
            " [10]\n",
            " [ 8]\n",
            " [15]]\n"
          ]
        }
      ]
    },
    {
      "cell_type": "code",
      "source": [
        "col_vec_r.shape"
      ],
      "metadata": {
        "colab": {
          "base_uri": "https://localhost:8080/"
        },
        "id": "4vpckVyrMbNE",
        "outputId": "aa95545e-c988-462b-abaf-10a5284bd14d"
      },
      "execution_count": null,
      "outputs": [
        {
          "output_type": "execute_result",
          "data": {
            "text/plain": [
              "(12, 1)"
            ]
          },
          "metadata": {},
          "execution_count": 110
        }
      ]
    },
    {
      "cell_type": "code",
      "metadata": {
        "id": "oz6hJCTta-b7",
        "colab": {
          "base_uri": "https://localhost:8080/",
          "height": 34
        },
        "outputId": "f174f98e-6fcf-4f56-8b96-8c42b1e2751b"
      },
      "source": [
        "r.mean()"
      ],
      "execution_count": null,
      "outputs": [
        {
          "output_type": "execute_result",
          "data": {
            "text/plain": [
              "6.5"
            ]
          },
          "metadata": {
            "tags": []
          },
          "execution_count": 83
        }
      ]
    },
    {
      "cell_type": "code",
      "metadata": {
        "id": "J-_Ny2zCZ4Sb",
        "colab": {
          "base_uri": "https://localhost:8080/",
          "height": 34
        },
        "outputId": "af8bbf29-8b3f-4192-c102-c8a40111d375"
      },
      "source": [
        "r[0,3],r[0,-1]"
      ],
      "execution_count": null,
      "outputs": [
        {
          "output_type": "execute_result",
          "data": {
            "text/plain": [
              "(-4, -4)"
            ]
          },
          "metadata": {
            "tags": []
          },
          "execution_count": 74
        }
      ]
    },
    {
      "cell_type": "code",
      "metadata": {
        "id": "EwOXKK8yZ4ok",
        "colab": {
          "base_uri": "https://localhost:8080/",
          "height": 34
        },
        "outputId": "97dea081-459f-4572-e53d-a21b642e0f79"
      },
      "source": [
        "r[0,:]"
      ],
      "execution_count": null,
      "outputs": [
        {
          "output_type": "execute_result",
          "data": {
            "text/plain": [
              "array([ 7, 29,  8, -4])"
            ]
          },
          "metadata": {
            "tags": []
          },
          "execution_count": 75
        }
      ]
    },
    {
      "cell_type": "code",
      "metadata": {
        "id": "HoAYWhcPZ4kb",
        "colab": {
          "base_uri": "https://localhost:8080/",
          "height": 34
        },
        "outputId": "1905fc5d-d24d-4fe4-cdb7-4f415b85a68f"
      },
      "source": [
        "r[:,0]"
      ],
      "execution_count": null,
      "outputs": [
        {
          "output_type": "execute_result",
          "data": {
            "text/plain": [
              "array([ 7,  2, -6])"
            ]
          },
          "metadata": {
            "tags": []
          },
          "execution_count": 76
        }
      ]
    },
    {
      "cell_type": "code",
      "metadata": {
        "id": "dS0jQVdnZ4hJ",
        "colab": {
          "base_uri": "https://localhost:8080/",
          "height": 70
        },
        "outputId": "87f8b663-facd-4709-860c-c16cdaddd064"
      },
      "source": [
        "r[:3,:3]   # 0th row and 1st row similarly 0th col and 1st col"
      ],
      "execution_count": null,
      "outputs": [
        {
          "output_type": "execute_result",
          "data": {
            "text/plain": [
              "array([[ 7, 29,  8],\n",
              "       [ 2,  3, -1],\n",
              "       [-6, 10,  8]])"
            ]
          },
          "metadata": {
            "tags": []
          },
          "execution_count": 79
        }
      ]
    },
    {
      "cell_type": "code",
      "metadata": {
        "id": "vqZyOQJvbiVW",
        "colab": {
          "base_uri": "https://localhost:8080/"
        },
        "outputId": "690d899a-f83d-4db5-c0e8-9cabce09da1a"
      },
      "source": [
        "r"
      ],
      "execution_count": null,
      "outputs": [
        {
          "output_type": "execute_result",
          "data": {
            "text/plain": [
              "array([[ 7, 29,  8, -4],\n",
              "       [ 2,  3, -1,  7],\n",
              "       [-6, 10,  8, 15]])"
            ]
          },
          "metadata": {},
          "execution_count": 132
        }
      ]
    },
    {
      "cell_type": "code",
      "metadata": {
        "id": "aLjtGb-wuKkI",
        "colab": {
          "base_uri": "https://localhost:8080/"
        },
        "outputId": "99ac24e0-84cf-41bd-d3f3-7cd8af0e359f"
      },
      "source": [
        "r.sum(axis=1)"
      ],
      "execution_count": null,
      "outputs": [
        {
          "output_type": "execute_result",
          "data": {
            "text/plain": [
              "array([40, 11, 27])"
            ]
          },
          "metadata": {},
          "execution_count": 134
        }
      ]
    },
    {
      "cell_type": "code",
      "source": [
        "r.sum(axis=0)"
      ],
      "metadata": {
        "colab": {
          "base_uri": "https://localhost:8080/"
        },
        "id": "avvlkI68RExw",
        "outputId": "0daa8c8e-8e75-43db-e000-873aad8603bf"
      },
      "execution_count": null,
      "outputs": [
        {
          "output_type": "execute_result",
          "data": {
            "text/plain": [
              "array([ 3, 42, 15, 18])"
            ]
          },
          "metadata": {},
          "execution_count": 135
        }
      ]
    },
    {
      "cell_type": "code",
      "metadata": {
        "id": "fArAiCYGvOW5",
        "colab": {
          "base_uri": "https://localhost:8080/",
          "height": 34
        },
        "outputId": "3c3d33fb-8327-4217-dc91-bc109922ed83"
      },
      "source": [
        "r[2,:].sum()"
      ],
      "execution_count": null,
      "outputs": [
        {
          "output_type": "execute_result",
          "data": {
            "text/plain": [
              "27"
            ]
          },
          "metadata": {
            "tags": []
          },
          "execution_count": 87
        }
      ]
    },
    {
      "cell_type": "code",
      "source": [
        "r.shape"
      ],
      "metadata": {
        "colab": {
          "base_uri": "https://localhost:8080/"
        },
        "id": "x-fdq3FKReaa",
        "outputId": "f72ef08d-cb4d-479e-ed9d-926b362af292"
      },
      "execution_count": null,
      "outputs": [
        {
          "output_type": "execute_result",
          "data": {
            "text/plain": [
              "(3, 4)"
            ]
          },
          "metadata": {},
          "execution_count": 137
        }
      ]
    },
    {
      "cell_type": "code",
      "metadata": {
        "id": "asyyUpQTb-dA",
        "colab": {
          "base_uri": "https://localhost:8080/"
        },
        "outputId": "c1d893af-f34d-4c35-f6cd-f04655c3084e"
      },
      "source": [
        "r2=r.T\n",
        "r2.shape,r.shape"
      ],
      "execution_count": null,
      "outputs": [
        {
          "output_type": "execute_result",
          "data": {
            "text/plain": [
              "((4, 3), (3, 4))"
            ]
          },
          "metadata": {},
          "execution_count": 138
        }
      ]
    },
    {
      "cell_type": "code",
      "metadata": {
        "id": "9Uxc3OrGcvfB",
        "colab": {
          "base_uri": "https://localhost:8080/"
        },
        "outputId": "635bcdd4-c2c8-4863-a635-a2d1d419da81"
      },
      "source": [
        "r2 + r2"
      ],
      "execution_count": null,
      "outputs": [
        {
          "output_type": "execute_result",
          "data": {
            "text/plain": [
              "array([[ 14,   4, -12],\n",
              "       [ 58,   6,  20],\n",
              "       [ 16,  -2,  16],\n",
              "       [ -8,  14,  30]])"
            ]
          },
          "metadata": {},
          "execution_count": 140
        }
      ]
    },
    {
      "cell_type": "code",
      "source": [
        "r+r"
      ],
      "metadata": {
        "colab": {
          "base_uri": "https://localhost:8080/"
        },
        "id": "zhdolpBUR7yQ",
        "outputId": "d9afc734-8a92-4a34-b8cd-ff33646c2639"
      },
      "execution_count": null,
      "outputs": [
        {
          "output_type": "execute_result",
          "data": {
            "text/plain": [
              "array([[ 14,  58,  16,  -8],\n",
              "       [  4,   6,  -2,  14],\n",
              "       [-12,  20,  16,  30]])"
            ]
          },
          "metadata": {},
          "execution_count": 141
        }
      ]
    },
    {
      "cell_type": "code",
      "metadata": {
        "id": "FL25JmHLdVaP",
        "colab": {
          "base_uri": "https://localhost:8080/",
          "height": 140
        },
        "outputId": "5e5abe3b-b9ae-42b2-a09d-47b3b843f910"
      },
      "source": [
        "print(r2)\n",
        "print(r)"
      ],
      "execution_count": null,
      "outputs": [
        {
          "output_type": "stream",
          "text": [
            "[[ 7  2 -6]\n",
            " [29  3 10]\n",
            " [ 8 -1  8]\n",
            " [-4  7 15]]\n",
            "[[ 7 29  8 -4]\n",
            " [ 2  3 -1  7]\n",
            " [-6 10  8 15]]\n"
          ],
          "name": "stdout"
        }
      ]
    },
    {
      "cell_type": "code",
      "metadata": {
        "id": "HoMCr6UWc_hN",
        "colab": {
          "base_uri": "https://localhost:8080/",
          "height": 87
        },
        "outputId": "1da858bf-d20b-43df-842c-dba9fea5cefc"
      },
      "source": [
        "r2.dot(r) #matrix multiplication"
      ],
      "execution_count": null,
      "outputs": [
        {
          "output_type": "execute_result",
          "data": {
            "text/plain": [
              "array([[  89,  149,    6, -104],\n",
              "       [ 149,  950,  309,   55],\n",
              "       [   6,  309,  129,   81],\n",
              "       [-104,   55,   81,  290]])"
            ]
          },
          "metadata": {
            "tags": []
          },
          "execution_count": 96
        }
      ]
    },
    {
      "cell_type": "code",
      "metadata": {
        "id": "AAwqY1jxdrW1",
        "colab": {
          "base_uri": "https://localhost:8080/",
          "height": 87
        },
        "outputId": "f614c59e-f83e-44e3-8a22-001ca42f028e"
      },
      "source": [
        "p=np.array([[2,1,3],[1,3,4]])\n",
        "q=np.array([[5,2,1],[2,1,5]])\n",
        "print(p)\n",
        "print(q)\n"
      ],
      "execution_count": null,
      "outputs": [
        {
          "output_type": "stream",
          "text": [
            "[[2 1 3]\n",
            " [1 3 4]]\n",
            "[[5 2 1]\n",
            " [2 1 5]]\n"
          ],
          "name": "stdout"
        }
      ]
    },
    {
      "cell_type": "code",
      "metadata": {
        "id": "RB0n_ZALd9ur",
        "colab": {
          "base_uri": "https://localhost:8080/",
          "height": 52
        },
        "outputId": "0cd847b9-d668-4626-bd32-2f5d68456577"
      },
      "source": [
        "p*q  #element-wise multiplication"
      ],
      "execution_count": null,
      "outputs": [
        {
          "output_type": "execute_result",
          "data": {
            "text/plain": [
              "array([[10,  2,  3],\n",
              "       [ 2,  3, 20]])"
            ]
          },
          "metadata": {
            "tags": []
          },
          "execution_count": 102
        }
      ]
    },
    {
      "cell_type": "code",
      "metadata": {
        "id": "YGoFERlzeJm-",
        "colab": {
          "base_uri": "https://localhost:8080/",
          "height": 52
        },
        "outputId": "2f86721a-e2f9-4935-cfd1-d54b09ffaab6"
      },
      "source": [
        "p.dot(q.T)"
      ],
      "execution_count": null,
      "outputs": [
        {
          "output_type": "execute_result",
          "data": {
            "text/plain": [
              "array([[15, 20],\n",
              "       [15, 25]])"
            ]
          },
          "metadata": {
            "tags": []
          },
          "execution_count": 104
        }
      ]
    },
    {
      "cell_type": "code",
      "metadata": {
        "id": "bxe7MwYPuRV8",
        "colab": {
          "base_uri": "https://localhost:8080/",
          "height": 34
        },
        "outputId": "5f13de11-5792-4273-f9e7-4d2b0ca368c6"
      },
      "source": [
        "r.sum(axis=0)        #DF    axis=1 (col),  axis=0 (row)\n",
        "                     #2D array axis=1 (row), axis=0 (col)"
      ],
      "execution_count": null,
      "outputs": [
        {
          "output_type": "execute_result",
          "data": {
            "text/plain": [
              "array([ 3, 42, 15, 18])"
            ]
          },
          "metadata": {
            "tags": []
          },
          "execution_count": 88
        }
      ]
    },
    {
      "cell_type": "code",
      "metadata": {
        "id": "F2aqIOGBRYoH",
        "colab": {
          "base_uri": "https://localhost:8080/",
          "height": 36
        },
        "outputId": "a2ae4c62-6fc9-48ec-dd7f-8e0632178800"
      },
      "source": [
        "r.shape"
      ],
      "execution_count": null,
      "outputs": [
        {
          "output_type": "execute_result",
          "data": {
            "text/plain": [
              "(3, 4)"
            ]
          },
          "metadata": {
            "tags": []
          },
          "execution_count": 50
        }
      ]
    },
    {
      "cell_type": "code",
      "metadata": {
        "id": "2Ke16wUOSOZ3",
        "colab": {
          "base_uri": "https://localhost:8080/",
          "height": 54
        },
        "outputId": "a43972d9-1319-4638-e392-672b6b5a95ae"
      },
      "source": [
        "r[:2,:]"
      ],
      "execution_count": null,
      "outputs": [
        {
          "output_type": "execute_result",
          "data": {
            "text/plain": [
              "array([[ 7, 29,  8, -4],\n",
              "       [ 2,  3, -1,  7]])"
            ]
          },
          "metadata": {
            "tags": []
          },
          "execution_count": 55
        }
      ]
    },
    {
      "cell_type": "code",
      "metadata": {
        "id": "3x_ZcnQ2SF2O",
        "colab": {
          "base_uri": "https://localhost:8080/",
          "height": 54
        },
        "outputId": "2f5348a8-4731-4887-803c-ba63d0996a12"
      },
      "source": [
        "r[:2,:2]"
      ],
      "execution_count": null,
      "outputs": [
        {
          "output_type": "execute_result",
          "data": {
            "text/plain": [
              "array([[ 7, 29],\n",
              "       [ 2,  3]])"
            ]
          },
          "metadata": {
            "tags": []
          },
          "execution_count": 54
        }
      ]
    },
    {
      "cell_type": "code",
      "metadata": {
        "id": "yQJeINA3Rn7p",
        "colab": {
          "base_uri": "https://localhost:8080/",
          "height": 36
        },
        "outputId": "cf52e116-14f8-409f-e10d-913534f41702"
      },
      "source": [
        "r[0,:] #0th row all elements (all cols)"
      ],
      "execution_count": null,
      "outputs": [
        {
          "output_type": "execute_result",
          "data": {
            "text/plain": [
              "array([ 7, 29,  8, -4])"
            ]
          },
          "metadata": {
            "tags": []
          },
          "execution_count": 52
        }
      ]
    },
    {
      "cell_type": "code",
      "metadata": {
        "id": "6ipUiLNrR8X4",
        "colab": {
          "base_uri": "https://localhost:8080/",
          "height": 36
        },
        "outputId": "b4a3b238-7b7c-4d6c-b6da-5b819be992e5"
      },
      "source": [
        "r[:,0]"
      ],
      "execution_count": null,
      "outputs": [
        {
          "output_type": "execute_result",
          "data": {
            "text/plain": [
              "array([ 7,  2, -6])"
            ]
          },
          "metadata": {
            "tags": []
          },
          "execution_count": 53
        }
      ]
    },
    {
      "cell_type": "code",
      "metadata": {
        "id": "eAbvl5-6Ib9j",
        "colab": {
          "base_uri": "https://localhost:8080/",
          "height": 36
        },
        "outputId": "a3962673-7ff7-4197-cc98-55408a7bb559"
      },
      "source": [
        "np.sum(b)/len(b)"
      ],
      "execution_count": null,
      "outputs": [
        {
          "output_type": "execute_result",
          "data": {
            "text/plain": [
              "62.0"
            ]
          },
          "metadata": {
            "tags": []
          },
          "execution_count": 26
        }
      ]
    },
    {
      "cell_type": "code",
      "metadata": {
        "id": "eVtaml7LHVQH",
        "colab": {
          "base_uri": "https://localhost:8080/",
          "height": 36
        },
        "outputId": "8d450da8-5bb9-4c44-f699-2d78603d5ca9"
      },
      "source": [
        "np.mean(b)"
      ],
      "execution_count": null,
      "outputs": [
        {
          "output_type": "execute_result",
          "data": {
            "text/plain": [
              "62.0"
            ]
          },
          "metadata": {
            "tags": []
          },
          "execution_count": 27
        }
      ]
    },
    {
      "cell_type": "code",
      "metadata": {
        "id": "aRkNRk3UHosl",
        "colab": {
          "base_uri": "https://localhost:8080/",
          "height": 36
        },
        "outputId": "89ca1578-6326-42a0-d41d-eee01f573a1b"
      },
      "source": [
        "np.mean(a[:3])"
      ],
      "execution_count": null,
      "outputs": [
        {
          "output_type": "execute_result",
          "data": {
            "text/plain": [
              "17.599999999999998"
            ]
          },
          "metadata": {
            "tags": []
          },
          "execution_count": 4
        }
      ]
    },
    {
      "cell_type": "code",
      "metadata": {
        "id": "W5uEbaJpHwm-",
        "colab": {
          "base_uri": "https://localhost:8080/",
          "height": 36
        },
        "outputId": "873b1670-64ec-4394-b080-e90a53f67a78"
      },
      "source": [
        "np.mean(a[-3:])"
      ],
      "execution_count": null,
      "outputs": [
        {
          "output_type": "execute_result",
          "data": {
            "text/plain": [
              "38.233333333333334"
            ]
          },
          "metadata": {
            "tags": []
          },
          "execution_count": 5
        }
      ]
    },
    {
      "cell_type": "code",
      "metadata": {
        "id": "7MSi4nk6H3Mj",
        "colab": {
          "base_uri": "https://localhost:8080/",
          "height": 36
        },
        "outputId": "5e1dee3a-17d6-4aa7-a22c-757cf7088de2"
      },
      "source": [
        "np.mean(a[2:])"
      ],
      "execution_count": null,
      "outputs": [
        {
          "output_type": "execute_result",
          "data": {
            "text/plain": [
              "38.233333333333334"
            ]
          },
          "metadata": {
            "tags": []
          },
          "execution_count": 6
        }
      ]
    },
    {
      "cell_type": "code",
      "metadata": {
        "id": "NV4ba1FSSiDt",
        "colab": {
          "base_uri": "https://localhost:8080/",
          "height": 36
        },
        "outputId": "58f490d5-ad3f-48b7-97cc-f8fb9e59c927"
      },
      "source": [
        "np.mean(a),np.median(a)"
      ],
      "execution_count": null,
      "outputs": [
        {
          "output_type": "execute_result",
          "data": {
            "text/plain": [
              "(28.7, 24.0)"
            ]
          },
          "metadata": {
            "tags": []
          },
          "execution_count": 5
        }
      ]
    },
    {
      "cell_type": "code",
      "metadata": {
        "id": "ek-jBneaSrxN",
        "colab": {
          "base_uri": "https://localhost:8080/",
          "height": 36
        },
        "outputId": "178fba62-550a-4b4b-ac99-7704a6f3ef6f"
      },
      "source": [
        "np.mean(a[:3])"
      ],
      "execution_count": null,
      "outputs": [
        {
          "output_type": "execute_result",
          "data": {
            "text/plain": [
              "17.599999999999998"
            ]
          },
          "metadata": {
            "tags": []
          },
          "execution_count": 7
        }
      ]
    },
    {
      "cell_type": "code",
      "metadata": {
        "id": "PWyoaEd4S4mT",
        "colab": {
          "base_uri": "https://localhost:8080/",
          "height": 36
        },
        "outputId": "3534cf30-e60d-4db3-9f18-390b552273a4"
      },
      "source": [
        "b=np.arange(5,51,5) #sequence of value\n",
        "b"
      ],
      "execution_count": null,
      "outputs": [
        {
          "output_type": "execute_result",
          "data": {
            "text/plain": [
              "array([ 5, 10, 15, 20, 25, 30, 35, 40, 45, 50])"
            ]
          },
          "metadata": {
            "tags": []
          },
          "execution_count": 12
        }
      ]
    },
    {
      "cell_type": "code",
      "metadata": {
        "id": "iFcPggvTTem3",
        "colab": {
          "base_uri": "https://localhost:8080/",
          "height": 54
        },
        "outputId": "29e76a33-4c50-494d-9b2f-a764e3a43277"
      },
      "source": [
        "c=np.arange(100,45,-3)\n",
        "c"
      ],
      "execution_count": null,
      "outputs": [
        {
          "output_type": "execute_result",
          "data": {
            "text/plain": [
              "array([100,  97,  94,  91,  88,  85,  82,  79,  76,  73,  70,  67,  64,\n",
              "        61,  58,  55,  52,  49,  46])"
            ]
          },
          "metadata": {
            "tags": []
          },
          "execution_count": 13
        }
      ]
    },
    {
      "cell_type": "code",
      "metadata": {
        "id": "XUV3phfmTpWh",
        "colab": {
          "base_uri": "https://localhost:8080/",
          "height": 91
        },
        "outputId": "ab95084c-20bc-46a3-cbe1-4ef59c8efa90"
      },
      "source": [
        "d=np.arange(1,11,0.3)\n",
        "d"
      ],
      "execution_count": null,
      "outputs": [
        {
          "output_type": "execute_result",
          "data": {
            "text/plain": [
              "array([ 1. ,  1.3,  1.6,  1.9,  2.2,  2.5,  2.8,  3.1,  3.4,  3.7,  4. ,\n",
              "        4.3,  4.6,  4.9,  5.2,  5.5,  5.8,  6.1,  6.4,  6.7,  7. ,  7.3,\n",
              "        7.6,  7.9,  8.2,  8.5,  8.8,  9.1,  9.4,  9.7, 10. , 10.3, 10.6,\n",
              "       10.9])"
            ]
          },
          "metadata": {
            "tags": []
          },
          "execution_count": 16
        }
      ]
    },
    {
      "cell_type": "code",
      "metadata": {
        "id": "J15oE9DjT-J9",
        "colab": {
          "base_uri": "https://localhost:8080/",
          "height": 91
        },
        "outputId": "beb8441b-91b7-4a14-beb3-bb658ffd27e7"
      },
      "source": [
        "d2=np.linspace(1,20,16)\n",
        "d2\n",
        "d3=d2.reshape(4,4)\n",
        "d3\n"
      ],
      "execution_count": null,
      "outputs": [
        {
          "output_type": "execute_result",
          "data": {
            "text/plain": [
              "array([[ 1.        ,  2.26666667,  3.53333333,  4.8       ],\n",
              "       [ 6.06666667,  7.33333333,  8.6       ,  9.86666667],\n",
              "       [11.13333333, 12.4       , 13.66666667, 14.93333333],\n",
              "       [16.2       , 17.46666667, 18.73333333, 20.        ]])"
            ]
          },
          "metadata": {
            "tags": []
          },
          "execution_count": 55
        }
      ]
    },
    {
      "cell_type": "code",
      "metadata": {
        "id": "MT8Ck_qCqY6L",
        "colab": {
          "base_uri": "https://localhost:8080/",
          "height": 73
        },
        "outputId": "bc392901-9a09-4429-f848-da2dafb676aa"
      },
      "source": [
        "d3[:3,:2]"
      ],
      "execution_count": null,
      "outputs": [
        {
          "output_type": "execute_result",
          "data": {
            "text/plain": [
              "array([[ 1.        ,  2.26666667],\n",
              "       [ 6.06666667,  7.33333333],\n",
              "       [11.13333333, 12.4       ]])"
            ]
          },
          "metadata": {
            "tags": []
          },
          "execution_count": 59
        }
      ]
    },
    {
      "cell_type": "code",
      "metadata": {
        "id": "Db2WUrbtpBRA",
        "colab": {
          "base_uri": "https://localhost:8080/",
          "height": 36
        },
        "outputId": "775c2e0f-b67a-4881-a89a-d3324c24df5b"
      },
      "source": [
        "d3[0,-2:]"
      ],
      "execution_count": null,
      "outputs": [
        {
          "output_type": "execute_result",
          "data": {
            "text/plain": [
              "array([3.53333333, 4.8       ])"
            ]
          },
          "metadata": {
            "tags": []
          },
          "execution_count": 50
        }
      ]
    },
    {
      "cell_type": "code",
      "metadata": {
        "id": "dTU87Sy9pr-i",
        "colab": {
          "base_uri": "https://localhost:8080/",
          "height": 36
        },
        "outputId": "23280f65-78e7-45fa-8981-1b32914b0b72"
      },
      "source": [
        "d3[-1,1:3]\n"
      ],
      "execution_count": null,
      "outputs": [
        {
          "output_type": "execute_result",
          "data": {
            "text/plain": [
              "array([17.46666667, 18.73333333])"
            ]
          },
          "metadata": {
            "tags": []
          },
          "execution_count": 56
        }
      ]
    },
    {
      "cell_type": "code",
      "metadata": {
        "id": "nhaaDvPFp9P4",
        "colab": {
          "base_uri": "https://localhost:8080/",
          "height": 36
        },
        "outputId": "a939643f-d52f-4041-d375-244a730190c5"
      },
      "source": [
        "d3[3]"
      ],
      "execution_count": null,
      "outputs": [
        {
          "output_type": "execute_result",
          "data": {
            "text/plain": [
              "array([16.2       , 17.46666667, 18.73333333, 20.        ])"
            ]
          },
          "metadata": {
            "tags": []
          },
          "execution_count": 53
        }
      ]
    },
    {
      "cell_type": "code",
      "metadata": {
        "id": "Fu6Y4WKhooCp",
        "colab": {
          "base_uri": "https://localhost:8080/",
          "height": 36
        },
        "outputId": "0d8cb749-b1fa-4703-d890-1e4824a19fe8"
      },
      "source": [
        "d3.shape"
      ],
      "execution_count": null,
      "outputs": [
        {
          "output_type": "execute_result",
          "data": {
            "text/plain": [
              "(4, 4)"
            ]
          },
          "metadata": {
            "tags": []
          },
          "execution_count": 44
        }
      ]
    },
    {
      "cell_type": "code",
      "metadata": {
        "id": "PSa8_hlSokVo",
        "colab": {
          "base_uri": "https://localhost:8080/",
          "height": 36
        },
        "outputId": "3f6b5b17-bafe-4b8e-aa7d-c68d592ee3a3"
      },
      "source": [
        "type(d3)"
      ],
      "execution_count": null,
      "outputs": [
        {
          "output_type": "execute_result",
          "data": {
            "text/plain": [
              "numpy.ndarray"
            ]
          },
          "metadata": {
            "tags": []
          },
          "execution_count": 42
        }
      ]
    },
    {
      "cell_type": "code",
      "metadata": {
        "id": "OfpPS5BGUb_N",
        "colab": {
          "base_uri": "https://localhost:8080/"
        },
        "outputId": "89416436-b912-46c9-e80f-418bf3bffcfb"
      },
      "source": [
        "g=np.arange(2,105,6)\n",
        "g"
      ],
      "execution_count": null,
      "outputs": [
        {
          "output_type": "execute_result",
          "data": {
            "text/plain": [
              "array([  2,   8,  14,  20,  26,  32,  38,  44,  50,  56,  62,  68,  74,\n",
              "        80,  86,  92,  98, 104])"
            ]
          },
          "metadata": {},
          "execution_count": 182
        }
      ]
    },
    {
      "cell_type": "code",
      "metadata": {
        "id": "cVpKx1tqT_SG",
        "colab": {
          "base_uri": "https://localhost:8080/",
          "height": 34
        },
        "outputId": "81894e80-777e-4766-95a6-360553ba384d"
      },
      "source": [
        "len(g)"
      ],
      "execution_count": null,
      "outputs": [
        {
          "output_type": "execute_result",
          "data": {
            "text/plain": [
              "18"
            ]
          },
          "metadata": {
            "tags": []
          },
          "execution_count": 3
        }
      ]
    },
    {
      "cell_type": "code",
      "metadata": {
        "id": "dcNs8uCbUoN_",
        "colab": {
          "base_uri": "https://localhost:8080/",
          "height": 34
        },
        "outputId": "4c8995f9-fb5e-40ac-8fd4-6f6e08728375"
      },
      "source": [
        "g[-6::2] #:: is a stepsize indicator"
      ],
      "execution_count": null,
      "outputs": [
        {
          "output_type": "execute_result",
          "data": {
            "text/plain": [
              "array([74, 86, 98])"
            ]
          },
          "metadata": {
            "tags": []
          },
          "execution_count": 107
        }
      ]
    },
    {
      "cell_type": "code",
      "metadata": {
        "id": "FpbFT3NtfDat",
        "colab": {
          "base_uri": "https://localhost:8080/",
          "height": 34
        },
        "outputId": "4ea4685d-0eea-4ccc-be93-1b67848e17d8"
      },
      "source": [
        "g[3::2]"
      ],
      "execution_count": null,
      "outputs": [
        {
          "output_type": "execute_result",
          "data": {
            "text/plain": [
              "array([ 20,  32,  44,  56,  68,  80,  92, 104])"
            ]
          },
          "metadata": {
            "tags": []
          },
          "execution_count": 108
        }
      ]
    },
    {
      "cell_type": "code",
      "metadata": {
        "id": "23yNNUnxVXrU",
        "colab": {
          "base_uri": "https://localhost:8080/",
          "height": 34
        },
        "outputId": "048192cd-764e-4234-820a-17702b66a243"
      },
      "source": [
        "g[-6::-3] #-2 indicates the stepsize in reverse direction"
      ],
      "execution_count": null,
      "outputs": [
        {
          "output_type": "execute_result",
          "data": {
            "text/plain": [
              "array([74, 56, 38, 20,  2])"
            ]
          },
          "metadata": {
            "tags": []
          },
          "execution_count": 110
        }
      ]
    },
    {
      "cell_type": "code",
      "metadata": {
        "id": "Dm7zZ9CnVpY9",
        "colab": {
          "base_uri": "https://localhost:8080/",
          "height": 36
        },
        "outputId": "ce61fb54-66eb-4ef0-bac5-580f1ba85018"
      },
      "source": [
        "len(g)"
      ],
      "execution_count": null,
      "outputs": [
        {
          "output_type": "execute_result",
          "data": {
            "text/plain": [
              "18"
            ]
          },
          "metadata": {
            "tags": []
          },
          "execution_count": 27
        }
      ]
    },
    {
      "cell_type": "code",
      "metadata": {
        "id": "Ifl7vtNaV3Xf",
        "colab": {
          "base_uri": "https://localhost:8080/"
        },
        "outputId": "d79345bf-0e76-4a15-c936-c169fce83b97"
      },
      "source": [
        "g2=g.reshape(3,6)\n",
        "g2"
      ],
      "execution_count": null,
      "outputs": [
        {
          "output_type": "execute_result",
          "data": {
            "text/plain": [
              "array([[  2,   8,  14,  20,  26,  32],\n",
              "       [ 38,  44,  50,  56,  62,  68],\n",
              "       [ 74,  80,  86,  92,  98, 104]])"
            ]
          },
          "metadata": {},
          "execution_count": 184
        }
      ]
    },
    {
      "cell_type": "code",
      "source": [
        "g2.shape[1]"
      ],
      "metadata": {
        "colab": {
          "base_uri": "https://localhost:8080/"
        },
        "id": "tTbm7cN7sCEV",
        "outputId": "dcc50d10-8a0a-4638-9faf-a5bf5ea79a7c"
      },
      "execution_count": null,
      "outputs": [
        {
          "output_type": "execute_result",
          "data": {
            "text/plain": [
              "6"
            ]
          },
          "metadata": {},
          "execution_count": 196
        }
      ]
    },
    {
      "cell_type": "code",
      "source": [
        "#mapping by value\n",
        "tot=0\n",
        "for row in g2:\n",
        "  for val in row:\n",
        "    tot+=val\n",
        "print(tot)"
      ],
      "metadata": {
        "colab": {
          "base_uri": "https://localhost:8080/"
        },
        "id": "jLIBrML4qlp_",
        "outputId": "300881b9-9896-405b-9b49-fac394681430"
      },
      "execution_count": null,
      "outputs": [
        {
          "output_type": "stream",
          "name": "stdout",
          "text": [
            "954\n"
          ]
        }
      ]
    },
    {
      "cell_type": "code",
      "source": [
        "#mapping by index\n",
        "TOT=0\n",
        "for row in np.arange(g2.shape[0]):#0,1,2\n",
        "  for col in np.arange(g2.shape[1]):#0,1,2,3,4,5\n",
        "    TOT+=g2[row,col]\n",
        "print(TOT)"
      ],
      "metadata": {
        "colab": {
          "base_uri": "https://localhost:8080/"
        },
        "id": "boYn9nnYr5CS",
        "outputId": "9a156985-2854-49c2-b9cc-b86dcbdccc69"
      },
      "execution_count": null,
      "outputs": [
        {
          "output_type": "stream",
          "name": "stdout",
          "text": [
            "954\n"
          ]
        }
      ]
    },
    {
      "cell_type": "code",
      "metadata": {
        "id": "RrUhFpXphjUc",
        "colab": {
          "base_uri": "https://localhost:8080/",
          "height": 34
        },
        "outputId": "fda08f3e-2db2-4621-8cf6-c7b01165995f"
      },
      "source": [
        "g2.sum()"
      ],
      "execution_count": null,
      "outputs": [
        {
          "output_type": "execute_result",
          "data": {
            "text/plain": [
              "954"
            ]
          },
          "metadata": {
            "tags": []
          },
          "execution_count": 50
        }
      ]
    },
    {
      "cell_type": "code",
      "metadata": {
        "id": "uxwjWLvbWV9X",
        "colab": {
          "base_uri": "https://localhost:8080/",
          "height": 70
        },
        "outputId": "c584299d-4eb2-4a11-b926-243c5c69a6df"
      },
      "source": [
        "g2"
      ],
      "execution_count": null,
      "outputs": [
        {
          "output_type": "execute_result",
          "data": {
            "text/plain": [
              "array([[  2,   8,  14,  20,  26,  32],\n",
              "       [ 38,  44,  50,  56,  62,  68],\n",
              "       [ 74,  80,  86,  92,  98, 104]])"
            ]
          },
          "metadata": {
            "tags": []
          },
          "execution_count": 48
        }
      ]
    },
    {
      "cell_type": "code",
      "metadata": {
        "id": "y1G5oyYjg3Zk",
        "colab": {
          "base_uri": "https://localhost:8080/",
          "height": 34
        },
        "outputId": "d3a565aa-2cc5-49ea-cc36-f093b2f1bd3d"
      },
      "source": [
        "ss=0\n",
        "for row in g2: # here g2 refers to 2-D\n",
        "  for val in row:  #here row is a 1-D array\n",
        "     ss=ss+val\n",
        "print(ss)"
      ],
      "execution_count": null,
      "outputs": [
        {
          "output_type": "stream",
          "text": [
            "954\n"
          ],
          "name": "stdout"
        }
      ]
    },
    {
      "cell_type": "code",
      "metadata": {
        "id": "_1ZXgogdjlwt",
        "colab": {
          "base_uri": "https://localhost:8080/",
          "height": 34
        },
        "outputId": "63e8879c-75d8-4902-af40-12deb01a9d0c"
      },
      "source": [
        "tt=0\n",
        "for i in range(g2.shape[0]): #0,1,2\n",
        "  for j in range(g2.shape[1]):#0,1,2,3,4,5\n",
        "    tt=tt+g2[i,j]\n",
        "print(tt)"
      ],
      "execution_count": null,
      "outputs": [
        {
          "output_type": "stream",
          "text": [
            "954\n"
          ],
          "name": "stdout"
        }
      ]
    },
    {
      "cell_type": "code",
      "metadata": {
        "id": "d_OVsi3sX78A",
        "colab": {
          "base_uri": "https://localhost:8080/",
          "height": 36
        },
        "outputId": "ed4bc1d8-4239-4929-f8d8-d2fe9b4f5d03"
      },
      "source": [
        "g2.shape"
      ],
      "execution_count": null,
      "outputs": [
        {
          "output_type": "execute_result",
          "data": {
            "text/plain": [
              "(3, 6)"
            ]
          },
          "metadata": {
            "tags": []
          },
          "execution_count": 42
        }
      ]
    },
    {
      "cell_type": "code",
      "source": [
        "g2"
      ],
      "metadata": {
        "colab": {
          "base_uri": "https://localhost:8080/"
        },
        "id": "gzrutht_tmzq",
        "outputId": "b948fe0e-9159-4149-bf33-339a0ccb2d16"
      },
      "execution_count": null,
      "outputs": [
        {
          "output_type": "execute_result",
          "data": {
            "text/plain": [
              "array([[  2,   8,  14,  20,  26,  32],\n",
              "       [ 38,  44,  50,  56,  62,  68],\n",
              "       [ 74,  80,  86,  92,  98, 104]])"
            ]
          },
          "metadata": {},
          "execution_count": 199
        }
      ]
    },
    {
      "cell_type": "code",
      "source": [
        "g2_out=np.zeros((g2.shape))\n",
        "g2_out"
      ],
      "metadata": {
        "colab": {
          "base_uri": "https://localhost:8080/"
        },
        "id": "Yi1E57Wiu2JS",
        "outputId": "8d53f8e7-524e-41bb-8092-87fcd378eb8c"
      },
      "execution_count": null,
      "outputs": [
        {
          "output_type": "execute_result",
          "data": {
            "text/plain": [
              "array([[0., 0., 0., 0., 0., 0.],\n",
              "       [0., 0., 0., 0., 0., 0.],\n",
              "       [0., 0., 0., 0., 0., 0.]])"
            ]
          },
          "metadata": {},
          "execution_count": 200
        }
      ]
    },
    {
      "cell_type": "code",
      "source": [
        "for i in np.arange(g2.shape[0]):\n",
        "  for j in np.arange(g2.shape[1]):\n",
        "    if g2[i,j]>=50:\n",
        "      g2_out[i,j]=1;\n",
        "print(g2_out)"
      ],
      "metadata": {
        "colab": {
          "base_uri": "https://localhost:8080/"
        },
        "id": "jLPuLYY-vBK6",
        "outputId": "0ba2e36f-2c8a-4fb3-dacf-5468da2ab283"
      },
      "execution_count": null,
      "outputs": [
        {
          "output_type": "stream",
          "name": "stdout",
          "text": [
            "[[0. 0. 0. 0. 0. 0.]\n",
            " [0. 0. 1. 1. 1. 1.]\n",
            " [1. 1. 1. 1. 1. 1.]]\n"
          ]
        }
      ]
    },
    {
      "cell_type": "code",
      "metadata": {
        "id": "YshANchaWxVH",
        "colab": {
          "base_uri": "https://localhost:8080/",
          "height": 36
        },
        "outputId": "5b07d58c-89e2-4cf1-9bd4-9aac341b0ff2"
      },
      "source": [
        "g2[2,:]"
      ],
      "execution_count": null,
      "outputs": [
        {
          "output_type": "execute_result",
          "data": {
            "text/plain": [
              "array([ 74,  80,  86,  92,  98, 104])"
            ]
          },
          "metadata": {
            "tags": []
          },
          "execution_count": 37
        }
      ]
    },
    {
      "cell_type": "code",
      "metadata": {
        "id": "zbWwK4dTXqlj",
        "colab": {
          "base_uri": "https://localhost:8080/",
          "height": 36
        },
        "outputId": "36ad009f-0c1a-4be2-8c39-4a15f80fb404"
      },
      "source": [
        "g2[-1,:]"
      ],
      "execution_count": null,
      "outputs": [
        {
          "output_type": "execute_result",
          "data": {
            "text/plain": [
              "array([ 74,  80,  86,  92,  98, 104])"
            ]
          },
          "metadata": {
            "tags": []
          },
          "execution_count": 39
        }
      ]
    },
    {
      "cell_type": "code",
      "metadata": {
        "id": "1JZrCBZuXx8J",
        "colab": {
          "base_uri": "https://localhost:8080/",
          "height": 36
        },
        "outputId": "da6b3ef9-c1de-4a17-ecd4-4c2764a48f0a"
      },
      "source": [
        "g2[:,-1]"
      ],
      "execution_count": null,
      "outputs": [
        {
          "output_type": "execute_result",
          "data": {
            "text/plain": [
              "array([ 32,  68, 104])"
            ]
          },
          "metadata": {
            "tags": []
          },
          "execution_count": 40
        }
      ]
    },
    {
      "cell_type": "code",
      "metadata": {
        "id": "TPd-DOUhXcip",
        "colab": {
          "base_uri": "https://localhost:8080/",
          "height": 73
        },
        "outputId": "4fc474d8-478c-4b32-c7dc-4ad4b7b94e49"
      },
      "source": [
        "g2[:,:3]"
      ],
      "execution_count": null,
      "outputs": [
        {
          "output_type": "execute_result",
          "data": {
            "text/plain": [
              "array([[ 2,  8, 14],\n",
              "       [38, 44, 50],\n",
              "       [74, 80, 86]])"
            ]
          },
          "metadata": {
            "tags": []
          },
          "execution_count": 38
        }
      ]
    },
    {
      "cell_type": "code",
      "metadata": {
        "id": "Xu9653uDqyM7",
        "colab": {
          "base_uri": "https://localhost:8080/"
        },
        "outputId": "437823d8-f1f1-431c-c4f2-9f8f8df06669"
      },
      "source": [
        "z1=np.zeros((4,5))\n",
        "z1"
      ],
      "execution_count": null,
      "outputs": [
        {
          "output_type": "execute_result",
          "data": {
            "text/plain": [
              "array([[0., 0., 0., 0., 0.],\n",
              "       [0., 0., 0., 0., 0.],\n",
              "       [0., 0., 0., 0., 0.],\n",
              "       [0., 0., 0., 0., 0.]])"
            ]
          },
          "metadata": {},
          "execution_count": 197
        }
      ]
    },
    {
      "cell_type": "code",
      "metadata": {
        "id": "m0B2PnmMYUDX",
        "colab": {
          "base_uri": "https://localhost:8080/"
        },
        "outputId": "cddc1a24-5f5a-488d-9553-69942161ca05"
      },
      "source": [
        "np.ones((3,5))"
      ],
      "execution_count": null,
      "outputs": [
        {
          "output_type": "execute_result",
          "data": {
            "text/plain": [
              "array([[1., 1., 1., 1., 1.],\n",
              "       [1., 1., 1., 1., 1.],\n",
              "       [1., 1., 1., 1., 1.]])"
            ]
          },
          "metadata": {},
          "execution_count": 198
        }
      ]
    },
    {
      "cell_type": "code",
      "metadata": {
        "id": "B9XT9Km5YaZG",
        "colab": {
          "base_uri": "https://localhost:8080/",
          "height": 91
        },
        "outputId": "63d6d258-9f14-4928-fc37-6e677b4f43b9"
      },
      "source": [
        "np.zeros((4,4))"
      ],
      "execution_count": null,
      "outputs": [
        {
          "output_type": "execute_result",
          "data": {
            "text/plain": [
              "array([[0., 0., 0., 0.],\n",
              "       [0., 0., 0., 0.],\n",
              "       [0., 0., 0., 0.],\n",
              "       [0., 0., 0., 0.]])"
            ]
          },
          "metadata": {
            "tags": []
          },
          "execution_count": 63
        }
      ]
    },
    {
      "cell_type": "code",
      "source": [
        "np.random.rand(10) "
      ],
      "metadata": {
        "colab": {
          "base_uri": "https://localhost:8080/"
        },
        "id": "edXiazKCvttJ",
        "outputId": "7ac668fb-8e37-4eb3-944c-822cbd433343"
      },
      "execution_count": null,
      "outputs": [
        {
          "output_type": "execute_result",
          "data": {
            "text/plain": [
              "array([0.08749305, 0.11687944, 0.77107126, 0.73279527, 0.08712836,\n",
              "       0.3574632 , 0.77321162, 0.1314716 , 0.53783243, 0.75472357])"
            ]
          },
          "metadata": {},
          "execution_count": 203
        }
      ]
    },
    {
      "cell_type": "code",
      "metadata": {
        "id": "hl0RUXAxYorG"
      },
      "source": [
        "r=np.random.rand(250)  #real value data (0 to 1)"
      ],
      "execution_count": null,
      "outputs": []
    },
    {
      "cell_type": "code",
      "metadata": {
        "id": "BfEH82H_np7c",
        "colab": {
          "base_uri": "https://localhost:8080/",
          "height": 36
        },
        "outputId": "2a964e76-fe56-4402-ac0b-5082d7f21dc2"
      },
      "source": [
        "np.mean(r[-10:]), np.std(r[-10:])"
      ],
      "execution_count": null,
      "outputs": [
        {
          "output_type": "execute_result",
          "data": {
            "text/plain": [
              "(0.4767642295053138, 0.30103966120106895)"
            ]
          },
          "metadata": {
            "tags": []
          },
          "execution_count": 36
        }
      ]
    },
    {
      "cell_type": "code",
      "metadata": {
        "id": "6h7zrfOwZGWW",
        "colab": {
          "base_uri": "https://localhost:8080/"
        },
        "outputId": "7d1e8a20-b83d-4c28-ee24-3696b6832b24"
      },
      "source": [
        "np.random.seed(2)\n",
        "np.random.randint(25,100,5)#last value indicates no of samples"
      ],
      "execution_count": null,
      "outputs": [
        {
          "output_type": "execute_result",
          "data": {
            "text/plain": [
              "array([65, 40, 97, 47, 68])"
            ]
          },
          "metadata": {},
          "execution_count": 204
        }
      ]
    },
    {
      "cell_type": "code",
      "source": [
        "np.random.seed(10)\n",
        "R=np.random.randn(100)\n",
        "R[:5]"
      ],
      "metadata": {
        "colab": {
          "base_uri": "https://localhost:8080/"
        },
        "id": "Qn-sHHJ3nOcI",
        "outputId": "1a0ba90d-cc32-47a6-cb55-7d9858505f11"
      },
      "execution_count": null,
      "outputs": [
        {
          "output_type": "execute_result",
          "data": {
            "text/plain": [
              "array([ 1.3315865 ,  0.71527897, -1.54540029, -0.00838385,  0.62133597])"
            ]
          },
          "metadata": {},
          "execution_count": 177
        }
      ]
    },
    {
      "cell_type": "code",
      "source": [
        "sensor=R.reshape(4,5,5)\n",
        "sensor"
      ],
      "metadata": {
        "colab": {
          "base_uri": "https://localhost:8080/"
        },
        "id": "dMn5OCA4nyis",
        "outputId": "d176abac-7451-4aaa-ac03-47c50b38b1d6"
      },
      "execution_count": null,
      "outputs": [
        {
          "output_type": "execute_result",
          "data": {
            "text/plain": [
              "array([[[ 1.3315865 ,  0.71527897, -1.54540029, -0.00838385,\n",
              "          0.62133597],\n",
              "        [-0.72008556,  0.26551159,  0.10854853,  0.00429143,\n",
              "         -0.17460021],\n",
              "        [ 0.43302619,  1.20303737, -0.96506567,  1.02827408,\n",
              "          0.22863013],\n",
              "        [ 0.44513761, -1.13660221,  0.13513688,  1.484537  ,\n",
              "         -1.07980489],\n",
              "        [-1.97772828, -1.7433723 ,  0.26607016,  2.38496733,\n",
              "          1.12369125]],\n",
              "\n",
              "       [[ 1.67262221,  0.09914922,  1.39799638, -0.27124799,\n",
              "          0.61320418],\n",
              "        [-0.26731719, -0.54930901,  0.1327083 , -0.47614201,\n",
              "          1.30847308],\n",
              "        [ 0.19501328,  0.40020999, -0.33763234,  1.25647226,\n",
              "         -0.7319695 ],\n",
              "        [ 0.66023155, -0.35087189, -0.93943336, -0.48933722,\n",
              "         -0.80459114],\n",
              "        [-0.21269764, -0.33914025,  0.31216994,  0.56515267,\n",
              "         -0.14742026]],\n",
              "\n",
              "       [[-0.02590534,  0.2890942 , -0.53987907,  0.70816002,\n",
              "          0.84222474],\n",
              "        [ 0.2035808 ,  2.39470366,  0.91745894, -0.11227247,\n",
              "         -0.36218045],\n",
              "        [-0.23218226, -0.5017289 ,  1.12878515, -0.69781003,\n",
              "         -0.08112218],\n",
              "        [-0.52929608,  1.04618286, -1.41855603, -0.36249918,\n",
              "         -0.12190569],\n",
              "        [ 0.31935642,  0.4609029 , -0.21578989,  0.98907246,\n",
              "          0.31475378]],\n",
              "\n",
              "       [[ 2.46765106, -1.50832149,  0.62060066, -1.04513254,\n",
              "         -0.79800882],\n",
              "        [ 1.98508459,  1.74481415, -1.85618548, -0.2227737 ,\n",
              "         -0.06584785],\n",
              "        [-2.13171211, -0.04883051,  0.39334122,  0.21726515,\n",
              "         -1.99439377],\n",
              "        [ 1.10770823,  0.24454398, -0.06191203, -0.75389296,\n",
              "          0.71195902],\n",
              "        [ 0.91826915, -0.48209314,  0.08958761,  0.82699862,\n",
              "         -1.95451212]]])"
            ]
          },
          "metadata": {},
          "execution_count": 178
        }
      ]
    },
    {
      "cell_type": "code",
      "source": [
        "sensor[:,:,2]"
      ],
      "metadata": {
        "colab": {
          "base_uri": "https://localhost:8080/"
        },
        "id": "DwhWO8m8o5Qg",
        "outputId": "65aa26e9-26ff-4505-8e55-b3ce699319b4"
      },
      "execution_count": null,
      "outputs": [
        {
          "output_type": "execute_result",
          "data": {
            "text/plain": [
              "array([[-1.54540029,  0.10854853, -0.96506567,  0.13513688,  0.26607016],\n",
              "       [ 1.39799638,  0.1327083 , -0.33763234, -0.93943336,  0.31216994],\n",
              "       [-0.53987907,  0.91745894,  1.12878515, -1.41855603, -0.21578989],\n",
              "       [ 0.62060066, -1.85618548,  0.39334122, -0.06191203,  0.08958761]])"
            ]
          },
          "metadata": {},
          "execution_count": 179
        }
      ]
    },
    {
      "cell_type": "code",
      "source": [
        "sensor[:,:,2].std(axis=1)"
      ],
      "metadata": {
        "colab": {
          "base_uri": "https://localhost:8080/"
        },
        "id": "19BCwksMpq7q",
        "outputId": "67e796dc-70a8-43b8-a55c-d9ce72638642"
      },
      "execution_count": null,
      "outputs": [
        {
          "output_type": "execute_result",
          "data": {
            "text/plain": [
              "array([0.72386235, 0.77484942, 0.94476949, 0.8791407 ])"
            ]
          },
          "metadata": {},
          "execution_count": 180
        }
      ]
    },
    {
      "cell_type": "code",
      "metadata": {
        "id": "XnHDyC5Ag3y3",
        "colab": {
          "base_uri": "https://localhost:8080/"
        },
        "outputId": "046e094c-bc8a-49b8-e61a-de82bee807b8"
      },
      "source": [
        "R=np.random.randn(100)\n",
        "R.max(),R.min()"
      ],
      "execution_count": null,
      "outputs": [
        {
          "output_type": "execute_result",
          "data": {
            "text/plain": [
              "(2.7560325968508903, -2.298787463925283)"
            ]
          },
          "metadata": {},
          "execution_count": 171
        }
      ]
    },
    {
      "cell_type": "code",
      "source": [
        "R.mean(),R.std()"
      ],
      "metadata": {
        "colab": {
          "base_uri": "https://localhost:8080/"
        },
        "id": "-xvUhV4d2mir",
        "outputId": "1b40af5f-4a76-471f-9e34-5ff48f4a370c"
      },
      "execution_count": null,
      "outputs": [
        {
          "output_type": "execute_result",
          "data": {
            "text/plain": [
              "(0.07941666293687392, 0.9670394771137057)"
            ]
          },
          "metadata": {},
          "execution_count": 209
        }
      ]
    },
    {
      "cell_type": "code",
      "source": [
        "#100 students in a class with average marks = 58, with SD=20 marks\n",
        "marks=R*15+58\n",
        "marks"
      ],
      "metadata": {
        "colab": {
          "base_uri": "https://localhost:8080/"
        },
        "id": "V_WY1BvZ3pdf",
        "outputId": "104bf8af-e40d-4c56-93b7-e64de013e0b1"
      },
      "execution_count": null,
      "outputs": [
        {
          "output_type": "execute_result",
          "data": {
            "text/plain": [
              "array([77.97379756, 68.72918462, 34.81899562, 57.87424225, 67.32003961,\n",
              "       47.19871659, 61.98267379, 59.62822789, 58.06437146, 55.38099684,\n",
              "       64.49539285, 76.04556061, 43.52401494, 73.42411117, 61.42945195,\n",
              "       64.67706419, 40.95096682, 60.02705318, 80.26805503, 41.80292671,\n",
              "       28.33407579, 31.84941556, 61.99105246, 93.77450996, 74.8553688 ,\n",
              "       83.0893332 , 59.48723824, 78.96994566, 53.93128018, 67.19806277,\n",
              "       53.99024217, 49.76036479, 59.99062444, 50.85786978, 77.62709621,\n",
              "       60.92519919, 64.00314982, 52.93551494, 76.84708396, 47.02045747,\n",
              "       67.90347327, 52.73692163, 43.9084996 , 50.65994175, 45.93113287,\n",
              "       54.80953542, 52.91289631, 62.68254904, 66.47729004, 55.78869613,\n",
              "       57.61141995, 62.33641306, 49.90181393, 68.6224003 , 70.63337108,\n",
              "       61.05371196, 93.92055497, 71.76188406, 56.31591293, 52.56729329,\n",
              "       54.51726616, 50.47406651, 74.9317773 , 47.53284954, 56.78316724,\n",
              "       50.06055879, 73.69274285, 36.72165956, 52.56251225, 56.17141463,\n",
              "       62.79034632, 64.91354353, 54.76315162, 72.83608686, 62.72130668,\n",
              "       95.01476585, 35.37517769, 67.30900995, 42.32301194, 46.02986773,\n",
              "       87.77626887, 84.17221223, 30.15721779, 54.65839451, 57.01228228,\n",
              "       26.02431837, 57.26754233, 63.90011826, 61.25897718, 28.08409345,\n",
              "       74.61562352, 61.66815965, 57.07131956, 46.69160559, 68.67938525,\n",
              "       71.77403727, 50.76860292, 59.34381419, 70.40497934, 28.6823182 ])"
            ]
          },
          "metadata": {},
          "execution_count": 212
        }
      ]
    },
    {
      "cell_type": "code",
      "source": [
        "plt.hist(marks)"
      ],
      "metadata": {
        "colab": {
          "base_uri": "https://localhost:8080/",
          "height": 352
        },
        "id": "GVYIcT2b4fyS",
        "outputId": "ec78c471-4b64-4eb4-e83a-fb31708ab9dd"
      },
      "execution_count": null,
      "outputs": [
        {
          "output_type": "execute_result",
          "data": {
            "text/plain": [
              "(array([ 6.,  3.,  8., 15., 22., 20., 11.,  9.,  3.,  3.]),\n",
              " array([26.02431837, 32.92336312, 39.82240787, 46.72145261, 53.62049736,\n",
              "        60.51954211, 67.41858686, 74.3176316 , 81.21667635, 88.1157211 ,\n",
              "        95.01476585]),\n",
              " <a list of 10 Patch objects>)"
            ]
          },
          "metadata": {},
          "execution_count": 213
        },
        {
          "output_type": "display_data",
          "data": {
            "text/plain": [
              "<Figure size 432x288 with 1 Axes>"
            ],
            "image/png": "[encoded data removed]"
          },
          "metadata": {
            "needs_background": "light"
          }
        }
      ]
    },
    {
      "cell_type": "code",
      "source": [
        "import seaborn as sns"
      ],
      "metadata": {
        "id": "H5t7PDbC5MkM"
      },
      "execution_count": null,
      "outputs": []
    },
    {
      "cell_type": "code",
      "source": [
        "sns.distplot(marks)"
      ],
      "metadata": {
        "colab": {
          "base_uri": "https://localhost:8080/",
          "height": 337
        },
        "id": "ciceEwiu4XcX",
        "outputId": "a85275c9-6b5d-44f3-ce68-12f494de5419"
      },
      "execution_count": null,
      "outputs": [
        {
          "output_type": "stream",
          "name": "stderr",
          "text": [
            "/usr/local/lib/python3.7/dist-packages/seaborn/distributions.py:2619: FutureWarning: `distplot` is a deprecated function and will be removed in a future version. Please adapt your code to use either `displot` (a figure-level function with similar flexibility) or `histplot` (an axes-level function for histograms).\n",
            "  warnings.warn(msg, FutureWarning)\n"
          ]
        },
        {
          "output_type": "execute_result",
          "data": {
            "text/plain": [
              "<matplotlib.axes._subplots.AxesSubplot at 0x7fdb4faad2d0>"
            ]
          },
          "metadata": {},
          "execution_count": 215
        },
        {
          "output_type": "display_data",
          "data": {
            "text/plain": [
              "<Figure size 432x288 with 1 Axes>"
            ],
            "image/png": "[encoded data removed]"
          },
          "metadata": {
            "needs_background": "light"
          }
        }
      ]
    },
    {
      "cell_type": "code",
      "source": [
        "M=pd.Series(marks)\n",
        "M.skew()"
      ],
      "metadata": {
        "colab": {
          "base_uri": "https://localhost:8080/"
        },
        "id": "yL8qU8J-6CBi",
        "outputId": "c250f8af-eff4-40c8-ea9a-8cb4b0c0f6ef"
      },
      "execution_count": null,
      "outputs": [
        {
          "output_type": "execute_result",
          "data": {
            "text/plain": [
              "0.013849241213212323"
            ]
          },
          "metadata": {},
          "execution_count": 222
        }
      ]
    },
    {
      "cell_type": "code",
      "source": [
        "np.mean(marks),np.median(marks)"
      ],
      "metadata": {
        "colab": {
          "base_uri": "https://localhost:8080/"
        },
        "id": "ldt0jHhV33k4",
        "outputId": "8ba8f6f5-2dbc-4b7c-b11c-61f25f4b6374"
      },
      "execution_count": null,
      "outputs": [
        {
          "output_type": "execute_result",
          "data": {
            "text/plain": [
              "(59.1912499440531, 59.4155262131857)"
            ]
          },
          "metadata": {},
          "execution_count": 219
        }
      ]
    },
    {
      "cell_type": "code",
      "source": [
        "#Simulate the age group of batch size 50 students with mean age = 28.5 years with SD=3.2 years\n",
        "np.random.seed(0)\n",
        "age_std=np.random.randn(50)\n",
        "age_std"
      ],
      "metadata": {
        "colab": {
          "base_uri": "https://localhost:8080/"
        },
        "id": "RseGQvQA33yy",
        "outputId": "e209c88c-3fa2-4d21-976f-faf9c95804c6"
      },
      "execution_count": null,
      "outputs": [
        {
          "output_type": "execute_result",
          "data": {
            "text/plain": [
              "array([ 1.76405235,  0.40015721,  0.97873798,  2.2408932 ,  1.86755799,\n",
              "       -0.97727788,  0.95008842, -0.15135721, -0.10321885,  0.4105985 ,\n",
              "        0.14404357,  1.45427351,  0.76103773,  0.12167502,  0.44386323,\n",
              "        0.33367433,  1.49407907, -0.20515826,  0.3130677 , -0.85409574,\n",
              "       -2.55298982,  0.6536186 ,  0.8644362 , -0.74216502,  2.26975462,\n",
              "       -1.45436567,  0.04575852, -0.18718385,  1.53277921,  1.46935877,\n",
              "        0.15494743,  0.37816252, -0.88778575, -1.98079647, -0.34791215,\n",
              "        0.15634897,  1.23029068,  1.20237985, -0.38732682, -0.30230275,\n",
              "       -1.04855297, -1.42001794, -1.70627019,  1.9507754 , -0.50965218,\n",
              "       -0.4380743 , -1.25279536,  0.77749036, -1.61389785, -0.21274028])"
            ]
          },
          "metadata": {},
          "execution_count": 223
        }
      ]
    },
    {
      "cell_type": "code",
      "source": [
        "age_std.mean(),age_std.std()"
      ],
      "metadata": {
        "colab": {
          "base_uri": "https://localhost:8080/"
        },
        "id": "SazYunkA8ONZ",
        "outputId": "80283f11-05ea-4ae9-cc52-120cfde8f471"
      },
      "execution_count": null,
      "outputs": [
        {
          "output_type": "execute_result",
          "data": {
            "text/plain": [
              "(0.14055927231309787, 1.125522920554846)"
            ]
          },
          "metadata": {},
          "execution_count": 230
        }
      ]
    },
    {
      "cell_type": "code",
      "source": [
        "age=age_std*3.2+28.5\n",
        "age"
      ],
      "metadata": {
        "colab": {
          "base_uri": "https://localhost:8080/"
        },
        "id": "rGiNeYcV7YrL",
        "outputId": "27f52b8d-00ab-4a99-cf26-1cf800091efa"
      },
      "execution_count": null,
      "outputs": [
        {
          "output_type": "execute_result",
          "data": {
            "text/plain": [
              "array([34.14496751, 29.78050307, 31.63196155, 35.67085824, 34.47618557,\n",
              "       25.37271078, 31.54028294, 28.01565693, 28.16969967, 29.81391521,\n",
              "       28.96093943, 33.15367522, 30.93532072, 28.88936005, 29.92036234,\n",
              "       29.56775785, 33.28105303, 27.84349356, 29.50181665, 25.76689363,\n",
              "       20.33043259, 30.59157951, 31.26619584, 26.12507193, 35.7632148 ,\n",
              "       23.84602984, 28.64642726, 27.90101168, 33.40489349, 33.20194806,\n",
              "       28.99583176, 29.71012006, 25.65908561, 22.1614513 , 27.38668112,\n",
              "       29.0003167 , 32.43693018, 32.34761552, 27.26055418, 27.5326312 ,\n",
              "       25.14463051, 23.9559426 , 23.03993539, 34.74248126, 26.86911302,\n",
              "       27.09816223, 24.49105485, 30.98796914, 23.33552689, 27.8192311 ])"
            ]
          },
          "metadata": {},
          "execution_count": 226
        }
      ]
    },
    {
      "cell_type": "code",
      "source": [
        "age.min(),age.max(),age.mean(),age.std()"
      ],
      "metadata": {
        "colab": {
          "base_uri": "https://localhost:8080/"
        },
        "id": "F30JgM5t79vS",
        "outputId": "732bcd4d-9828-4d81-a6c0-5d44471db524"
      },
      "execution_count": null,
      "outputs": [
        {
          "output_type": "execute_result",
          "data": {
            "text/plain": [
              "(20.330432589330947,\n",
              " 35.763214796760344,\n",
              " 28.949789671401913,\n",
              " 3.6016733457755077)"
            ]
          },
          "metadata": {},
          "execution_count": 231
        }
      ]
    },
    {
      "cell_type": "code",
      "source": [
        "sns.distplot(age)"
      ],
      "metadata": {
        "colab": {
          "base_uri": "https://localhost:8080/",
          "height": 337
        },
        "id": "GpYllBBS7uHB",
        "outputId": "e4ba6dad-e384-4ef5-da61-721bcf8ede1d"
      },
      "execution_count": null,
      "outputs": [
        {
          "output_type": "stream",
          "name": "stderr",
          "text": [
            "/usr/local/lib/python3.7/dist-packages/seaborn/distributions.py:2619: FutureWarning: `distplot` is a deprecated function and will be removed in a future version. Please adapt your code to use either `displot` (a figure-level function with similar flexibility) or `histplot` (an axes-level function for histograms).\n",
            "  warnings.warn(msg, FutureWarning)\n"
          ]
        },
        {
          "output_type": "execute_result",
          "data": {
            "text/plain": [
              "<matplotlib.axes._subplots.AxesSubplot at 0x7fdb4f963490>"
            ]
          },
          "metadata": {},
          "execution_count": 227
        },
        {
          "output_type": "display_data",
          "data": {
            "text/plain": [
              "<Figure size 432x288 with 1 Axes>"
            ],
            "image/png": "[encoded data removed]"
          },
          "metadata": {
            "needs_background": "light"
          }
        }
      ]
    },
    {
      "cell_type": "code",
      "source": [
        "np.random.seed(0)\n",
        "sal_std=np.random.randn(10000)\n",
        "sal_inr=sal_std*150000+1350000\n",
        "sal_inr.min(),sal_inr.max()"
      ],
      "metadata": {
        "colab": {
          "base_uri": "https://localhost:8080/"
        },
        "id": "KbtZ7NYS-8ZT",
        "outputId": "1628f914-1927-4b7e-d030-42a85272d638"
      },
      "execution_count": null,
      "outputs": [
        {
          "output_type": "execute_result",
          "data": {
            "text/plain": [
              "(788984.9043072332, 1920249.0322450674)"
            ]
          },
          "metadata": {},
          "execution_count": 245
        }
      ]
    },
    {
      "cell_type": "code",
      "source": [
        "# + or - 1 SD\n",
        "sal_inr.mean()-sal_inr.std(),sal_inr.mean()+sal_inr.std()"
      ],
      "metadata": {
        "colab": {
          "base_uri": "https://localhost:8080/"
        },
        "id": "9pRU9eoBBXWL",
        "outputId": "51c0bb1d-ee72-45d6-8953-a38767c11c2d"
      },
      "execution_count": null,
      "outputs": [
        {
          "output_type": "execute_result",
          "data": {
            "text/plain": [
              "(1199101.456749842, 1495368.4272026783)"
            ]
          },
          "metadata": {},
          "execution_count": 246
        }
      ]
    },
    {
      "cell_type": "code",
      "source": [
        "count=0\n",
        "for sal in sal_inr:\n",
        "  if sal>=1200000 and sal<=1500000:\n",
        "    count+=1\n",
        "print(count)"
      ],
      "metadata": {
        "colab": {
          "base_uri": "https://localhost:8080/"
        },
        "id": "PLzKfvSFB_Cy",
        "outputId": "505f7057-f818-477e-e922-2aefe61cef7f"
      },
      "execution_count": null,
      "outputs": [
        {
          "output_type": "stream",
          "name": "stdout",
          "text": [
            "6899\n"
          ]
        }
      ]
    },
    {
      "cell_type": "code",
      "source": [
        "6899/10000"
      ],
      "metadata": {
        "colab": {
          "base_uri": "https://localhost:8080/"
        },
        "id": "t5sN0asQC-BB",
        "outputId": "38d67058-16b7-41b0-a848-2f434b0f29cc"
      },
      "execution_count": null,
      "outputs": [
        {
          "output_type": "execute_result",
          "data": {
            "text/plain": [
              "0.6899"
            ]
          },
          "metadata": {},
          "execution_count": 248
        }
      ]
    },
    {
      "cell_type": "code",
      "source": [
        "(22-28)/4.7"
      ],
      "metadata": {
        "colab": {
          "base_uri": "https://localhost:8080/"
        },
        "id": "HBO86G2o0vWF",
        "outputId": "84fc14c5-5018-4b4f-c757-55a8a940beb1"
      },
      "execution_count": null,
      "outputs": [
        {
          "output_type": "execute_result",
          "data": {
            "text/plain": [
              "-1.276595744680851"
            ]
          },
          "metadata": {},
          "execution_count": 206
        }
      ]
    },
    {
      "cell_type": "code",
      "metadata": {
        "id": "uGMMYX-xiYe8",
        "colab": {
          "base_uri": "https://localhost:8080/",
          "height": 193
        },
        "outputId": "492ea97d-ac1c-4f60-df0d-e54915b39fdf"
      },
      "source": [
        "marks_z=np.random.randn(50)\n",
        "marks_original=marks_z*15+68\n",
        "print(marks_original)"
      ],
      "execution_count": null,
      "outputs": [
        {
          "output_type": "stream",
          "text": [
            "[ 81.51591709  88.71995374  78.04642607  61.5545385   60.5640068\n",
            "  48.56381675  71.37473721  65.56468041  95.00588952  66.85069557\n",
            "  81.84215556  87.39544806  47.03729701  76.50663344  73.07635142\n",
            "  44.67800837  59.69901154  81.08007623  39.3697049  109.24175645\n",
            "  61.76916533  58.41204117  72.2545524   69.27909648  84.32651498\n",
            "  72.56143133  63.09764273  76.52412949  72.531518    43.92136605\n",
            "  80.5604221   76.48546984  63.67263598  60.4751965   71.58581919\n",
            "  54.78727077  44.98062021  70.59698393  47.12579064  78.8386755\n",
            "  78.21268677  60.43011132  63.38918175  86.138415    58.93808379\n",
            "  61.70045942  51.19122142  80.31729297  63.35011548  77.20596084]\n"
          ],
          "name": "stdout"
        }
      ]
    },
    {
      "cell_type": "code",
      "metadata": {
        "id": "d8P0iNAfjtIu",
        "colab": {
          "base_uri": "https://localhost:8080/",
          "height": 34
        },
        "outputId": "f6ea23d2-19c8-4dfb-df58-17d4fe848986"
      },
      "source": [
        "glu_z=np.random.randn(50)\n",
        "glu_original=marks_z*20+220\n",
        "print(glu_original.min(),glu_original.max())"
      ],
      "execution_count": null,
      "outputs": [
        {
          "output_type": "stream",
          "text": [
            "181.8262732009306 274.9890086001859\n"
          ],
          "name": "stdout"
        }
      ]
    },
    {
      "cell_type": "code",
      "metadata": {
        "id": "T2oQeV0IhAV5",
        "colab": {
          "base_uri": "https://localhost:8080/",
          "height": 353
        },
        "outputId": "dee05f1c-7dc5-4d21-cb3c-3172e2780df9"
      },
      "source": [
        "plt.hist(glu_original)"
      ],
      "execution_count": null,
      "outputs": [
        {
          "output_type": "execute_result",
          "data": {
            "text/plain": [
              "(array([ 4.,  4.,  4., 12.,  8., 10.,  5.,  2.,  0.,  1.]),\n",
              " array([181.8262732 , 191.14254674, 200.45882028, 209.77509382,\n",
              "        219.09136736, 228.4076409 , 237.72391444, 247.04018798,\n",
              "        256.35646152, 265.67273506, 274.9890086 ]),\n",
              " <a list of 10 Patch objects>)"
            ]
          },
          "metadata": {
            "tags": []
          },
          "execution_count": 136
        },
        {
          "output_type": "display_data",
          "data": {
            "image/png": "[encoded data removed]",
            "text/plain": [
              "<Figure size 432x288 with 1 Axes>"
            ]
          },
          "metadata": {
            "tags": [],
            "needs_background": "light"
          }
        }
      ]
    },
    {
      "cell_type": "code",
      "metadata": {
        "id": "fpO6DbTlZliU",
        "colab": {
          "base_uri": "https://localhost:8080/",
          "height": 87
        },
        "outputId": "1c59aff2-5b00-48fe-ee0b-28ee0735fa6e"
      },
      "source": [
        "np.random.randn(4,5) #standard normal distributed (-3 to 3) mean=0,sd=1"
      ],
      "execution_count": null,
      "outputs": [
        {
          "output_type": "execute_result",
          "data": {
            "text/plain": [
              "array([[-1.05509436, -0.46720833, -0.89715642,  2.33659889,  0.23114938],\n",
              "       [ 0.21959323, -0.43858537, -0.24190995, -0.60343534,  0.79437469],\n",
              "       [ 0.10677801,  0.00882126, -0.70613523, -1.34812196, -0.12504066],\n",
              "       [-1.36233706, -0.04677833, -1.63872524,  0.61822453,  1.14823487]])"
            ]
          },
          "metadata": {
            "tags": []
          },
          "execution_count": 122
        }
      ]
    },
    {
      "cell_type": "code",
      "metadata": {
        "id": "sTHVtfmFWZNA",
        "colab": {
          "base_uri": "https://localhost:8080/",
          "height": 73
        },
        "outputId": "faf12f5a-46e5-475e-ade1-3c3b547f4ecf"
      },
      "source": [
        "h=np.array([[2,8,14],[38,44,50],[74,80,86]])\n",
        "h"
      ],
      "execution_count": null,
      "outputs": [
        {
          "output_type": "execute_result",
          "data": {
            "text/plain": [
              "array([[ 2,  8, 14],\n",
              "       [38, 44, 50],\n",
              "       [74, 80, 86]])"
            ]
          },
          "metadata": {
            "tags": []
          },
          "execution_count": 32
        }
      ]
    },
    {
      "cell_type": "code",
      "metadata": {
        "id": "oHBqugGkTRF2",
        "colab": {
          "base_uri": "https://localhost:8080/"
        },
        "outputId": "851b0bd5-39b6-47bc-e042-144c21b12a4d"
      },
      "source": [
        "#3D array and above\n",
        "g=np.arange(24) #[0,1,2,....23]\n",
        "len(g)\n",
        "g3=g.reshape(3,2,4)#1st variable refers to 3rd dim\n",
        "g3.shape"
      ],
      "execution_count": null,
      "outputs": [
        {
          "output_type": "execute_result",
          "data": {
            "text/plain": [
              "(3, 2, 4)"
            ]
          },
          "metadata": {},
          "execution_count": 19
        }
      ]
    },
    {
      "cell_type": "code",
      "metadata": {
        "id": "vY4dWWhkxIcD",
        "colab": {
          "base_uri": "https://localhost:8080/"
        },
        "outputId": "9c0a69d7-a440-4e4d-9682-4a97e36be951"
      },
      "source": [
        "g3"
      ],
      "execution_count": null,
      "outputs": [
        {
          "output_type": "execute_result",
          "data": {
            "text/plain": [
              "array([[[ 0,  1,  2,  3],\n",
              "        [ 4,  5,  6,  7]],\n",
              "\n",
              "       [[ 8,  9, 10, 11],\n",
              "        [12, 13, 14, 15]],\n",
              "\n",
              "       [[16, 17, 18, 19],\n",
              "        [20, 21, 22, 23]]])"
            ]
          },
          "metadata": {},
          "execution_count": 22
        }
      ]
    },
    {
      "cell_type": "code",
      "metadata": {
        "id": "Y6aPwu3dUr2H",
        "colab": {
          "base_uri": "https://localhost:8080/"
        },
        "outputId": "782be0db-be2a-4f40-9fdc-697d627ad4a9"
      },
      "source": [
        "g3[0,:,:]"
      ],
      "execution_count": null,
      "outputs": [
        {
          "output_type": "execute_result",
          "data": {
            "text/plain": [
              "array([[0, 1, 2, 3],\n",
              "       [4, 5, 6, 7]])"
            ]
          },
          "metadata": {},
          "execution_count": 23
        }
      ]
    },
    {
      "cell_type": "code",
      "metadata": {
        "id": "WnIN_wiXVfX_",
        "colab": {
          "base_uri": "https://localhost:8080/"
        },
        "outputId": "41deeaf3-e286-4e7f-cf7c-6ae102b7abbd"
      },
      "source": [
        "g3[0,0,:]"
      ],
      "execution_count": null,
      "outputs": [
        {
          "output_type": "execute_result",
          "data": {
            "text/plain": [
              "array([0, 1, 2, 3])"
            ]
          },
          "metadata": {},
          "execution_count": 24
        }
      ]
    },
    {
      "cell_type": "code",
      "metadata": {
        "id": "ZB8t-jy1USot",
        "colab": {
          "base_uri": "https://localhost:8080/",
          "height": 36
        },
        "outputId": "69b718a6-2418-463b-8aa8-505c64b5309a"
      },
      "source": [
        "g3[1,:,:].sum(axis=0)"
      ],
      "execution_count": null,
      "outputs": [
        {
          "output_type": "execute_result",
          "data": {
            "text/plain": [
              "array([20, 22, 24, 26])"
            ]
          },
          "metadata": {
            "tags": []
          },
          "execution_count": 22
        }
      ]
    },
    {
      "cell_type": "code",
      "metadata": {
        "id": "ZWzFg4dKT3np",
        "colab": {
          "base_uri": "https://localhost:8080/",
          "height": 147
        },
        "outputId": "71faf3c6-b3b8-4b0f-bd61-a6a4fc2635f1"
      },
      "source": [
        "g3"
      ],
      "execution_count": null,
      "outputs": [
        {
          "output_type": "execute_result",
          "data": {
            "text/plain": [
              "array([[[ 0,  1,  2,  3],\n",
              "        [ 4,  5,  6,  7],\n",
              "        [ 8,  9, 10, 11]],\n",
              "\n",
              "       [[12, 13, 14, 15],\n",
              "        [16, 17, 18, 19],\n",
              "        [20, 21, 22, 23]]])"
            ]
          },
          "metadata": {
            "tags": []
          },
          "execution_count": 4
        }
      ]
    },
    {
      "cell_type": "code",
      "metadata": {
        "id": "zD9PSbJhVhUL",
        "colab": {
          "base_uri": "https://localhost:8080/",
          "height": 91
        },
        "outputId": "16e56668-ff7a-4a6c-cd5c-73abe42a16fc"
      },
      "source": [
        "A=np.array([[1,1],[0,1]])\n",
        "B=np.array([[2,0],[3,4]])\n",
        "print(A)\n",
        "print(B)"
      ],
      "execution_count": null,
      "outputs": [
        {
          "output_type": "stream",
          "text": [
            "[[1 1]\n",
            " [0 1]]\n",
            "[[2 0]\n",
            " [3 4]]\n"
          ],
          "name": "stdout"
        }
      ]
    },
    {
      "cell_type": "code",
      "metadata": {
        "id": "l2HZh1brqbdf",
        "colab": {
          "base_uri": "https://localhost:8080/",
          "height": 54
        },
        "outputId": "e0a5753e-76fa-4e88-914e-a86f17afbd9a"
      },
      "source": [
        "A*B #element wise multiplication"
      ],
      "execution_count": null,
      "outputs": [
        {
          "output_type": "execute_result",
          "data": {
            "text/plain": [
              "array([[2, 0],\n",
              "       [0, 4]])"
            ]
          },
          "metadata": {
            "tags": []
          },
          "execution_count": 26
        }
      ]
    },
    {
      "cell_type": "code",
      "metadata": {
        "id": "k7kJAiDRWLhM",
        "colab": {
          "base_uri": "https://localhost:8080/",
          "height": 54
        },
        "outputId": "c210b9b2-2e76-42e7-dc3c-5f69984e6ff7"
      },
      "source": [
        "A.dot(B) #matrix multiplication"
      ],
      "execution_count": null,
      "outputs": [
        {
          "output_type": "execute_result",
          "data": {
            "text/plain": [
              "array([[5, 4],\n",
              "       [3, 4]])"
            ]
          },
          "metadata": {
            "tags": []
          },
          "execution_count": 27
        }
      ]
    },
    {
      "cell_type": "code",
      "metadata": {
        "id": "d7BT0aGYWS5A",
        "colab": {
          "base_uri": "https://localhost:8080/",
          "height": 54
        },
        "outputId": "2d89771d-c9f7-46e7-fbb5-01cc9237419b"
      },
      "source": [
        "np.dot(A,B)"
      ],
      "execution_count": null,
      "outputs": [
        {
          "output_type": "execute_result",
          "data": {
            "text/plain": [
              "array([[5, 4],\n",
              "       [3, 4]])"
            ]
          },
          "metadata": {
            "tags": []
          },
          "execution_count": 28
        }
      ]
    },
    {
      "cell_type": "code",
      "metadata": {
        "id": "otQUEwcSWgBr",
        "colab": {
          "base_uri": "https://localhost:8080/",
          "height": 36
        },
        "outputId": "9e957b2c-8397-43b2-989e-d6350e420cf0"
      },
      "source": [
        "g=np.arange(12).reshape(3,4)\n",
        "g.sum(axis=0)   #2D Array, axis=1 (row), axis=0 (col)\n",
        "#Df axis=1 (col), axis=0 (row)"
      ],
      "execution_count": null,
      "outputs": [
        {
          "output_type": "execute_result",
          "data": {
            "text/plain": [
              "array([12, 15, 18, 21])"
            ]
          },
          "metadata": {
            "tags": []
          },
          "execution_count": 32
        }
      ]
    },
    {
      "cell_type": "code",
      "metadata": {
        "id": "Ua8uViCZrEf2",
        "colab": {
          "base_uri": "https://localhost:8080/",
          "height": 73
        },
        "outputId": "55b5b31a-ab6a-4ebe-adb9-a4e2d6149d55"
      },
      "source": [
        "g"
      ],
      "execution_count": null,
      "outputs": [
        {
          "output_type": "execute_result",
          "data": {
            "text/plain": [
              "array([[ 0,  1,  2,  3],\n",
              "       [ 4,  5,  6,  7],\n",
              "       [ 8,  9, 10, 11]])"
            ]
          },
          "metadata": {
            "tags": []
          },
          "execution_count": 31
        }
      ]
    },
    {
      "cell_type": "code",
      "metadata": {
        "id": "Nr9Yzkc0Wo78",
        "colab": {
          "base_uri": "https://localhost:8080/",
          "height": 36
        },
        "outputId": "c5bbca0e-76b9-42de-fc0f-874e644cd89a"
      },
      "source": [
        "g.sum(axis=0) #column wise sum"
      ],
      "execution_count": null,
      "outputs": [
        {
          "output_type": "execute_result",
          "data": {
            "text/plain": [
              "array([12, 15, 18, 21])"
            ]
          },
          "metadata": {
            "tags": []
          },
          "execution_count": 16
        }
      ]
    },
    {
      "cell_type": "code",
      "metadata": {
        "id": "_nC5lw_1W8M0",
        "colab": {
          "base_uri": "https://localhost:8080/",
          "height": 36
        },
        "outputId": "8c73bb12-0b5c-4d65-d3ba-4b9f18adddfa"
      },
      "source": [
        "g.sum(axis=1) #row wise sum"
      ],
      "execution_count": null,
      "outputs": [
        {
          "output_type": "execute_result",
          "data": {
            "text/plain": [
              "array([ 6, 22, 38])"
            ]
          },
          "metadata": {
            "tags": []
          },
          "execution_count": 17
        }
      ]
    },
    {
      "cell_type": "code",
      "metadata": {
        "id": "voR4w66bV07-",
        "colab": {
          "base_uri": "https://localhost:8080/",
          "height": 54
        },
        "outputId": "a32ec91f-7fbf-47fe-a130-94586fd97c50"
      },
      "source": [
        "A*B #element wise multiplication"
      ],
      "execution_count": null,
      "outputs": [
        {
          "output_type": "execute_result",
          "data": {
            "text/plain": [
              "array([[2, 0],\n",
              "       [0, 4]])"
            ]
          },
          "metadata": {
            "tags": []
          },
          "execution_count": 12
        }
      ]
    },
    {
      "cell_type": "markdown",
      "metadata": {
        "id": "JXbNKcl4Tprt"
      },
      "source": [
        "Multidimensional arrays"
      ]
    },
    {
      "cell_type": "code",
      "metadata": {
        "id": "x7ioaZngTucA",
        "colab": {
          "base_uri": "https://localhost:8080/",
          "height": 87
        },
        "outputId": "d9465a4b-3524-419b-fc63-ee7ebeb6a177"
      },
      "source": [
        "p=np.arange(5,149,3)\n",
        "p"
      ],
      "execution_count": null,
      "outputs": [
        {
          "output_type": "execute_result",
          "data": {
            "text/plain": [
              "array([  5,   8,  11,  14,  17,  20,  23,  26,  29,  32,  35,  38,  41,\n",
              "        44,  47,  50,  53,  56,  59,  62,  65,  68,  71,  74,  77,  80,\n",
              "        83,  86,  89,  92,  95,  98, 101, 104, 107, 110, 113, 116, 119,\n",
              "       122, 125, 128, 131, 134, 137, 140, 143, 146])"
            ]
          },
          "metadata": {
            "tags": []
          },
          "execution_count": 11
        }
      ]
    },
    {
      "cell_type": "code",
      "metadata": {
        "id": "aL5CUtSBU0BQ",
        "colab": {
          "base_uri": "https://localhost:8080/",
          "height": 34
        },
        "outputId": "77b644f6-ec0e-477c-90a3-4eadad3ea57c"
      },
      "source": [
        "len(p)"
      ],
      "execution_count": null,
      "outputs": [
        {
          "output_type": "execute_result",
          "data": {
            "text/plain": [
              "48"
            ]
          },
          "metadata": {
            "tags": []
          },
          "execution_count": 12
        }
      ]
    },
    {
      "cell_type": "code",
      "metadata": {
        "id": "o7G4LpX9ToiA",
        "colab": {
          "base_uri": "https://localhost:8080/",
          "height": 263
        },
        "outputId": "ebde2f70-9514-4112-a671-3e769ce7d91f"
      },
      "source": [
        "M=p.reshape(3,4,4) #1st value indicates no of planes\n",
        "M"
      ],
      "execution_count": null,
      "outputs": [
        {
          "output_type": "execute_result",
          "data": {
            "text/plain": [
              "array([[[  5,   8,  11,  14],\n",
              "        [ 17,  20,  23,  26],\n",
              "        [ 29,  32,  35,  38],\n",
              "        [ 41,  44,  47,  50]],\n",
              "\n",
              "       [[ 53,  56,  59,  62],\n",
              "        [ 65,  68,  71,  74],\n",
              "        [ 77,  80,  83,  86],\n",
              "        [ 89,  92,  95,  98]],\n",
              "\n",
              "       [[101, 104, 107, 110],\n",
              "        [113, 116, 119, 122],\n",
              "        [125, 128, 131, 134],\n",
              "        [137, 140, 143, 146]]])"
            ]
          },
          "metadata": {
            "tags": []
          },
          "execution_count": 13
        }
      ]
    },
    {
      "cell_type": "code",
      "metadata": {
        "id": "OC10gl9bTotO",
        "colab": {
          "base_uri": "https://localhost:8080/",
          "height": 87
        },
        "outputId": "567e861e-84dd-4a8a-ef3e-def7b404b326"
      },
      "source": [
        "M[0,:,:]"
      ],
      "execution_count": null,
      "outputs": [
        {
          "output_type": "execute_result",
          "data": {
            "text/plain": [
              "array([[ 5,  8, 11, 14],\n",
              "       [17, 20, 23, 26],\n",
              "       [29, 32, 35, 38],\n",
              "       [41, 44, 47, 50]])"
            ]
          },
          "metadata": {
            "tags": []
          },
          "execution_count": 14
        }
      ]
    },
    {
      "cell_type": "code",
      "metadata": {
        "id": "lHrpz2aVWKJ1",
        "colab": {
          "base_uri": "https://localhost:8080/",
          "height": 34
        },
        "outputId": "707d2629-6a05-4caf-b079-0eee785f53cc"
      },
      "source": [
        "M[0,0,:]"
      ],
      "execution_count": null,
      "outputs": [
        {
          "output_type": "execute_result",
          "data": {
            "text/plain": [
              "array([ 5,  8, 11, 14])"
            ]
          },
          "metadata": {
            "tags": []
          },
          "execution_count": 15
        }
      ]
    },
    {
      "cell_type": "code",
      "metadata": {
        "id": "KwDlHJIhANco"
      },
      "source": [
        "M[1,1:3,:]=0"
      ],
      "execution_count": null,
      "outputs": []
    },
    {
      "cell_type": "code",
      "metadata": {
        "id": "I3ygAvbqWa9_",
        "colab": {
          "base_uri": "https://localhost:8080/",
          "height": 263
        },
        "outputId": "fe414643-a890-40ec-fbc4-ada243a0ffc5"
      },
      "source": [
        "M"
      ],
      "execution_count": null,
      "outputs": [
        {
          "output_type": "execute_result",
          "data": {
            "text/plain": [
              "array([[[  5,   8,  11,  14],\n",
              "        [ 17,  20,  23,  26],\n",
              "        [ 29,  32,  35,  38],\n",
              "        [ 41,  44,  47,  50]],\n",
              "\n",
              "       [[ 53,  56,  59,  62],\n",
              "        [  0,   0,   0,   0],\n",
              "        [  0,   0,   0,   0],\n",
              "        [ 89,  92,  95,  98]],\n",
              "\n",
              "       [[101, 104, 107, 110],\n",
              "        [113, 116, 119, 122],\n",
              "        [125, 128, 131, 134],\n",
              "        [137, 140, 143, 146]]])"
            ]
          },
          "metadata": {
            "tags": []
          },
          "execution_count": 18
        }
      ]
    },
    {
      "cell_type": "code",
      "metadata": {
        "id": "jNRjocUKWa4d"
      },
      "source": [
        "#LIST Comprehension"
      ],
      "execution_count": null,
      "outputs": []
    },
    {
      "cell_type": "code",
      "metadata": {
        "id": "aFdWFDAcXhdg",
        "colab": {
          "base_uri": "https://localhost:8080/"
        },
        "outputId": "a50018b7-ee27-49b8-c4b2-9b2d61ebedd5"
      },
      "source": [
        "L=[6,-3,5,-10,4,2]\n",
        "K=[]\n",
        "for val in L:\n",
        "  if val>0:\n",
        "    K.append(val+100)\n",
        "print(K)"
      ],
      "execution_count": null,
      "outputs": [
        {
          "output_type": "stream",
          "name": "stdout",
          "text": [
            "[106, 105, 104, 102]\n"
          ]
        }
      ]
    },
    {
      "cell_type": "code",
      "metadata": {
        "id": "AsHn33Z7X-II",
        "colab": {
          "base_uri": "https://localhost:8080/"
        },
        "outputId": "5759928a-629a-4f0f-aae6-cf8108411e24"
      },
      "source": [
        "K1=[val+100 for val in L]\n",
        "print(K1)"
      ],
      "execution_count": null,
      "outputs": [
        {
          "output_type": "stream",
          "name": "stdout",
          "text": [
            "[106, 97, 105, 90, 104, 102]\n"
          ]
        }
      ]
    },
    {
      "cell_type": "code",
      "metadata": {
        "id": "XLleTIeYY0PN",
        "colab": {
          "base_uri": "https://localhost:8080/"
        },
        "outputId": "c5ed9221-8905-420a-b005-8c480b674fd6"
      },
      "source": [
        "K2=[val+100 for val in L if val>0]\n",
        "print(K2)"
      ],
      "execution_count": null,
      "outputs": [
        {
          "output_type": "stream",
          "name": "stdout",
          "text": [
            "[106, 105, 104, 102]\n"
          ]
        }
      ]
    },
    {
      "cell_type": "markdown",
      "source": [
        "User defined function"
      ],
      "metadata": {
        "id": "ZbohyWWz2vQE"
      }
    },
    {
      "cell_type": "code",
      "source": [
        "def my_std(x_real,x_bar,x_sd):\n",
        "  res=(x_real-x_bar)/x_sd\n",
        "  return(res)"
      ],
      "metadata": {
        "id": "LF4AXOtDEfhi"
      },
      "execution_count": null,
      "outputs": []
    },
    {
      "cell_type": "code",
      "source": [
        "my_std(20,28.5,3.2)"
      ],
      "metadata": {
        "colab": {
          "base_uri": "https://localhost:8080/"
        },
        "id": "G0K46dC1Efle",
        "outputId": "d5b3b1aa-01a0-4fc0-9a20-b68adf85f2d9"
      },
      "execution_count": null,
      "outputs": [
        {
          "output_type": "execute_result",
          "data": {
            "text/plain": [
              "-2.65625"
            ]
          },
          "metadata": {},
          "execution_count": 254
        }
      ]
    },
    {
      "cell_type": "code",
      "source": [
        "my_std(1540000,1350000,150000)"
      ],
      "metadata": {
        "colab": {
          "base_uri": "https://localhost:8080/"
        },
        "id": "0YP6Awi1EfxU",
        "outputId": "ade25d4e-172d-4e86-f582-b863c3b5634c"
      },
      "execution_count": null,
      "outputs": [
        {
          "output_type": "execute_result",
          "data": {
            "text/plain": [
              "1.2666666666666666"
            ]
          },
          "metadata": {},
          "execution_count": 255
        }
      ]
    },
    {
      "cell_type": "code",
      "metadata": {
        "id": "YbGPJv7OaE4j"
      },
      "source": [
        "def my_fn(x1,x2):\n",
        "  r1=x1**2       #25\n",
        "  r2=(x2+100)*r1 #110 x 25\n",
        "  return (r1,r2)"
      ],
      "execution_count": null,
      "outputs": []
    },
    {
      "cell_type": "code",
      "metadata": {
        "id": "l_8Gg196aimj",
        "colab": {
          "base_uri": "https://localhost:8080/"
        },
        "outputId": "cee5729f-b4c3-458e-957c-280e2cd2286e"
      },
      "source": [
        "_,res2=my_fn(5,10)\n",
        "print(res2)\n",
        "#print(res2)\n",
        "#res1[0],res1[1]"
      ],
      "execution_count": null,
      "outputs": [
        {
          "output_type": "stream",
          "name": "stdout",
          "text": [
            "2750\n"
          ]
        }
      ]
    },
    {
      "cell_type": "code",
      "metadata": {
        "id": "b_j5RQ-Yb8Ab"
      },
      "source": [
        "def my_mean(x):\n",
        "  N=len(x)\n",
        "  s=np.sum(x)\n",
        "  m=s/N\n",
        "  return(s,m)"
      ],
      "execution_count": null,
      "outputs": []
    },
    {
      "cell_type": "code",
      "source": [
        "x_in=np.array([12,6,9,14,10])"
      ],
      "metadata": {
        "id": "ZFkys2jUHHmK"
      },
      "execution_count": null,
      "outputs": []
    },
    {
      "cell_type": "code",
      "source": [
        "tot,avg=my_mean(x_in)\n",
        "print(tot)\n",
        "print(avg)"
      ],
      "metadata": {
        "colab": {
          "base_uri": "https://localhost:8080/"
        },
        "id": "jbgRathFHPFT",
        "outputId": "8692dd5d-899f-4f27-e139-e0b9a703aa43"
      },
      "execution_count": null,
      "outputs": [
        {
          "output_type": "stream",
          "name": "stdout",
          "text": [
            "51\n",
            "10.2\n"
          ]
        }
      ]
    },
    {
      "cell_type": "code",
      "metadata": {
        "id": "HLdqrlp-b77i",
        "colab": {
          "base_uri": "https://localhost:8080/"
        },
        "outputId": "c1663bf1-f775-481e-9add-c18b0d99a6cc"
      },
      "source": [
        "my_mean(np.array([3,5,9,10,12,6]))"
      ],
      "execution_count": null,
      "outputs": [
        {
          "output_type": "execute_result",
          "data": {
            "text/plain": [
              "(45, 7.5)"
            ]
          },
          "metadata": {},
          "execution_count": 267
        }
      ]
    },
    {
      "cell_type": "code",
      "metadata": {
        "id": "--pKJrCZdcYw",
        "colab": {
          "base_uri": "https://localhost:8080/"
        },
        "outputId": "e3d838f1-eed1-4e33-9abb-a0fe153ca9a0"
      },
      "source": [
        "my_mean([3,5,9,10,5,6])"
      ],
      "execution_count": null,
      "outputs": [
        {
          "output_type": "execute_result",
          "data": {
            "text/plain": [
              "(38, 6.333333333333333)"
            ]
          },
          "metadata": {},
          "execution_count": 271
        }
      ]
    },
    {
      "cell_type": "code",
      "source": [
        "def times2(var):\n",
        "    return var*2"
      ],
      "metadata": {
        "id": "EF88IcnlSvO4"
      },
      "execution_count": null,
      "outputs": []
    },
    {
      "cell_type": "code",
      "source": [
        "times2(10)"
      ],
      "metadata": {
        "colab": {
          "base_uri": "https://localhost:8080/"
        },
        "id": "ThoMLDeTJo-C",
        "outputId": "3945f66f-146d-44c0-8c4e-9134eb77f8fd"
      },
      "execution_count": null,
      "outputs": [
        {
          "output_type": "execute_result",
          "data": {
            "text/plain": [
              "20"
            ]
          },
          "metadata": {},
          "execution_count": 273
        }
      ]
    },
    {
      "cell_type": "code",
      "source": [
        "lambda var: var*2"
      ],
      "metadata": {
        "id": "4o2GjOKTStTf",
        "colab": {
          "base_uri": "https://localhost:8080/"
        },
        "outputId": "aa438ab1-af51-455a-81e0-e83a333bc601"
      },
      "execution_count": null,
      "outputs": [
        {
          "output_type": "execute_result",
          "data": {
            "text/plain": [
              "<function __main__.<lambda>(var)>"
            ]
          },
          "metadata": {},
          "execution_count": 274
        }
      ]
    },
    {
      "cell_type": "code",
      "source": [
        "seq = [1,2,3,4,5]"
      ],
      "metadata": {
        "id": "D1vfq5hNSw0S"
      },
      "execution_count": null,
      "outputs": []
    },
    {
      "cell_type": "code",
      "source": [
        "times2(seq)"
      ],
      "metadata": {
        "colab": {
          "base_uri": "https://localhost:8080/"
        },
        "id": "l8kmfPEWKA6D",
        "outputId": "5c0d166b-9b50-43f7-ad9b-782a835b3af2"
      },
      "execution_count": null,
      "outputs": [
        {
          "output_type": "execute_result",
          "data": {
            "text/plain": [
              "[1, 2, 3, 4, 5, 1, 2, 3, 4, 5]"
            ]
          },
          "metadata": {},
          "execution_count": 276
        }
      ]
    },
    {
      "cell_type": "code",
      "source": [
        "map(times2,seq)"
      ],
      "metadata": {
        "id": "UVys5jYGSytb",
        "colab": {
          "base_uri": "https://localhost:8080/"
        },
        "outputId": "d68bc7a1-0405-401e-884f-1aba086994ce"
      },
      "execution_count": null,
      "outputs": [
        {
          "output_type": "execute_result",
          "data": {
            "text/plain": [
              "<map at 0x7fdb4f903590>"
            ]
          },
          "metadata": {},
          "execution_count": 278
        }
      ]
    },
    {
      "cell_type": "code",
      "source": [
        "list(map(times2,seq))"
      ],
      "metadata": {
        "id": "E4aaTMwUS0S_",
        "colab": {
          "base_uri": "https://localhost:8080/"
        },
        "outputId": "2a82a241-a847-42ae-c4ba-4d77f4fd2b08"
      },
      "execution_count": null,
      "outputs": [
        {
          "output_type": "execute_result",
          "data": {
            "text/plain": [
              "[2, 4, 6, 8, 10]"
            ]
          },
          "metadata": {},
          "execution_count": 280
        }
      ]
    },
    {
      "cell_type": "code",
      "source": [
        "list(map(lambda var: var*2,seq))"
      ],
      "metadata": {
        "id": "_aqE6qttS3q8",
        "colab": {
          "base_uri": "https://localhost:8080/"
        },
        "outputId": "01ac5ff7-6cae-471a-daae-056f39bc824c"
      },
      "execution_count": null,
      "outputs": [
        {
          "output_type": "execute_result",
          "data": {
            "text/plain": [
              "[2, 4, 6, 8, 10]"
            ]
          },
          "metadata": {},
          "execution_count": 281
        }
      ]
    },
    {
      "cell_type": "code",
      "source": [
        "filter(lambda item: item%2 == 0,seq)"
      ],
      "metadata": {
        "id": "lGYKzd0BS5bZ",
        "colab": {
          "base_uri": "https://localhost:8080/"
        },
        "outputId": "f83706f5-e6e9-42f9-f48d-e64676f96160"
      },
      "execution_count": null,
      "outputs": [
        {
          "output_type": "execute_result",
          "data": {
            "text/plain": [
              "<filter at 0x7fdb5ce8ad90>"
            ]
          },
          "metadata": {},
          "execution_count": 35
        }
      ]
    },
    {
      "cell_type": "code",
      "source": [
        "list(filter(lambda item: item%2 == 0,seq))"
      ],
      "metadata": {
        "id": "4QP4KxW4S7Po",
        "colab": {
          "base_uri": "https://localhost:8080/"
        },
        "outputId": "e40913fe-3a4f-4dad-eff9-933fa3234b01"
      },
      "execution_count": null,
      "outputs": [
        {
          "output_type": "execute_result",
          "data": {
            "text/plain": [
              "[2, 4]"
            ]
          },
          "metadata": {},
          "execution_count": 282
        }
      ]
    },
    {
      "cell_type": "code",
      "source": [
        "import pandas as pd\n",
        "df = pd.DataFrame({\n",
        "    'Name': ['Arjun','Nithya','Dinesh','Maha'],\n",
        "    'Status': ['Father', 'Mother', 'Son', 'Daughter'],\n",
        "    'Birthyear': [1976, 1980, 2008, 2010],\n",
        "})"
      ],
      "metadata": {
        "id": "qyZ2RWaiS8zx"
      },
      "execution_count": null,
      "outputs": []
    },
    {
      "cell_type": "code",
      "source": [
        "df"
      ],
      "metadata": {
        "colab": {
          "base_uri": "https://localhost:8080/",
          "height": 175
        },
        "id": "J2Qdv_rwL8ys",
        "outputId": "c53c8e68-e836-465f-d49e-8190594aab63"
      },
      "execution_count": null,
      "outputs": [
        {
          "output_type": "execute_result",
          "data": {
            "text/plain": [
              "     Name    Status  Birthyear\n",
              "0   Arjun    Father       1976\n",
              "1  Nithya    Mother       1980\n",
              "2  Dinesh       Son       2008\n",
              "3    Maha  Daughter       2010"
            ],
            "text/html": [
              "\n",
              "  <div id=\"df-577e76ac-52ee-4708-ba59-fbefe03cfe2f\">\n",
              "    <div class=\"colab-df-container\">\n",
              "      <div>\n",
              "<style scoped>\n",
              "    .dataframe tbody tr th:only-of-type {\n",
              "        vertical-align: middle;\n",
              "    }\n",
              "\n",
              "    .dataframe tbody tr th {\n",
              "        vertical-align: top;\n",
              "    }\n",
              "\n",
              "    .dataframe thead th {\n",
              "        text-align: right;\n",
              "    }\n",
              "</style>\n",
              "<table border=\"1\" class=\"dataframe\">\n",
              "  <thead>\n",
              "    <tr style=\"text-align: right;\">\n",
              "      <th></th>\n",
              "      <th>Name</th>\n",
              "      <th>Status</th>\n",
              "      <th>Birthyear</th>\n",
              "    </tr>\n",
              "  </thead>\n",
              "  <tbody>\n",
              "    <tr>\n",
              "      <th>0</th>\n",
              "      <td>Arjun</td>\n",
              "      <td>Father</td>\n",
              "      <td>1976</td>\n",
              "    </tr>\n",
              "    <tr>\n",
              "      <th>1</th>\n",
              "      <td>Nithya</td>\n",
              "      <td>Mother</td>\n",
              "      <td>1980</td>\n",
              "    </tr>\n",
              "    <tr>\n",
              "      <th>2</th>\n",
              "      <td>Dinesh</td>\n",
              "      <td>Son</td>\n",
              "      <td>2008</td>\n",
              "    </tr>\n",
              "    <tr>\n",
              "      <th>3</th>\n",
              "      <td>Maha</td>\n",
              "      <td>Daughter</td>\n",
              "      <td>2010</td>\n",
              "    </tr>\n",
              "  </tbody>\n",
              "</table>\n",
              "</div>\n",
              "      <button class=\"colab-df-convert\" onclick=\"convertToInteractive('df-577e76ac-52ee-4708-ba59-fbefe03cfe2f')\"\n",
              "              title=\"Convert this dataframe to an interactive table.\"\n",
              "              style=\"display:none;\">\n",
              "        \n",
              "  <svg xmlns=\"http://www.w3.org/2000/svg\" height=\"24px\"viewBox=\"0 0 24 24\"\n",
              "       width=\"24px\">\n",
              "    <path d=\"M0 0h24v24H0V0z\" fill=\"none\"/>\n",
              "    <path d=\"M18.56 5.44l.94 2.06.94-2.06 2.06-.94-2.06-.94-.94-2.06-.94 2.06-2.06.94zm-11 1L8.5 8.5l.94-2.06 2.06-.94-2.06-.94L8.5 2.5l-.94 2.06-2.06.94zm10 10l.94 2.06.94-2.06 2.06-.94-2.06-.94-.94-2.06-.94 2.06-2.06.94z\"/><path d=\"M17.41 7.96l-1.37-1.37c-.4-.4-.92-.59-1.43-.59-.52 0-1.04.2-1.43.59L10.3 9.45l-7.72 7.72c-.78.78-.78 2.05 0 2.83L4 21.41c.39.39.9.59 1.41.59.51 0 1.02-.2 1.41-.59l7.78-7.78 2.81-2.81c.8-.78.8-2.07 0-2.86zM5.41 20L4 18.59l7.72-7.72 1.47 1.35L5.41 20z\"/>\n",
              "  </svg>\n",
              "      </button>\n",
              "      \n",
              "  <style>\n",
              "    .colab-df-container {\n",
              "      display:flex;\n",
              "      flex-wrap:wrap;\n",
              "      gap: 12px;\n",
              "    }\n",
              "\n",
              "    .colab-df-convert {\n",
              "      background-color: #E8F0FE;\n",
              "      border: none;\n",
              "      border-radius: 50%;\n",
              "      cursor: pointer;\n",
              "      display: none;\n",
              "      fill: #1967D2;\n",
              "      height: 32px;\n",
              "      padding: 0 0 0 0;\n",
              "      width: 32px;\n",
              "    }\n",
              "\n",
              "    .colab-df-convert:hover {\n",
              "      background-color: #E2EBFA;\n",
              "      box-shadow: 0px 1px 2px rgba(60, 64, 67, 0.3), 0px 1px 3px 1px rgba(60, 64, 67, 0.15);\n",
              "      fill: #174EA6;\n",
              "    }\n",
              "\n",
              "    [theme=dark] .colab-df-convert {\n",
              "      background-color: #3B4455;\n",
              "      fill: #D2E3FC;\n",
              "    }\n",
              "\n",
              "    [theme=dark] .colab-df-convert:hover {\n",
              "      background-color: #434B5C;\n",
              "      box-shadow: 0px 1px 3px 1px rgba(0, 0, 0, 0.15);\n",
              "      filter: drop-shadow(0px 1px 2px rgba(0, 0, 0, 0.3));\n",
              "      fill: #FFFFFF;\n",
              "    }\n",
              "  </style>\n",
              "\n",
              "      <script>\n",
              "        const buttonEl =\n",
              "          document.querySelector('#df-577e76ac-52ee-4708-ba59-fbefe03cfe2f button.colab-df-convert');\n",
              "        buttonEl.style.display =\n",
              "          google.colab.kernel.accessAllowed ? 'block' : 'none';\n",
              "\n",
              "        async function convertToInteractive(key) {\n",
              "          const element = document.querySelector('#df-577e76ac-52ee-4708-ba59-fbefe03cfe2f');\n",
              "          const dataTable =\n",
              "            await google.colab.kernel.invokeFunction('convertToInteractive',\n",
              "                                                     [key], {});\n",
              "          if (!dataTable) return;\n",
              "\n",
              "          const docLinkHtml = 'Like what you see? Visit the ' +\n",
              "            '<a target=\"_blank\" href=https://colab.research.google.com/notebooks/data_table.ipynb>data table notebook</a>'\n",
              "            + ' to learn more about interactive tables.';\n",
              "          element.innerHTML = '';\n",
              "          dataTable['output_type'] = 'display_data';\n",
              "          await google.colab.output.renderOutput(dataTable, element);\n",
              "          const docLink = document.createElement('div');\n",
              "          docLink.innerHTML = docLinkHtml;\n",
              "          element.appendChild(docLink);\n",
              "        }\n",
              "      </script>\n",
              "    </div>\n",
              "  </div>\n",
              "  "
            ]
          },
          "metadata": {},
          "execution_count": 285
        }
      ]
    },
    {
      "cell_type": "code",
      "source": [
        "#applies an operation on every element of a column\n",
        "df['age'] = df['Birthyear'].apply(lambda x: 2022-x)\n",
        "df"
      ],
      "metadata": {
        "id": "DnuT7q7ES-WA",
        "colab": {
          "base_uri": "https://localhost:8080/",
          "height": 175
        },
        "outputId": "9cc75546-ad83-4cb8-fed6-d0556bfe862b"
      },
      "execution_count": null,
      "outputs": [
        {
          "output_type": "execute_result",
          "data": {
            "text/plain": [
              "     Name    Status  Birthyear  age\n",
              "0   Arjun    Father       1976   46\n",
              "1  Nithya    Mother       1980   42\n",
              "2  Dinesh       Son       2008   14\n",
              "3    Maha  Daughter       2010   12"
            ],
            "text/html": [
              "\n",
              "  <div id=\"df-525c9fac-8b3e-4acd-b3ba-1596a2770c94\">\n",
              "    <div class=\"colab-df-container\">\n",
              "      <div>\n",
              "<style scoped>\n",
              "    .dataframe tbody tr th:only-of-type {\n",
              "        vertical-align: middle;\n",
              "    }\n",
              "\n",
              "    .dataframe tbody tr th {\n",
              "        vertical-align: top;\n",
              "    }\n",
              "\n",
              "    .dataframe thead th {\n",
              "        text-align: right;\n",
              "    }\n",
              "</style>\n",
              "<table border=\"1\" class=\"dataframe\">\n",
              "  <thead>\n",
              "    <tr style=\"text-align: right;\">\n",
              "      <th></th>\n",
              "      <th>Name</th>\n",
              "      <th>Status</th>\n",
              "      <th>Birthyear</th>\n",
              "      <th>age</th>\n",
              "    </tr>\n",
              "  </thead>\n",
              "  <tbody>\n",
              "    <tr>\n",
              "      <th>0</th>\n",
              "      <td>Arjun</td>\n",
              "      <td>Father</td>\n",
              "      <td>1976</td>\n",
              "      <td>46</td>\n",
              "    </tr>\n",
              "    <tr>\n",
              "      <th>1</th>\n",
              "      <td>Nithya</td>\n",
              "      <td>Mother</td>\n",
              "      <td>1980</td>\n",
              "      <td>42</td>\n",
              "    </tr>\n",
              "    <tr>\n",
              "      <th>2</th>\n",
              "      <td>Dinesh</td>\n",
              "      <td>Son</td>\n",
              "      <td>2008</td>\n",
              "      <td>14</td>\n",
              "    </tr>\n",
              "    <tr>\n",
              "      <th>3</th>\n",
              "      <td>Maha</td>\n",
              "      <td>Daughter</td>\n",
              "      <td>2010</td>\n",
              "      <td>12</td>\n",
              "    </tr>\n",
              "  </tbody>\n",
              "</table>\n",
              "</div>\n",
              "      <button class=\"colab-df-convert\" onclick=\"convertToInteractive('df-525c9fac-8b3e-4acd-b3ba-1596a2770c94')\"\n",
              "              title=\"Convert this dataframe to an interactive table.\"\n",
              "              style=\"display:none;\">\n",
              "        \n",
              "  <svg xmlns=\"http://www.w3.org/2000/svg\" height=\"24px\"viewBox=\"0 0 24 24\"\n",
              "       width=\"24px\">\n",
              "    <path d=\"M0 0h24v24H0V0z\" fill=\"none\"/>\n",
              "    <path d=\"M18.56 5.44l.94 2.06.94-2.06 2.06-.94-2.06-.94-.94-2.06-.94 2.06-2.06.94zm-11 1L8.5 8.5l.94-2.06 2.06-.94-2.06-.94L8.5 2.5l-.94 2.06-2.06.94zm10 10l.94 2.06.94-2.06 2.06-.94-2.06-.94-.94-2.06-.94 2.06-2.06.94z\"/><path d=\"M17.41 7.96l-1.37-1.37c-.4-.4-.92-.59-1.43-.59-.52 0-1.04.2-1.43.59L10.3 9.45l-7.72 7.72c-.78.78-.78 2.05 0 2.83L4 21.41c.39.39.9.59 1.41.59.51 0 1.02-.2 1.41-.59l7.78-7.78 2.81-2.81c.8-.78.8-2.07 0-2.86zM5.41 20L4 18.59l7.72-7.72 1.47 1.35L5.41 20z\"/>\n",
              "  </svg>\n",
              "      </button>\n",
              "      \n",
              "  <style>\n",
              "    .colab-df-container {\n",
              "      display:flex;\n",
              "      flex-wrap:wrap;\n",
              "      gap: 12px;\n",
              "    }\n",
              "\n",
              "    .colab-df-convert {\n",
              "      background-color: #E8F0FE;\n",
              "      border: none;\n",
              "      border-radius: 50%;\n",
              "      cursor: pointer;\n",
              "      display: none;\n",
              "      fill: #1967D2;\n",
              "      height: 32px;\n",
              "      padding: 0 0 0 0;\n",
              "      width: 32px;\n",
              "    }\n",
              "\n",
              "    .colab-df-convert:hover {\n",
              "      background-color: #E2EBFA;\n",
              "      box-shadow: 0px 1px 2px rgba(60, 64, 67, 0.3), 0px 1px 3px 1px rgba(60, 64, 67, 0.15);\n",
              "      fill: #174EA6;\n",
              "    }\n",
              "\n",
              "    [theme=dark] .colab-df-convert {\n",
              "      background-color: #3B4455;\n",
              "      fill: #D2E3FC;\n",
              "    }\n",
              "\n",
              "    [theme=dark] .colab-df-convert:hover {\n",
              "      background-color: #434B5C;\n",
              "      box-shadow: 0px 1px 3px 1px rgba(0, 0, 0, 0.15);\n",
              "      filter: drop-shadow(0px 1px 2px rgba(0, 0, 0, 0.3));\n",
              "      fill: #FFFFFF;\n",
              "    }\n",
              "  </style>\n",
              "\n",
              "      <script>\n",
              "        const buttonEl =\n",
              "          document.querySelector('#df-525c9fac-8b3e-4acd-b3ba-1596a2770c94 button.colab-df-convert');\n",
              "        buttonEl.style.display =\n",
              "          google.colab.kernel.accessAllowed ? 'block' : 'none';\n",
              "\n",
              "        async function convertToInteractive(key) {\n",
              "          const element = document.querySelector('#df-525c9fac-8b3e-4acd-b3ba-1596a2770c94');\n",
              "          const dataTable =\n",
              "            await google.colab.kernel.invokeFunction('convertToInteractive',\n",
              "                                                     [key], {});\n",
              "          if (!dataTable) return;\n",
              "\n",
              "          const docLinkHtml = 'Like what you see? Visit the ' +\n",
              "            '<a target=\"_blank\" href=https://colab.research.google.com/notebooks/data_table.ipynb>data table notebook</a>'\n",
              "            + ' to learn more about interactive tables.';\n",
              "          element.innerHTML = '';\n",
              "          dataTable['output_type'] = 'display_data';\n",
              "          await google.colab.output.renderOutput(dataTable, element);\n",
              "          const docLink = document.createElement('div');\n",
              "          docLink.innerHTML = docLinkHtml;\n",
              "          element.appendChild(docLink);\n",
              "        }\n",
              "      </script>\n",
              "    </div>\n",
              "  </div>\n",
              "  "
            ]
          },
          "metadata": {},
          "execution_count": 286
        }
      ]
    },
    {
      "cell_type": "code",
      "source": [
        "#conditional operation\n",
        "df['Gender'] = df['Status'].apply(lambda x: 'Male' if x=='Father' or x=='Son' else 'Female')\n",
        "df"
      ],
      "metadata": {
        "id": "Kf4AzkV_TAHE",
        "colab": {
          "base_uri": "https://localhost:8080/",
          "height": 175
        },
        "outputId": "fdade180-c1a9-4f4c-f7b5-a1e9b4f950e5"
      },
      "execution_count": null,
      "outputs": [
        {
          "output_type": "execute_result",
          "data": {
            "text/plain": [
              "     Name    Status  Birthyear  age  Gender\n",
              "0   Arjun    Father       1976   46    Male\n",
              "1  Nithya    Mother       1980   42  Female\n",
              "2  Dinesh       Son       2008   14    Male\n",
              "3    Maha  Daughter       2010   12  Female"
            ],
            "text/html": [
              "\n",
              "  <div id=\"df-7ba038d3-9e0e-4a16-8187-3e4c9e7147ee\">\n",
              "    <div class=\"colab-df-container\">\n",
              "      <div>\n",
              "<style scoped>\n",
              "    .dataframe tbody tr th:only-of-type {\n",
              "        vertical-align: middle;\n",
              "    }\n",
              "\n",
              "    .dataframe tbody tr th {\n",
              "        vertical-align: top;\n",
              "    }\n",
              "\n",
              "    .dataframe thead th {\n",
              "        text-align: right;\n",
              "    }\n",
              "</style>\n",
              "<table border=\"1\" class=\"dataframe\">\n",
              "  <thead>\n",
              "    <tr style=\"text-align: right;\">\n",
              "      <th></th>\n",
              "      <th>Name</th>\n",
              "      <th>Status</th>\n",
              "      <th>Birthyear</th>\n",
              "      <th>age</th>\n",
              "      <th>Gender</th>\n",
              "    </tr>\n",
              "  </thead>\n",
              "  <tbody>\n",
              "    <tr>\n",
              "      <th>0</th>\n",
              "      <td>Arjun</td>\n",
              "      <td>Father</td>\n",
              "      <td>1976</td>\n",
              "      <td>46</td>\n",
              "      <td>Male</td>\n",
              "    </tr>\n",
              "    <tr>\n",
              "      <th>1</th>\n",
              "      <td>Nithya</td>\n",
              "      <td>Mother</td>\n",
              "      <td>1980</td>\n",
              "      <td>42</td>\n",
              "      <td>Female</td>\n",
              "    </tr>\n",
              "    <tr>\n",
              "      <th>2</th>\n",
              "      <td>Dinesh</td>\n",
              "      <td>Son</td>\n",
              "      <td>2008</td>\n",
              "      <td>14</td>\n",
              "      <td>Male</td>\n",
              "    </tr>\n",
              "    <tr>\n",
              "      <th>3</th>\n",
              "      <td>Maha</td>\n",
              "      <td>Daughter</td>\n",
              "      <td>2010</td>\n",
              "      <td>12</td>\n",
              "      <td>Female</td>\n",
              "    </tr>\n",
              "  </tbody>\n",
              "</table>\n",
              "</div>\n",
              "      <button class=\"colab-df-convert\" onclick=\"convertToInteractive('df-7ba038d3-9e0e-4a16-8187-3e4c9e7147ee')\"\n",
              "              title=\"Convert this dataframe to an interactive table.\"\n",
              "              style=\"display:none;\">\n",
              "        \n",
              "  <svg xmlns=\"http://www.w3.org/2000/svg\" height=\"24px\"viewBox=\"0 0 24 24\"\n",
              "       width=\"24px\">\n",
              "    <path d=\"M0 0h24v24H0V0z\" fill=\"none\"/>\n",
              "    <path d=\"M18.56 5.44l.94 2.06.94-2.06 2.06-.94-2.06-.94-.94-2.06-.94 2.06-2.06.94zm-11 1L8.5 8.5l.94-2.06 2.06-.94-2.06-.94L8.5 2.5l-.94 2.06-2.06.94zm10 10l.94 2.06.94-2.06 2.06-.94-2.06-.94-.94-2.06-.94 2.06-2.06.94z\"/><path d=\"M17.41 7.96l-1.37-1.37c-.4-.4-.92-.59-1.43-.59-.52 0-1.04.2-1.43.59L10.3 9.45l-7.72 7.72c-.78.78-.78 2.05 0 2.83L4 21.41c.39.39.9.59 1.41.59.51 0 1.02-.2 1.41-.59l7.78-7.78 2.81-2.81c.8-.78.8-2.07 0-2.86zM5.41 20L4 18.59l7.72-7.72 1.47 1.35L5.41 20z\"/>\n",
              "  </svg>\n",
              "      </button>\n",
              "      \n",
              "  <style>\n",
              "    .colab-df-container {\n",
              "      display:flex;\n",
              "      flex-wrap:wrap;\n",
              "      gap: 12px;\n",
              "    }\n",
              "\n",
              "    .colab-df-convert {\n",
              "      background-color: #E8F0FE;\n",
              "      border: none;\n",
              "      border-radius: 50%;\n",
              "      cursor: pointer;\n",
              "      display: none;\n",
              "      fill: #1967D2;\n",
              "      height: 32px;\n",
              "      padding: 0 0 0 0;\n",
              "      width: 32px;\n",
              "    }\n",
              "\n",
              "    .colab-df-convert:hover {\n",
              "      background-color: #E2EBFA;\n",
              "      box-shadow: 0px 1px 2px rgba(60, 64, 67, 0.3), 0px 1px 3px 1px rgba(60, 64, 67, 0.15);\n",
              "      fill: #174EA6;\n",
              "    }\n",
              "\n",
              "    [theme=dark] .colab-df-convert {\n",
              "      background-color: #3B4455;\n",
              "      fill: #D2E3FC;\n",
              "    }\n",
              "\n",
              "    [theme=dark] .colab-df-convert:hover {\n",
              "      background-color: #434B5C;\n",
              "      box-shadow: 0px 1px 3px 1px rgba(0, 0, 0, 0.15);\n",
              "      filter: drop-shadow(0px 1px 2px rgba(0, 0, 0, 0.3));\n",
              "      fill: #FFFFFF;\n",
              "    }\n",
              "  </style>\n",
              "\n",
              "      <script>\n",
              "        const buttonEl =\n",
              "          document.querySelector('#df-7ba038d3-9e0e-4a16-8187-3e4c9e7147ee button.colab-df-convert');\n",
              "        buttonEl.style.display =\n",
              "          google.colab.kernel.accessAllowed ? 'block' : 'none';\n",
              "\n",
              "        async function convertToInteractive(key) {\n",
              "          const element = document.querySelector('#df-7ba038d3-9e0e-4a16-8187-3e4c9e7147ee');\n",
              "          const dataTable =\n",
              "            await google.colab.kernel.invokeFunction('convertToInteractive',\n",
              "                                                     [key], {});\n",
              "          if (!dataTable) return;\n",
              "\n",
              "          const docLinkHtml = 'Like what you see? Visit the ' +\n",
              "            '<a target=\"_blank\" href=https://colab.research.google.com/notebooks/data_table.ipynb>data table notebook</a>'\n",
              "            + ' to learn more about interactive tables.';\n",
              "          element.innerHTML = '';\n",
              "          dataTable['output_type'] = 'display_data';\n",
              "          await google.colab.output.renderOutput(dataTable, element);\n",
              "          const docLink = document.createElement('div');\n",
              "          docLink.innerHTML = docLinkHtml;\n",
              "          element.appendChild(docLink);\n",
              "        }\n",
              "      </script>\n",
              "    </div>\n",
              "  </div>\n",
              "  "
            ]
          },
          "metadata": {},
          "execution_count": 290
        }
      ]
    }
  ]
}